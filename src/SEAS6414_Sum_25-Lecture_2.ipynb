{
 "cells": [
  {
   "cell_type": "markdown",
   "id": "3ZhxJV68AeUa",
   "metadata": {
    "id": "3ZhxJV68AeUa"
   },
   "source": [
    "![Monogram_250x186.png](data:image/png;base64,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)"
   ]
  },
  {
   "cell_type": "code",
   "execution_count": null,
   "id": "3f44eca7",
   "metadata": {},
   "outputs": [],
   "source": [
    "# Author:  Dr K Clements\n",
    "# email: kenclements@gwu.edu\n",
    "# Created Date: 8/8/2024\n",
    "# Last Modified: 5/30/2025"
   ]
  },
  {
   "cell_type": "markdown",
   "id": "47869c53",
   "metadata": {},
   "source": [
    "### **SEAS 6414 Lecture 2 Notebook**"
   ]
  },
  {
   "cell_type": "code",
   "execution_count": 2,
   "id": "initial_id",
   "metadata": {
    "collapsed": true,
    "id": "initial_id"
   },
   "outputs": [],
   "source": [
    "# Loading necessary libraries\n",
    "import numpy as np\n",
    "import pandas as pd\n",
    "import warnings\n",
    "\n",
    "warnings.filterwarnings(\"ignore\") # Suppress warnings from pandas and numpy\n",
    "\n",
    "import pdb # For debugging purposes\n"
   ]
  },
  {
   "cell_type": "code",
   "execution_count": 5,
   "id": "b296540982580aea",
   "metadata": {
    "id": "b296540982580aea"
   },
   "outputs": [],
   "source": [
    "# A Pandas Series example.  # A Series is a one-dimensional array-like object that can hold any data type.\n",
    "series_A = pd.Series([1,2,3,4,5])"
   ]
  },
  {
   "cell_type": "code",
   "execution_count": 7,
   "id": "b3b819da56d14179",
   "metadata": {
    "colab": {
     "base_uri": "https://localhost:8080/",
     "height": 241
    },
    "executionInfo": {
     "elapsed": 139,
     "status": "ok",
     "timestamp": 1731716839681,
     "user": {
      "displayName": "Ken Clements",
      "userId": "01172872815397642559"
     },
     "user_tz": 300
    },
    "id": "b3b819da56d14179",
    "outputId": "562cc4f0-f6db-4c33-ec27-220c7996ecef"
   },
   "outputs": [
    {
     "data": {
      "text/plain": [
       "pandas.core.series.Series"
      ]
     },
     "execution_count": 7,
     "metadata": {},
     "output_type": "execute_result"
    }
   ],
   "source": [
    "type(series_A)"
   ]
  },
  {
   "cell_type": "code",
   "execution_count": 4,
   "id": "d8f2f9f593bcc077",
   "metadata": {
    "colab": {
     "base_uri": "https://localhost:8080/"
    },
    "executionInfo": {
     "elapsed": 156,
     "status": "ok",
     "timestamp": 1731716841854,
     "user": {
      "displayName": "Ken Clements",
      "userId": "01172872815397642559"
     },
     "user_tz": 300
    },
    "id": "d8f2f9f593bcc077",
    "outputId": "0209f931-6e28-429d-853d-ffe8c48dd3c5"
   },
   "outputs": [
    {
     "data": {
      "text/plain": [
       "RangeIndex(start=0, stop=5, step=1)"
      ]
     },
     "execution_count": 4,
     "metadata": {},
     "output_type": "execute_result"
    }
   ],
   "source": [
    "# A Series can be indexed like a list or an array.\n",
    "# You can access elements by their index.\n",
    "series.index"
   ]
  },
  {
   "cell_type": "code",
   "execution_count": 8,
   "id": "a561855932034313",
   "metadata": {
    "id": "a561855932034313"
   },
   "outputs": [],
   "source": [
    "# Creating a Series with custom indices.\n",
    "series2 = pd.Series([4, 7, -5, 3], index=[\"d\", \"b\", \"a\", \"c\"])"
   ]
  },
  {
   "cell_type": "code",
   "execution_count": 7,
   "id": "a5cfc69a633269eb",
   "metadata": {
    "colab": {
     "base_uri": "https://localhost:8080/",
     "height": 210
    },
    "executionInfo": {
     "elapsed": 161,
     "status": "ok",
     "timestamp": 1731626688944,
     "user": {
      "displayName": "Ken Clements",
      "userId": "01172872815397642559"
     },
     "user_tz": 300
    },
    "id": "a5cfc69a633269eb",
    "outputId": "c87d1fac-7547-412e-a111-acba3ac667b4"
   },
   "outputs": [
    {
     "data": {
      "text/plain": [
       "d    4\n",
       "b    7\n",
       "a   -5\n",
       "c    3\n",
       "dtype: int64"
      ]
     },
     "execution_count": 7,
     "metadata": {},
     "output_type": "execute_result"
    }
   ],
   "source": [
    "series2"
   ]
  },
  {
   "cell_type": "code",
   "execution_count": 13,
   "id": "7b2309ae66ca7916",
   "metadata": {
    "colab": {
     "base_uri": "https://localhost:8080/"
    },
    "executionInfo": {
     "elapsed": 168,
     "status": "ok",
     "timestamp": 1731626689734,
     "user": {
      "displayName": "Ken Clements",
      "userId": "01172872815397642559"
     },
     "user_tz": 300
    },
    "id": "7b2309ae66ca7916",
    "outputId": "783237c2-3d12-4105-b9e4-8cca608889a2"
   },
   "outputs": [
    {
     "name": "stdout",
     "output_type": "stream",
     "text": [
      "-5\n"
     ]
    }
   ],
   "source": [
    "# Accessing elements by index label.\n",
    "print(series2['a'])"
   ]
  },
  {
   "cell_type": "code",
   "execution_count": 9,
   "id": "9aHBAHlvA68m",
   "metadata": {
    "colab": {
     "base_uri": "https://localhost:8080/"
    },
    "executionInfo": {
     "elapsed": 174,
     "status": "ok",
     "timestamp": 1731627049979,
     "user": {
      "displayName": "Ken Clements",
      "userId": "01172872815397642559"
     },
     "user_tz": 300
    },
    "id": "9aHBAHlvA68m",
    "outputId": "b32575d1-781c-4c6d-aab1-8622f174a5d1"
   },
   "outputs": [
    {
     "data": {
      "text/plain": [
       "np.int64(4)"
      ]
     },
     "execution_count": 9,
     "metadata": {},
     "output_type": "execute_result"
    }
   ],
   "source": [
    "# You can access elements by their index location.\n",
    "series2[0]"
   ]
  },
  {
   "cell_type": "code",
   "execution_count": 11,
   "id": "bc602c42cc7878d8",
   "metadata": {
    "id": "bc602c42cc7878d8"
   },
   "outputs": [],
   "source": [
    "# Creating a Dictionary to hold state data that we will convert to a Series.\n",
    "sdata = {\"Ohio\": 35000, \"Texas\": 71000, \"Oregon\": 16000, \"Utah\": 5000}"
   ]
  },
  {
   "cell_type": "code",
   "execution_count": 12,
   "id": "b71bf6dcd009d9ee",
   "metadata": {
    "id": "b71bf6dcd009d9ee"
   },
   "outputs": [],
   "source": [
    "# Conversion is very simple; just pass the dictionary to the Series constructor.\n",
    "series3 = pd.Series(sdata)"
   ]
  },
  {
   "cell_type": "code",
   "execution_count": 13,
   "id": "b116885c92ff37c",
   "metadata": {
    "colab": {
     "base_uri": "https://localhost:8080/"
    },
    "executionInfo": {
     "elapsed": 174,
     "status": "ok",
     "timestamp": 1731626694163,
     "user": {
      "displayName": "Ken Clements",
      "userId": "01172872815397642559"
     },
     "user_tz": 300
    },
    "id": "b116885c92ff37c",
    "outputId": "9cbc77fd-03ca-4945-eab6-99e45fc70201"
   },
   "outputs": [
    {
     "data": {
      "text/plain": [
       "Index(['Ohio', 'Texas', 'Oregon', 'Utah'], dtype='object')"
      ]
     },
     "execution_count": 13,
     "metadata": {},
     "output_type": "execute_result"
    }
   ],
   "source": [
    "series3.index"
   ]
  },
  {
   "cell_type": "code",
   "execution_count": 19,
   "id": "60dd28f171430c43",
   "metadata": {
    "id": "60dd28f171430c43"
   },
   "outputs": [],
   "source": [
    "# Conversing a Series back to a dictionary is also straightforward.\n",
    "# The to_dict() method converts the Series back to a dictionary.\n",
    "sdata2 = series3.to_dict()"
   ]
  },
  {
   "cell_type": "code",
   "execution_count": 20,
   "id": "fb99fb2420b078b6",
   "metadata": {
    "colab": {
     "base_uri": "https://localhost:8080/"
    },
    "executionInfo": {
     "elapsed": 3,
     "status": "ok",
     "timestamp": 1731626696164,
     "user": {
      "displayName": "Ken Clements",
      "userId": "01172872815397642559"
     },
     "user_tz": 300
    },
    "id": "fb99fb2420b078b6",
    "outputId": "92f9d59c-b79d-44a4-b6d0-94cabd1454c8"
   },
   "outputs": [
    {
     "data": {
      "text/plain": [
       "{'Ohio': 35000, 'Texas': 71000, 'Oregon': 16000, 'Utah': 5000}"
      ]
     },
     "execution_count": 20,
     "metadata": {},
     "output_type": "execute_result"
    }
   ],
   "source": [
    "sdata2"
   ]
  },
  {
   "cell_type": "code",
   "execution_count": 14,
   "id": "fac77322d836cd23",
   "metadata": {
    "id": "fac77322d836cd23"
   },
   "outputs": [],
   "source": [
    "# DataFrames are also a core data structure in pandas, similar to a table in a database or an Excel spreadsheet.\n",
    "data = {\"state\": [\"Ohio\", \"Ohio\", \"Ohio\", \"Nevada\", \"Nevada\", \"Nevada\"],\n",
    "        \"year\": [2000, 2001, 2002, 2001, 2002, 2003],\n",
    "        \"pop\": [1.5, 1.7, 3.6, 2.4, 2.9, 3.2]}\n",
    "df1 = pd.DataFrame(data)"
   ]
  },
  {
   "cell_type": "code",
   "execution_count": 15,
   "id": "ffaa23aa26054ec5",
   "metadata": {
    "colab": {
     "base_uri": "https://localhost:8080/",
     "height": 238
    },
    "executionInfo": {
     "elapsed": 151,
     "status": "ok",
     "timestamp": 1731626727775,
     "user": {
      "displayName": "Ken Clements",
      "userId": "01172872815397642559"
     },
     "user_tz": 300
    },
    "id": "ffaa23aa26054ec5",
    "outputId": "7c6483a9-7521-4b39-a262-55281aa53e5e"
   },
   "outputs": [
    {
     "data": {
      "text/html": [
       "<div>\n",
       "<style scoped>\n",
       "    .dataframe tbody tr th:only-of-type {\n",
       "        vertical-align: middle;\n",
       "    }\n",
       "\n",
       "    .dataframe tbody tr th {\n",
       "        vertical-align: top;\n",
       "    }\n",
       "\n",
       "    .dataframe thead th {\n",
       "        text-align: right;\n",
       "    }\n",
       "</style>\n",
       "<table border=\"1\" class=\"dataframe\">\n",
       "  <thead>\n",
       "    <tr style=\"text-align: right;\">\n",
       "      <th></th>\n",
       "      <th>state</th>\n",
       "      <th>year</th>\n",
       "      <th>pop</th>\n",
       "    </tr>\n",
       "  </thead>\n",
       "  <tbody>\n",
       "    <tr>\n",
       "      <th>0</th>\n",
       "      <td>Ohio</td>\n",
       "      <td>2000</td>\n",
       "      <td>1.5</td>\n",
       "    </tr>\n",
       "    <tr>\n",
       "      <th>1</th>\n",
       "      <td>Ohio</td>\n",
       "      <td>2001</td>\n",
       "      <td>1.7</td>\n",
       "    </tr>\n",
       "    <tr>\n",
       "      <th>2</th>\n",
       "      <td>Ohio</td>\n",
       "      <td>2002</td>\n",
       "      <td>3.6</td>\n",
       "    </tr>\n",
       "    <tr>\n",
       "      <th>3</th>\n",
       "      <td>Nevada</td>\n",
       "      <td>2001</td>\n",
       "      <td>2.4</td>\n",
       "    </tr>\n",
       "    <tr>\n",
       "      <th>4</th>\n",
       "      <td>Nevada</td>\n",
       "      <td>2002</td>\n",
       "      <td>2.9</td>\n",
       "    </tr>\n",
       "    <tr>\n",
       "      <th>5</th>\n",
       "      <td>Nevada</td>\n",
       "      <td>2003</td>\n",
       "      <td>3.2</td>\n",
       "    </tr>\n",
       "  </tbody>\n",
       "</table>\n",
       "</div>"
      ],
      "text/plain": [
       "    state  year  pop\n",
       "0    Ohio  2000  1.5\n",
       "1    Ohio  2001  1.7\n",
       "2    Ohio  2002  3.6\n",
       "3  Nevada  2001  2.4\n",
       "4  Nevada  2002  2.9\n",
       "5  Nevada  2003  3.2"
      ]
     },
     "execution_count": 15,
     "metadata": {},
     "output_type": "execute_result"
    }
   ],
   "source": [
    "# DataFrames are a collection of Series objects, where each column is a Series.\n",
    "df1"
   ]
  },
  {
   "cell_type": "code",
   "execution_count": 16,
   "id": "6c3e340ac0177b95",
   "metadata": {
    "id": "6c3e340ac0177b95"
   },
   "outputs": [],
   "source": [
    "#Loading a CSV file into a DataFrame.\n",
    "df2 = pd.read_csv('../data/Auto.csv')"
   ]
  },
  {
   "cell_type": "code",
   "execution_count": 17,
   "id": "8eb100270143068",
   "metadata": {
    "colab": {
     "base_uri": "https://localhost:8080/",
     "height": 206
    },
    "executionInfo": {
     "elapsed": 148,
     "status": "ok",
     "timestamp": 1731626731281,
     "user": {
      "displayName": "Ken Clements",
      "userId": "01172872815397642559"
     },
     "user_tz": 300
    },
    "id": "8eb100270143068",
    "outputId": "2e5072bd-f45c-408c-880d-0821a08b3955"
   },
   "outputs": [
    {
     "data": {
      "text/html": [
       "<div>\n",
       "<style scoped>\n",
       "    .dataframe tbody tr th:only-of-type {\n",
       "        vertical-align: middle;\n",
       "    }\n",
       "\n",
       "    .dataframe tbody tr th {\n",
       "        vertical-align: top;\n",
       "    }\n",
       "\n",
       "    .dataframe thead th {\n",
       "        text-align: right;\n",
       "    }\n",
       "</style>\n",
       "<table border=\"1\" class=\"dataframe\">\n",
       "  <thead>\n",
       "    <tr style=\"text-align: right;\">\n",
       "      <th></th>\n",
       "      <th>mpg</th>\n",
       "      <th>cylinders</th>\n",
       "      <th>displacement</th>\n",
       "      <th>horsepower</th>\n",
       "      <th>weight</th>\n",
       "      <th>acceleration</th>\n",
       "      <th>year</th>\n",
       "      <th>origin</th>\n",
       "      <th>name</th>\n",
       "    </tr>\n",
       "  </thead>\n",
       "  <tbody>\n",
       "    <tr>\n",
       "      <th>0</th>\n",
       "      <td>18.0</td>\n",
       "      <td>8</td>\n",
       "      <td>307.0</td>\n",
       "      <td>130</td>\n",
       "      <td>3504</td>\n",
       "      <td>12.0</td>\n",
       "      <td>70</td>\n",
       "      <td>1</td>\n",
       "      <td>chevrolet chevelle malibu</td>\n",
       "    </tr>\n",
       "    <tr>\n",
       "      <th>1</th>\n",
       "      <td>15.0</td>\n",
       "      <td>8</td>\n",
       "      <td>350.0</td>\n",
       "      <td>165</td>\n",
       "      <td>3693</td>\n",
       "      <td>11.5</td>\n",
       "      <td>70</td>\n",
       "      <td>1</td>\n",
       "      <td>buick skylark 320</td>\n",
       "    </tr>\n",
       "    <tr>\n",
       "      <th>2</th>\n",
       "      <td>18.0</td>\n",
       "      <td>8</td>\n",
       "      <td>318.0</td>\n",
       "      <td>150</td>\n",
       "      <td>3436</td>\n",
       "      <td>11.0</td>\n",
       "      <td>70</td>\n",
       "      <td>1</td>\n",
       "      <td>plymouth satellite</td>\n",
       "    </tr>\n",
       "    <tr>\n",
       "      <th>3</th>\n",
       "      <td>16.0</td>\n",
       "      <td>8</td>\n",
       "      <td>304.0</td>\n",
       "      <td>150</td>\n",
       "      <td>3433</td>\n",
       "      <td>12.0</td>\n",
       "      <td>70</td>\n",
       "      <td>1</td>\n",
       "      <td>amc rebel sst</td>\n",
       "    </tr>\n",
       "    <tr>\n",
       "      <th>4</th>\n",
       "      <td>17.0</td>\n",
       "      <td>8</td>\n",
       "      <td>302.0</td>\n",
       "      <td>140</td>\n",
       "      <td>3449</td>\n",
       "      <td>10.5</td>\n",
       "      <td>70</td>\n",
       "      <td>1</td>\n",
       "      <td>ford torino</td>\n",
       "    </tr>\n",
       "  </tbody>\n",
       "</table>\n",
       "</div>"
      ],
      "text/plain": [
       "    mpg  cylinders  displacement horsepower  weight  acceleration  year  \\\n",
       "0  18.0          8         307.0        130    3504          12.0    70   \n",
       "1  15.0          8         350.0        165    3693          11.5    70   \n",
       "2  18.0          8         318.0        150    3436          11.0    70   \n",
       "3  16.0          8         304.0        150    3433          12.0    70   \n",
       "4  17.0          8         302.0        140    3449          10.5    70   \n",
       "\n",
       "   origin                       name  \n",
       "0       1  chevrolet chevelle malibu  \n",
       "1       1          buick skylark 320  \n",
       "2       1         plymouth satellite  \n",
       "3       1              amc rebel sst  \n",
       "4       1                ford torino  "
      ]
     },
     "execution_count": 17,
     "metadata": {},
     "output_type": "execute_result"
    }
   ],
   "source": [
    "# We can inspect the first few rows of the DataFrame using the head() method.\n",
    "df2.head(5)"
   ]
  },
  {
   "cell_type": "code",
   "execution_count": 28,
   "id": "43ad0e908f3d76db",
   "metadata": {
    "colab": {
     "base_uri": "https://localhost:8080/",
     "height": 81
    },
    "executionInfo": {
     "elapsed": 141,
     "status": "ok",
     "timestamp": 1731626739251,
     "user": {
      "displayName": "Ken Clements",
      "userId": "01172872815397642559"
     },
     "user_tz": 300
    },
    "id": "43ad0e908f3d76db",
    "outputId": "0b1cdb70-4f44-4979-b45d-9f55b852d755"
   },
   "outputs": [
    {
     "data": {
      "text/html": [
       "<div>\n",
       "<style scoped>\n",
       "    .dataframe tbody tr th:only-of-type {\n",
       "        vertical-align: middle;\n",
       "    }\n",
       "\n",
       "    .dataframe tbody tr th {\n",
       "        vertical-align: top;\n",
       "    }\n",
       "\n",
       "    .dataframe thead th {\n",
       "        text-align: right;\n",
       "    }\n",
       "</style>\n",
       "<table border=\"1\" class=\"dataframe\">\n",
       "  <thead>\n",
       "    <tr style=\"text-align: right;\">\n",
       "      <th></th>\n",
       "      <th>mpg</th>\n",
       "      <th>cylinders</th>\n",
       "      <th>displacement</th>\n",
       "      <th>horsepower</th>\n",
       "      <th>weight</th>\n",
       "      <th>acceleration</th>\n",
       "      <th>year</th>\n",
       "      <th>origin</th>\n",
       "      <th>name</th>\n",
       "    </tr>\n",
       "  </thead>\n",
       "  <tbody>\n",
       "    <tr>\n",
       "      <th>396</th>\n",
       "      <td>31.0</td>\n",
       "      <td>4</td>\n",
       "      <td>119.0</td>\n",
       "      <td>82</td>\n",
       "      <td>2720</td>\n",
       "      <td>19.4</td>\n",
       "      <td>82</td>\n",
       "      <td>1</td>\n",
       "      <td>chevy s-10</td>\n",
       "    </tr>\n",
       "  </tbody>\n",
       "</table>\n",
       "</div>"
      ],
      "text/plain": [
       "      mpg  cylinders  displacement horsepower  weight  acceleration  year  \\\n",
       "396  31.0          4         119.0         82    2720          19.4    82   \n",
       "\n",
       "     origin        name  \n",
       "396       1  chevy s-10  "
      ]
     },
     "execution_count": 28,
     "metadata": {},
     "output_type": "execute_result"
    }
   ],
   "source": [
    "# Tailing the DataFrame shows the last few rows.\n",
    "df2.tail(1)"
   ]
  },
  {
   "cell_type": "code",
   "execution_count": 21,
   "id": "3b03d415419431fc",
   "metadata": {
    "colab": {
     "base_uri": "https://localhost:8080/"
    },
    "executionInfo": {
     "elapsed": 163,
     "status": "ok",
     "timestamp": 1731626740297,
     "user": {
      "displayName": "Ken Clements",
      "userId": "01172872815397642559"
     },
     "user_tz": 300
    },
    "id": "3b03d415419431fc",
    "outputId": "d90c3198-9687-4fa4-98fa-fc846fbee947"
   },
   "outputs": [
    {
     "name": "stdout",
     "output_type": "stream",
     "text": [
      "<class 'pandas.core.frame.DataFrame'>\n",
      "RangeIndex: 397 entries, 0 to 396\n",
      "Data columns (total 10 columns):\n",
      " #   Column        Non-Null Count  Dtype  \n",
      "---  ------        --------------  -----  \n",
      " 0   mpg           397 non-null    float64\n",
      " 1   cylinders     397 non-null    int64  \n",
      " 2   displacement  397 non-null    float64\n",
      " 3   horsepower    397 non-null    object \n",
      " 4   weight        397 non-null    int64  \n",
      " 5   acceleration  397 non-null    float64\n",
      " 6   year          397 non-null    int64  \n",
      " 7   origin        397 non-null    int64  \n",
      " 8   name          397 non-null    object \n",
      " 9   horsepower1   392 non-null    Int64  \n",
      "dtypes: Int64(1), float64(3), int64(4), object(2)\n",
      "memory usage: 31.5+ KB\n"
     ]
    }
   ],
   "source": [
    "#Info is a powerful method that provides a concise summary of the DataFrame.  Including the number of non-null entries, data types, and memory usage.\n",
    "df2.info()"
   ]
  },
  {
   "cell_type": "code",
   "execution_count": 19,
   "id": "c4b950a6",
   "metadata": {},
   "outputs": [],
   "source": [
    "# Convert the 'horsepower' column to numeric, coercing errors to NaN, then convert to integer (nullable Int64 to handle NaNs)\n",
    "df2['horsepower1'] = pd.to_numeric(df2['horsepower'], errors='coerce').astype('Int64')"
   ]
  },
  {
   "cell_type": "code",
   "execution_count": 20,
   "id": "f2d0856c",
   "metadata": {},
   "outputs": [
    {
     "data": {
      "text/html": [
       "<div>\n",
       "<style scoped>\n",
       "    .dataframe tbody tr th:only-of-type {\n",
       "        vertical-align: middle;\n",
       "    }\n",
       "\n",
       "    .dataframe tbody tr th {\n",
       "        vertical-align: top;\n",
       "    }\n",
       "\n",
       "    .dataframe thead th {\n",
       "        text-align: right;\n",
       "    }\n",
       "</style>\n",
       "<table border=\"1\" class=\"dataframe\">\n",
       "  <thead>\n",
       "    <tr style=\"text-align: right;\">\n",
       "      <th></th>\n",
       "      <th>mpg</th>\n",
       "      <th>cylinders</th>\n",
       "      <th>displacement</th>\n",
       "      <th>horsepower</th>\n",
       "      <th>weight</th>\n",
       "      <th>acceleration</th>\n",
       "      <th>year</th>\n",
       "      <th>origin</th>\n",
       "      <th>name</th>\n",
       "      <th>horsepower1</th>\n",
       "    </tr>\n",
       "  </thead>\n",
       "  <tbody>\n",
       "    <tr>\n",
       "      <th>0</th>\n",
       "      <td>18.0</td>\n",
       "      <td>8</td>\n",
       "      <td>307.0</td>\n",
       "      <td>130</td>\n",
       "      <td>3504</td>\n",
       "      <td>12.0</td>\n",
       "      <td>70</td>\n",
       "      <td>1</td>\n",
       "      <td>chevrolet chevelle malibu</td>\n",
       "      <td>130</td>\n",
       "    </tr>\n",
       "    <tr>\n",
       "      <th>1</th>\n",
       "      <td>15.0</td>\n",
       "      <td>8</td>\n",
       "      <td>350.0</td>\n",
       "      <td>165</td>\n",
       "      <td>3693</td>\n",
       "      <td>11.5</td>\n",
       "      <td>70</td>\n",
       "      <td>1</td>\n",
       "      <td>buick skylark 320</td>\n",
       "      <td>165</td>\n",
       "    </tr>\n",
       "    <tr>\n",
       "      <th>2</th>\n",
       "      <td>18.0</td>\n",
       "      <td>8</td>\n",
       "      <td>318.0</td>\n",
       "      <td>150</td>\n",
       "      <td>3436</td>\n",
       "      <td>11.0</td>\n",
       "      <td>70</td>\n",
       "      <td>1</td>\n",
       "      <td>plymouth satellite</td>\n",
       "      <td>150</td>\n",
       "    </tr>\n",
       "    <tr>\n",
       "      <th>3</th>\n",
       "      <td>16.0</td>\n",
       "      <td>8</td>\n",
       "      <td>304.0</td>\n",
       "      <td>150</td>\n",
       "      <td>3433</td>\n",
       "      <td>12.0</td>\n",
       "      <td>70</td>\n",
       "      <td>1</td>\n",
       "      <td>amc rebel sst</td>\n",
       "      <td>150</td>\n",
       "    </tr>\n",
       "    <tr>\n",
       "      <th>4</th>\n",
       "      <td>17.0</td>\n",
       "      <td>8</td>\n",
       "      <td>302.0</td>\n",
       "      <td>140</td>\n",
       "      <td>3449</td>\n",
       "      <td>10.5</td>\n",
       "      <td>70</td>\n",
       "      <td>1</td>\n",
       "      <td>ford torino</td>\n",
       "      <td>140</td>\n",
       "    </tr>\n",
       "    <tr>\n",
       "      <th>...</th>\n",
       "      <td>...</td>\n",
       "      <td>...</td>\n",
       "      <td>...</td>\n",
       "      <td>...</td>\n",
       "      <td>...</td>\n",
       "      <td>...</td>\n",
       "      <td>...</td>\n",
       "      <td>...</td>\n",
       "      <td>...</td>\n",
       "      <td>...</td>\n",
       "    </tr>\n",
       "    <tr>\n",
       "      <th>392</th>\n",
       "      <td>27.0</td>\n",
       "      <td>4</td>\n",
       "      <td>140.0</td>\n",
       "      <td>86</td>\n",
       "      <td>2790</td>\n",
       "      <td>15.6</td>\n",
       "      <td>82</td>\n",
       "      <td>1</td>\n",
       "      <td>ford mustang gl</td>\n",
       "      <td>86</td>\n",
       "    </tr>\n",
       "    <tr>\n",
       "      <th>393</th>\n",
       "      <td>44.0</td>\n",
       "      <td>4</td>\n",
       "      <td>97.0</td>\n",
       "      <td>52</td>\n",
       "      <td>2130</td>\n",
       "      <td>24.6</td>\n",
       "      <td>82</td>\n",
       "      <td>2</td>\n",
       "      <td>vw pickup</td>\n",
       "      <td>52</td>\n",
       "    </tr>\n",
       "    <tr>\n",
       "      <th>394</th>\n",
       "      <td>32.0</td>\n",
       "      <td>4</td>\n",
       "      <td>135.0</td>\n",
       "      <td>84</td>\n",
       "      <td>2295</td>\n",
       "      <td>11.6</td>\n",
       "      <td>82</td>\n",
       "      <td>1</td>\n",
       "      <td>dodge rampage</td>\n",
       "      <td>84</td>\n",
       "    </tr>\n",
       "    <tr>\n",
       "      <th>395</th>\n",
       "      <td>28.0</td>\n",
       "      <td>4</td>\n",
       "      <td>120.0</td>\n",
       "      <td>79</td>\n",
       "      <td>2625</td>\n",
       "      <td>18.6</td>\n",
       "      <td>82</td>\n",
       "      <td>1</td>\n",
       "      <td>ford ranger</td>\n",
       "      <td>79</td>\n",
       "    </tr>\n",
       "    <tr>\n",
       "      <th>396</th>\n",
       "      <td>31.0</td>\n",
       "      <td>4</td>\n",
       "      <td>119.0</td>\n",
       "      <td>82</td>\n",
       "      <td>2720</td>\n",
       "      <td>19.4</td>\n",
       "      <td>82</td>\n",
       "      <td>1</td>\n",
       "      <td>chevy s-10</td>\n",
       "      <td>82</td>\n",
       "    </tr>\n",
       "  </tbody>\n",
       "</table>\n",
       "<p>397 rows × 10 columns</p>\n",
       "</div>"
      ],
      "text/plain": [
       "      mpg  cylinders  displacement horsepower  weight  acceleration  year  \\\n",
       "0    18.0          8         307.0        130    3504          12.0    70   \n",
       "1    15.0          8         350.0        165    3693          11.5    70   \n",
       "2    18.0          8         318.0        150    3436          11.0    70   \n",
       "3    16.0          8         304.0        150    3433          12.0    70   \n",
       "4    17.0          8         302.0        140    3449          10.5    70   \n",
       "..    ...        ...           ...        ...     ...           ...   ...   \n",
       "392  27.0          4         140.0         86    2790          15.6    82   \n",
       "393  44.0          4          97.0         52    2130          24.6    82   \n",
       "394  32.0          4         135.0         84    2295          11.6    82   \n",
       "395  28.0          4         120.0         79    2625          18.6    82   \n",
       "396  31.0          4         119.0         82    2720          19.4    82   \n",
       "\n",
       "     origin                       name  horsepower1  \n",
       "0         1  chevrolet chevelle malibu          130  \n",
       "1         1          buick skylark 320          165  \n",
       "2         1         plymouth satellite          150  \n",
       "3         1              amc rebel sst          150  \n",
       "4         1                ford torino          140  \n",
       "..      ...                        ...          ...  \n",
       "392       1            ford mustang gl           86  \n",
       "393       2                  vw pickup           52  \n",
       "394       1              dodge rampage           84  \n",
       "395       1                ford ranger           79  \n",
       "396       1                 chevy s-10           82  \n",
       "\n",
       "[397 rows x 10 columns]"
      ]
     },
     "execution_count": 20,
     "metadata": {},
     "output_type": "execute_result"
    }
   ],
   "source": [
    "df2"
   ]
  },
  {
   "cell_type": "code",
   "execution_count": 32,
   "id": "3c8cbec530384b43",
   "metadata": {
    "colab": {
     "base_uri": "https://localhost:8080/",
     "height": 458
    },
    "executionInfo": {
     "elapsed": 151,
     "status": "ok",
     "timestamp": 1731626754325,
     "user": {
      "displayName": "Ken Clements",
      "userId": "01172872815397642559"
     },
     "user_tz": 300
    },
    "id": "3c8cbec530384b43",
    "outputId": "99f24576-cbbe-4fe9-b4e8-13cbcbdb9714"
   },
   "outputs": [
    {
     "name": "stdout",
     "output_type": "stream",
     "text": [
      "0      18.0\n",
      "1      15.0\n",
      "2      18.0\n",
      "3      16.0\n",
      "4      17.0\n",
      "       ... \n",
      "392    27.0\n",
      "393    44.0\n",
      "394    32.0\n",
      "395    28.0\n",
      "396    31.0\n",
      "Name: mpg, Length: 397, dtype: float64\n"
     ]
    }
   ],
   "source": [
    "# You can access elements by index label.  The column index is used to access columns.\n",
    "print(df2.mpg)"
   ]
  },
  {
   "cell_type": "code",
   "execution_count": 33,
   "id": "d899cce3",
   "metadata": {},
   "outputs": [
    {
     "name": "stdout",
     "output_type": "stream",
     "text": [
      "0      18.0\n",
      "1      15.0\n",
      "2      18.0\n",
      "3      16.0\n",
      "4      17.0\n",
      "       ... \n",
      "392    27.0\n",
      "393    44.0\n",
      "394    32.0\n",
      "395    28.0\n",
      "396    31.0\n",
      "Name: mpg, Length: 397, dtype: float64\n"
     ]
    }
   ],
   "source": [
    "# Can also access columns using the bracket approch.\n",
    "print(df2['mpg'])"
   ]
  },
  {
   "cell_type": "code",
   "execution_count": 25,
   "id": "f5f940988f258fb6",
   "metadata": {
    "colab": {
     "base_uri": "https://localhost:8080/"
    },
    "executionInfo": {
     "elapsed": 168,
     "status": "ok",
     "timestamp": 1731627322944,
     "user": {
      "displayName": "Ken Clements",
      "userId": "01172872815397642559"
     },
     "user_tz": 300
    },
    "id": "f5f940988f258fb6",
    "outputId": "54e304d2-eb2f-423d-a06d-3351e4bc168a"
   },
   "outputs": [
    {
     "data": {
      "text/plain": [
       "False"
      ]
     },
     "execution_count": 25,
     "metadata": {},
     "output_type": "execute_result"
    }
   ],
   "source": [
    "# Numpy arrays can be used to populate a Series.\n",
    "# Here we create a Series from a numpy array with custom indices.\n",
    "obj = pd.Series(np.arange(3), index=[\"a\", \"b\", \"c\"])\n",
    "\n",
    "# the in operator checks if a label exists in the Series index.\n",
    "'d' in obj.index\n"
   ]
  },
  {
   "cell_type": "code",
   "execution_count": 23,
   "id": "16ad243b",
   "metadata": {},
   "outputs": [
    {
     "data": {
      "text/plain": [
       "array([0, 1, 2])"
      ]
     },
     "execution_count": 23,
     "metadata": {},
     "output_type": "execute_result"
    }
   ],
   "source": [
    "np.arange(3)"
   ]
  },
  {
   "cell_type": "code",
   "execution_count": 26,
   "id": "6045645aaa68513e",
   "metadata": {
    "colab": {
     "base_uri": "https://localhost:8080/",
     "height": 178
    },
    "executionInfo": {
     "elapsed": 161,
     "status": "ok",
     "timestamp": 1731627332435,
     "user": {
      "displayName": "Ken Clements",
      "userId": "01172872815397642559"
     },
     "user_tz": 300
    },
    "id": "6045645aaa68513e",
    "outputId": "ba5df8f0-2fe1-4a7b-c711-c6c066df5d00"
   },
   "outputs": [
    {
     "data": {
      "text/plain": [
       "c    2\n",
       "b    1\n",
       "a    0\n",
       "dtype: int64"
      ]
     },
     "execution_count": 26,
     "metadata": {},
     "output_type": "execute_result"
    }
   ],
   "source": [
    "#reindex() is used to change the order of the Series index.  This does not change the data, but rather the order of the index labels.\n",
    "obj.reindex(['c', 'b', 'a'])"
   ]
  },
  {
   "cell_type": "code",
   "execution_count": 27,
   "id": "IiWIhNV1CGlI",
   "metadata": {
    "colab": {
     "base_uri": "https://localhost:8080/",
     "height": 178
    },
    "executionInfo": {
     "elapsed": 160,
     "status": "ok",
     "timestamp": 1731627349333,
     "user": {
      "displayName": "Ken Clements",
      "userId": "01172872815397642559"
     },
     "user_tz": 300
    },
    "id": "IiWIhNV1CGlI",
    "outputId": "c2f272dd-1332-49fe-97bf-524d39bdd41b"
   },
   "outputs": [
    {
     "data": {
      "text/plain": [
       "a    0\n",
       "b    1\n",
       "c    2\n",
       "dtype: int64"
      ]
     },
     "execution_count": 27,
     "metadata": {},
     "output_type": "execute_result"
    }
   ],
   "source": [
    "# Notice that the reindexing does not permanently change the Series unless you assign it back to the variable.\n",
    "obj"
   ]
  },
  {
   "cell_type": "code",
   "execution_count": 31,
   "id": "7f531605967de65f",
   "metadata": {
    "id": "7f531605967de65f"
   },
   "outputs": [],
   "source": [
    "obj1 = obj.reindex(['c', 'a', 'b'])"
   ]
  },
  {
   "cell_type": "code",
   "execution_count": 29,
   "id": "4a4a5df1690d6648",
   "metadata": {
    "colab": {
     "base_uri": "https://localhost:8080/",
     "height": 178
    },
    "executionInfo": {
     "elapsed": 132,
     "status": "ok",
     "timestamp": 1731626764884,
     "user": {
      "displayName": "Ken Clements",
      "userId": "01172872815397642559"
     },
     "user_tz": 300
    },
    "id": "4a4a5df1690d6648",
    "outputId": "ad8cd63b-4a5d-4438-821b-60307fa795f7"
   },
   "outputs": [
    {
     "data": {
      "text/plain": [
       "c    2\n",
       "a    0\n",
       "b    1\n",
       "dtype: int64"
      ]
     },
     "execution_count": 29,
     "metadata": {},
     "output_type": "execute_result"
    }
   ],
   "source": [
    "obj1"
   ]
  },
  {
   "cell_type": "code",
   "execution_count": 43,
   "id": "bcbf78041c4baff3",
   "metadata": {
    "id": "bcbf78041c4baff3"
   },
   "outputs": [],
   "source": [
    "# a new Series can be created by reindexing an existing Series.  Dropping an index label removes it from the Series.\n",
    "new_obj = obj.drop(\"c\")\n"
   ]
  },
  {
   "cell_type": "code",
   "execution_count": 44,
   "id": "cad01fa4324a0223",
   "metadata": {
    "colab": {
     "base_uri": "https://localhost:8080/",
     "height": 147
    },
    "executionInfo": {
     "elapsed": 170,
     "status": "ok",
     "timestamp": 1731626766043,
     "user": {
      "displayName": "Ken Clements",
      "userId": "01172872815397642559"
     },
     "user_tz": 300
    },
    "id": "cad01fa4324a0223",
    "outputId": "c1d7f726-da91-43c3-d793-68f05e66094c"
   },
   "outputs": [
    {
     "data": {
      "text/plain": [
       "a    0\n",
       "b    1\n",
       "dtype: int64"
      ]
     },
     "execution_count": 44,
     "metadata": {},
     "output_type": "execute_result"
    }
   ],
   "source": [
    "new_obj"
   ]
  },
  {
   "cell_type": "code",
   "execution_count": 45,
   "id": "c064a10454fc2c1b",
   "metadata": {
    "colab": {
     "base_uri": "https://localhost:8080/",
     "height": 178
    },
    "executionInfo": {
     "elapsed": 164,
     "status": "ok",
     "timestamp": 1731626766887,
     "user": {
      "displayName": "Ken Clements",
      "userId": "01172872815397642559"
     },
     "user_tz": 300
    },
    "id": "c064a10454fc2c1b",
    "outputId": "0a39c1f6-8a2b-4fda-e9b5-ea767ba9893f"
   },
   "outputs": [
    {
     "data": {
      "text/plain": [
       "a    0\n",
       "b    1\n",
       "c    2\n",
       "dtype: int64"
      ]
     },
     "execution_count": 45,
     "metadata": {},
     "output_type": "execute_result"
    }
   ],
   "source": [
    "# We preserved the original Series, obj, and created a new Series, new_obj, without the 'c' index label.\n",
    "obj"
   ]
  },
  {
   "cell_type": "code",
   "execution_count": 32,
   "id": "bba47fe84850a18f",
   "metadata": {
    "id": "bba47fe84850a18f"
   },
   "outputs": [],
   "source": [
    "# inplace = True modifies the original Series in place, removing the specified index label.\n",
    "new_obj = obj.drop(\"c\", inplace=True)\n"
   ]
  },
  {
   "cell_type": "code",
   "execution_count": 33,
   "id": "b05509d9286005b4",
   "metadata": {
    "colab": {
     "base_uri": "https://localhost:8080/",
     "height": 147
    },
    "executionInfo": {
     "elapsed": 140,
     "status": "ok",
     "timestamp": 1731626768115,
     "user": {
      "displayName": "Ken Clements",
      "userId": "01172872815397642559"
     },
     "user_tz": 300
    },
    "id": "b05509d9286005b4",
    "outputId": "a0f8b905-1e68-46ea-c15d-f0f96563f64b"
   },
   "outputs": [
    {
     "data": {
      "text/plain": [
       "a    0\n",
       "b    1\n",
       "dtype: int64"
      ]
     },
     "execution_count": 33,
     "metadata": {},
     "output_type": "execute_result"
    }
   ],
   "source": [
    "obj"
   ]
  },
  {
   "cell_type": "code",
   "execution_count": 34,
   "id": "4e4d90d4",
   "metadata": {},
   "outputs": [
    {
     "data": {
      "text/html": [
       "<div>\n",
       "<style scoped>\n",
       "    .dataframe tbody tr th:only-of-type {\n",
       "        vertical-align: middle;\n",
       "    }\n",
       "\n",
       "    .dataframe tbody tr th {\n",
       "        vertical-align: top;\n",
       "    }\n",
       "\n",
       "    .dataframe thead th {\n",
       "        text-align: right;\n",
       "    }\n",
       "</style>\n",
       "<table border=\"1\" class=\"dataframe\">\n",
       "  <thead>\n",
       "    <tr style=\"text-align: right;\">\n",
       "      <th></th>\n",
       "      <th>A</th>\n",
       "      <th>B</th>\n",
       "      <th>C</th>\n",
       "      <th>D</th>\n",
       "    </tr>\n",
       "  </thead>\n",
       "  <tbody>\n",
       "    <tr>\n",
       "      <th>0</th>\n",
       "      <td>0.239464</td>\n",
       "      <td>-0.436548</td>\n",
       "      <td>2.735388</td>\n",
       "      <td>1.888701</td>\n",
       "    </tr>\n",
       "    <tr>\n",
       "      <th>1</th>\n",
       "      <td>0.630921</td>\n",
       "      <td>-0.859817</td>\n",
       "      <td>1.773368</td>\n",
       "      <td>0.423561</td>\n",
       "    </tr>\n",
       "    <tr>\n",
       "      <th>2</th>\n",
       "      <td>-0.695264</td>\n",
       "      <td>1.187744</td>\n",
       "      <td>-1.709530</td>\n",
       "      <td>-0.146463</td>\n",
       "    </tr>\n",
       "    <tr>\n",
       "      <th>3</th>\n",
       "      <td>-0.251878</td>\n",
       "      <td>0.124330</td>\n",
       "      <td>-0.554440</td>\n",
       "      <td>0.679328</td>\n",
       "    </tr>\n",
       "    <tr>\n",
       "      <th>4</th>\n",
       "      <td>0.279926</td>\n",
       "      <td>-0.080509</td>\n",
       "      <td>0.574238</td>\n",
       "      <td>-1.149833</td>\n",
       "    </tr>\n",
       "    <tr>\n",
       "      <th>5</th>\n",
       "      <td>-0.077368</td>\n",
       "      <td>0.547773</td>\n",
       "      <td>1.595722</td>\n",
       "      <td>0.021072</td>\n",
       "    </tr>\n",
       "    <tr>\n",
       "      <th>6</th>\n",
       "      <td>2.225721</td>\n",
       "      <td>1.274100</td>\n",
       "      <td>0.106386</td>\n",
       "      <td>1.078900</td>\n",
       "    </tr>\n",
       "    <tr>\n",
       "      <th>7</th>\n",
       "      <td>-0.702523</td>\n",
       "      <td>0.273032</td>\n",
       "      <td>2.174540</td>\n",
       "      <td>-0.027975</td>\n",
       "    </tr>\n",
       "    <tr>\n",
       "      <th>8</th>\n",
       "      <td>1.493980</td>\n",
       "      <td>2.085007</td>\n",
       "      <td>-0.251457</td>\n",
       "      <td>1.372666</td>\n",
       "    </tr>\n",
       "    <tr>\n",
       "      <th>9</th>\n",
       "      <td>-0.602571</td>\n",
       "      <td>0.741109</td>\n",
       "      <td>-1.503407</td>\n",
       "      <td>-0.816450</td>\n",
       "    </tr>\n",
       "    <tr>\n",
       "      <th>10</th>\n",
       "      <td>0.401283</td>\n",
       "      <td>-0.773796</td>\n",
       "      <td>-0.674759</td>\n",
       "      <td>1.034338</td>\n",
       "    </tr>\n",
       "    <tr>\n",
       "      <th>11</th>\n",
       "      <td>0.490911</td>\n",
       "      <td>0.963766</td>\n",
       "      <td>0.433641</td>\n",
       "      <td>-0.775943</td>\n",
       "    </tr>\n",
       "    <tr>\n",
       "      <th>12</th>\n",
       "      <td>-1.274085</td>\n",
       "      <td>-1.519587</td>\n",
       "      <td>-0.865340</td>\n",
       "      <td>-0.380768</td>\n",
       "    </tr>\n",
       "    <tr>\n",
       "      <th>13</th>\n",
       "      <td>-0.485637</td>\n",
       "      <td>0.345903</td>\n",
       "      <td>0.497260</td>\n",
       "      <td>-0.601937</td>\n",
       "    </tr>\n",
       "    <tr>\n",
       "      <th>14</th>\n",
       "      <td>-1.035047</td>\n",
       "      <td>-0.356222</td>\n",
       "      <td>-1.664277</td>\n",
       "      <td>-0.693084</td>\n",
       "    </tr>\n",
       "    <tr>\n",
       "      <th>15</th>\n",
       "      <td>0.473926</td>\n",
       "      <td>2.049772</td>\n",
       "      <td>0.027111</td>\n",
       "      <td>-0.406118</td>\n",
       "    </tr>\n",
       "    <tr>\n",
       "      <th>16</th>\n",
       "      <td>-0.606984</td>\n",
       "      <td>-0.213301</td>\n",
       "      <td>0.393874</td>\n",
       "      <td>1.930134</td>\n",
       "    </tr>\n",
       "    <tr>\n",
       "      <th>17</th>\n",
       "      <td>0.453704</td>\n",
       "      <td>0.134139</td>\n",
       "      <td>0.285296</td>\n",
       "      <td>-0.760575</td>\n",
       "    </tr>\n",
       "    <tr>\n",
       "      <th>18</th>\n",
       "      <td>0.183596</td>\n",
       "      <td>-1.433769</td>\n",
       "      <td>-1.254707</td>\n",
       "      <td>1.559931</td>\n",
       "    </tr>\n",
       "    <tr>\n",
       "      <th>19</th>\n",
       "      <td>0.112711</td>\n",
       "      <td>-0.159309</td>\n",
       "      <td>-0.392575</td>\n",
       "      <td>-0.191700</td>\n",
       "    </tr>\n",
       "  </tbody>\n",
       "</table>\n",
       "</div>"
      ],
      "text/plain": [
       "           A         B         C         D\n",
       "0   0.239464 -0.436548  2.735388  1.888701\n",
       "1   0.630921 -0.859817  1.773368  0.423561\n",
       "2  -0.695264  1.187744 -1.709530 -0.146463\n",
       "3  -0.251878  0.124330 -0.554440  0.679328\n",
       "4   0.279926 -0.080509  0.574238 -1.149833\n",
       "5  -0.077368  0.547773  1.595722  0.021072\n",
       "6   2.225721  1.274100  0.106386  1.078900\n",
       "7  -0.702523  0.273032  2.174540 -0.027975\n",
       "8   1.493980  2.085007 -0.251457  1.372666\n",
       "9  -0.602571  0.741109 -1.503407 -0.816450\n",
       "10  0.401283 -0.773796 -0.674759  1.034338\n",
       "11  0.490911  0.963766  0.433641 -0.775943\n",
       "12 -1.274085 -1.519587 -0.865340 -0.380768\n",
       "13 -0.485637  0.345903  0.497260 -0.601937\n",
       "14 -1.035047 -0.356222 -1.664277 -0.693084\n",
       "15  0.473926  2.049772  0.027111 -0.406118\n",
       "16 -0.606984 -0.213301  0.393874  1.930134\n",
       "17  0.453704  0.134139  0.285296 -0.760575\n",
       "18  0.183596 -1.433769 -1.254707  1.559931\n",
       "19  0.112711 -0.159309 -0.392575 -0.191700"
      ]
     },
     "execution_count": 34,
     "metadata": {},
     "output_type": "execute_result"
    }
   ],
   "source": [
    "# Create a DataFrame with 4 columns and 20 rows of random normal data\n",
    "# randn generates random numbers from a standard normal distribution (mean=0, std=1).\n",
    "random_df = pd.DataFrame(np.random.randn(20, 4), columns=['A', 'B', 'C', 'D'])\n",
    "random_df"
   ]
  },
  {
   "cell_type": "code",
   "execution_count": 35,
   "id": "f8b2f87f",
   "metadata": {},
   "outputs": [
    {
     "data": {
      "text/html": [
       "<div>\n",
       "<style scoped>\n",
       "    .dataframe tbody tr th:only-of-type {\n",
       "        vertical-align: middle;\n",
       "    }\n",
       "\n",
       "    .dataframe tbody tr th {\n",
       "        vertical-align: top;\n",
       "    }\n",
       "\n",
       "    .dataframe thead th {\n",
       "        text-align: right;\n",
       "    }\n",
       "</style>\n",
       "<table border=\"1\" class=\"dataframe\">\n",
       "  <thead>\n",
       "    <tr style=\"text-align: right;\">\n",
       "      <th></th>\n",
       "      <th>A</th>\n",
       "      <th>B</th>\n",
       "      <th>C</th>\n",
       "      <th>D</th>\n",
       "    </tr>\n",
       "  </thead>\n",
       "  <tbody>\n",
       "    <tr>\n",
       "      <th>3</th>\n",
       "      <td>-0.251878</td>\n",
       "      <td>0.124330</td>\n",
       "      <td>-0.554440</td>\n",
       "      <td>0.679328</td>\n",
       "    </tr>\n",
       "    <tr>\n",
       "      <th>4</th>\n",
       "      <td>0.279926</td>\n",
       "      <td>-0.080509</td>\n",
       "      <td>0.574238</td>\n",
       "      <td>-1.149833</td>\n",
       "    </tr>\n",
       "    <tr>\n",
       "      <th>6</th>\n",
       "      <td>2.225721</td>\n",
       "      <td>1.274100</td>\n",
       "      <td>0.106386</td>\n",
       "      <td>1.078900</td>\n",
       "    </tr>\n",
       "    <tr>\n",
       "      <th>8</th>\n",
       "      <td>1.493980</td>\n",
       "      <td>2.085007</td>\n",
       "      <td>-0.251457</td>\n",
       "      <td>1.372666</td>\n",
       "    </tr>\n",
       "    <tr>\n",
       "      <th>10</th>\n",
       "      <td>0.401283</td>\n",
       "      <td>-0.773796</td>\n",
       "      <td>-0.674759</td>\n",
       "      <td>1.034338</td>\n",
       "    </tr>\n",
       "    <tr>\n",
       "      <th>11</th>\n",
       "      <td>0.490911</td>\n",
       "      <td>0.963766</td>\n",
       "      <td>0.433641</td>\n",
       "      <td>-0.775943</td>\n",
       "    </tr>\n",
       "    <tr>\n",
       "      <th>12</th>\n",
       "      <td>-1.274085</td>\n",
       "      <td>-1.519587</td>\n",
       "      <td>-0.865340</td>\n",
       "      <td>-0.380768</td>\n",
       "    </tr>\n",
       "    <tr>\n",
       "      <th>13</th>\n",
       "      <td>-0.485637</td>\n",
       "      <td>0.345903</td>\n",
       "      <td>0.497260</td>\n",
       "      <td>-0.601937</td>\n",
       "    </tr>\n",
       "    <tr>\n",
       "      <th>15</th>\n",
       "      <td>0.473926</td>\n",
       "      <td>2.049772</td>\n",
       "      <td>0.027111</td>\n",
       "      <td>-0.406118</td>\n",
       "    </tr>\n",
       "    <tr>\n",
       "      <th>16</th>\n",
       "      <td>-0.606984</td>\n",
       "      <td>-0.213301</td>\n",
       "      <td>0.393874</td>\n",
       "      <td>1.930134</td>\n",
       "    </tr>\n",
       "    <tr>\n",
       "      <th>17</th>\n",
       "      <td>0.453704</td>\n",
       "      <td>0.134139</td>\n",
       "      <td>0.285296</td>\n",
       "      <td>-0.760575</td>\n",
       "    </tr>\n",
       "    <tr>\n",
       "      <th>19</th>\n",
       "      <td>0.112711</td>\n",
       "      <td>-0.159309</td>\n",
       "      <td>-0.392575</td>\n",
       "      <td>-0.191700</td>\n",
       "    </tr>\n",
       "  </tbody>\n",
       "</table>\n",
       "</div>"
      ],
      "text/plain": [
       "           A         B         C         D\n",
       "3  -0.251878  0.124330 -0.554440  0.679328\n",
       "4   0.279926 -0.080509  0.574238 -1.149833\n",
       "6   2.225721  1.274100  0.106386  1.078900\n",
       "8   1.493980  2.085007 -0.251457  1.372666\n",
       "10  0.401283 -0.773796 -0.674759  1.034338\n",
       "11  0.490911  0.963766  0.433641 -0.775943\n",
       "12 -1.274085 -1.519587 -0.865340 -0.380768\n",
       "13 -0.485637  0.345903  0.497260 -0.601937\n",
       "15  0.473926  2.049772  0.027111 -0.406118\n",
       "16 -0.606984 -0.213301  0.393874  1.930134\n",
       "17  0.453704  0.134139  0.285296 -0.760575\n",
       "19  0.112711 -0.159309 -0.392575 -0.191700"
      ]
     },
     "execution_count": 35,
     "metadata": {},
     "output_type": "execute_result"
    }
   ],
   "source": [
    "# Find rows in random_df where values in column 'C' are within a specific range, e.g., between -1 and 1\n",
    "random_df.loc[(random_df['C'] >= -1) & (random_df['C'] <= 1)]"
   ]
  },
  {
   "cell_type": "code",
   "execution_count": 37,
   "id": "a6309844",
   "metadata": {},
   "outputs": [
    {
     "data": {
      "text/html": [
       "<div>\n",
       "<style scoped>\n",
       "    .dataframe tbody tr th:only-of-type {\n",
       "        vertical-align: middle;\n",
       "    }\n",
       "\n",
       "    .dataframe tbody tr th {\n",
       "        vertical-align: top;\n",
       "    }\n",
       "\n",
       "    .dataframe thead th {\n",
       "        text-align: right;\n",
       "    }\n",
       "</style>\n",
       "<table border=\"1\" class=\"dataframe\">\n",
       "  <thead>\n",
       "    <tr style=\"text-align: right;\">\n",
       "      <th></th>\n",
       "      <th>A</th>\n",
       "      <th>B</th>\n",
       "    </tr>\n",
       "  </thead>\n",
       "  <tbody>\n",
       "    <tr>\n",
       "      <th>4</th>\n",
       "      <td>0.279926</td>\n",
       "      <td>-0.080509</td>\n",
       "    </tr>\n",
       "    <tr>\n",
       "      <th>5</th>\n",
       "      <td>-0.077368</td>\n",
       "      <td>0.547773</td>\n",
       "    </tr>\n",
       "    <tr>\n",
       "      <th>6</th>\n",
       "      <td>2.225721</td>\n",
       "      <td>1.274100</td>\n",
       "    </tr>\n",
       "  </tbody>\n",
       "</table>\n",
       "</div>"
      ],
      "text/plain": [
       "          A         B\n",
       "4  0.279926 -0.080509\n",
       "5 -0.077368  0.547773\n",
       "6  2.225721  1.274100"
      ]
     },
     "execution_count": 37,
     "metadata": {},
     "output_type": "execute_result"
    }
   ],
   "source": [
    "# This provides the 5th to 7th rows of the DataFrame, selecting only the last two columns.\n",
    "random_df.iloc[4:7, 0:2]"
   ]
  },
  {
   "cell_type": "code",
   "execution_count": 55,
   "id": "ca171ddb2505e98e",
   "metadata": {
    "id": "ca171ddb2505e98e"
   },
   "outputs": [],
   "source": [
    "# arange() creates an array of evenly spaced values within a specified range.\n",
    "# reshape() changes the shape of the array to a specified number of rows and columns.\n",
    "# passing one method to another allows for chaining operations.\n",
    "df1 = pd.DataFrame(np.arange(12.).reshape((4, 3)), columns=list(\"bde\"), index=[\"Utah\", \"Ohio\", \"Texas\", \"Oregon\"])"
   ]
  },
  {
   "cell_type": "code",
   "execution_count": 41,
   "id": "951c9514e87a2bcd",
   "metadata": {
    "colab": {
     "base_uri": "https://localhost:8080/",
     "height": 175
    },
    "executionInfo": {
     "elapsed": 139,
     "status": "ok",
     "timestamp": 1731626823730,
     "user": {
      "displayName": "Ken Clements",
      "userId": "01172872815397642559"
     },
     "user_tz": 300
    },
    "id": "951c9514e87a2bcd",
    "outputId": "3850e5ad-5219-49cf-c600-a801e23d0f37"
   },
   "outputs": [
    {
     "data": {
      "text/html": [
       "<div>\n",
       "<style scoped>\n",
       "    .dataframe tbody tr th:only-of-type {\n",
       "        vertical-align: middle;\n",
       "    }\n",
       "\n",
       "    .dataframe tbody tr th {\n",
       "        vertical-align: top;\n",
       "    }\n",
       "\n",
       "    .dataframe thead th {\n",
       "        text-align: right;\n",
       "    }\n",
       "</style>\n",
       "<table border=\"1\" class=\"dataframe\">\n",
       "  <thead>\n",
       "    <tr style=\"text-align: right;\">\n",
       "      <th></th>\n",
       "      <th>state</th>\n",
       "      <th>year</th>\n",
       "      <th>pop</th>\n",
       "    </tr>\n",
       "  </thead>\n",
       "  <tbody>\n",
       "    <tr>\n",
       "      <th>0</th>\n",
       "      <td>Ohio</td>\n",
       "      <td>2000</td>\n",
       "      <td>1.5</td>\n",
       "    </tr>\n",
       "    <tr>\n",
       "      <th>1</th>\n",
       "      <td>Ohio</td>\n",
       "      <td>2001</td>\n",
       "      <td>1.7</td>\n",
       "    </tr>\n",
       "    <tr>\n",
       "      <th>2</th>\n",
       "      <td>Ohio</td>\n",
       "      <td>2002</td>\n",
       "      <td>3.6</td>\n",
       "    </tr>\n",
       "    <tr>\n",
       "      <th>3</th>\n",
       "      <td>Nevada</td>\n",
       "      <td>2001</td>\n",
       "      <td>2.4</td>\n",
       "    </tr>\n",
       "    <tr>\n",
       "      <th>4</th>\n",
       "      <td>Nevada</td>\n",
       "      <td>2002</td>\n",
       "      <td>2.9</td>\n",
       "    </tr>\n",
       "    <tr>\n",
       "      <th>5</th>\n",
       "      <td>Nevada</td>\n",
       "      <td>2003</td>\n",
       "      <td>3.2</td>\n",
       "    </tr>\n",
       "  </tbody>\n",
       "</table>\n",
       "</div>"
      ],
      "text/plain": [
       "    state  year  pop\n",
       "0    Ohio  2000  1.5\n",
       "1    Ohio  2001  1.7\n",
       "2    Ohio  2002  3.6\n",
       "3  Nevada  2001  2.4\n",
       "4  Nevada  2002  2.9\n",
       "5  Nevada  2003  3.2"
      ]
     },
     "execution_count": 41,
     "metadata": {},
     "output_type": "execute_result"
    }
   ],
   "source": [
    "df1"
   ]
  },
  {
   "cell_type": "code",
   "execution_count": 43,
   "id": "f51eacf3bc11443f",
   "metadata": {
    "id": "f51eacf3bc11443f"
   },
   "outputs": [],
   "source": [
    "# Another dataframe with different data and structure that we will use for merging and joining operations.\n",
    "df2 =  pd.DataFrame(np.arange(9.).reshape((3, 3)), columns=list(\"bcd\"), index=[\"Ohio\", \"Texas\", \"Colorado\"])"
   ]
  },
  {
   "cell_type": "code",
   "execution_count": 42,
   "id": "469c8a49e769235c",
   "metadata": {
    "colab": {
     "base_uri": "https://localhost:8080/",
     "height": 143
    },
    "executionInfo": {
     "elapsed": 156,
     "status": "ok",
     "timestamp": 1731626826212,
     "user": {
      "displayName": "Ken Clements",
      "userId": "01172872815397642559"
     },
     "user_tz": 300
    },
    "id": "469c8a49e769235c",
    "outputId": "d77067fc-b890-4135-d9a2-0a7cc536a341"
   },
   "outputs": [
    {
     "data": {
      "text/html": [
       "<div>\n",
       "<style scoped>\n",
       "    .dataframe tbody tr th:only-of-type {\n",
       "        vertical-align: middle;\n",
       "    }\n",
       "\n",
       "    .dataframe tbody tr th {\n",
       "        vertical-align: top;\n",
       "    }\n",
       "\n",
       "    .dataframe thead th {\n",
       "        text-align: right;\n",
       "    }\n",
       "</style>\n",
       "<table border=\"1\" class=\"dataframe\">\n",
       "  <thead>\n",
       "    <tr style=\"text-align: right;\">\n",
       "      <th></th>\n",
       "      <th>mpg</th>\n",
       "      <th>cylinders</th>\n",
       "      <th>displacement</th>\n",
       "      <th>horsepower</th>\n",
       "      <th>weight</th>\n",
       "      <th>acceleration</th>\n",
       "      <th>year</th>\n",
       "      <th>origin</th>\n",
       "      <th>name</th>\n",
       "      <th>horsepower1</th>\n",
       "    </tr>\n",
       "  </thead>\n",
       "  <tbody>\n",
       "    <tr>\n",
       "      <th>0</th>\n",
       "      <td>18.0</td>\n",
       "      <td>8</td>\n",
       "      <td>307.0</td>\n",
       "      <td>130</td>\n",
       "      <td>3504</td>\n",
       "      <td>12.0</td>\n",
       "      <td>70</td>\n",
       "      <td>1</td>\n",
       "      <td>chevrolet chevelle malibu</td>\n",
       "      <td>130</td>\n",
       "    </tr>\n",
       "    <tr>\n",
       "      <th>1</th>\n",
       "      <td>15.0</td>\n",
       "      <td>8</td>\n",
       "      <td>350.0</td>\n",
       "      <td>165</td>\n",
       "      <td>3693</td>\n",
       "      <td>11.5</td>\n",
       "      <td>70</td>\n",
       "      <td>1</td>\n",
       "      <td>buick skylark 320</td>\n",
       "      <td>165</td>\n",
       "    </tr>\n",
       "    <tr>\n",
       "      <th>2</th>\n",
       "      <td>18.0</td>\n",
       "      <td>8</td>\n",
       "      <td>318.0</td>\n",
       "      <td>150</td>\n",
       "      <td>3436</td>\n",
       "      <td>11.0</td>\n",
       "      <td>70</td>\n",
       "      <td>1</td>\n",
       "      <td>plymouth satellite</td>\n",
       "      <td>150</td>\n",
       "    </tr>\n",
       "    <tr>\n",
       "      <th>3</th>\n",
       "      <td>16.0</td>\n",
       "      <td>8</td>\n",
       "      <td>304.0</td>\n",
       "      <td>150</td>\n",
       "      <td>3433</td>\n",
       "      <td>12.0</td>\n",
       "      <td>70</td>\n",
       "      <td>1</td>\n",
       "      <td>amc rebel sst</td>\n",
       "      <td>150</td>\n",
       "    </tr>\n",
       "    <tr>\n",
       "      <th>4</th>\n",
       "      <td>17.0</td>\n",
       "      <td>8</td>\n",
       "      <td>302.0</td>\n",
       "      <td>140</td>\n",
       "      <td>3449</td>\n",
       "      <td>10.5</td>\n",
       "      <td>70</td>\n",
       "      <td>1</td>\n",
       "      <td>ford torino</td>\n",
       "      <td>140</td>\n",
       "    </tr>\n",
       "    <tr>\n",
       "      <th>...</th>\n",
       "      <td>...</td>\n",
       "      <td>...</td>\n",
       "      <td>...</td>\n",
       "      <td>...</td>\n",
       "      <td>...</td>\n",
       "      <td>...</td>\n",
       "      <td>...</td>\n",
       "      <td>...</td>\n",
       "      <td>...</td>\n",
       "      <td>...</td>\n",
       "    </tr>\n",
       "    <tr>\n",
       "      <th>392</th>\n",
       "      <td>27.0</td>\n",
       "      <td>4</td>\n",
       "      <td>140.0</td>\n",
       "      <td>86</td>\n",
       "      <td>2790</td>\n",
       "      <td>15.6</td>\n",
       "      <td>82</td>\n",
       "      <td>1</td>\n",
       "      <td>ford mustang gl</td>\n",
       "      <td>86</td>\n",
       "    </tr>\n",
       "    <tr>\n",
       "      <th>393</th>\n",
       "      <td>44.0</td>\n",
       "      <td>4</td>\n",
       "      <td>97.0</td>\n",
       "      <td>52</td>\n",
       "      <td>2130</td>\n",
       "      <td>24.6</td>\n",
       "      <td>82</td>\n",
       "      <td>2</td>\n",
       "      <td>vw pickup</td>\n",
       "      <td>52</td>\n",
       "    </tr>\n",
       "    <tr>\n",
       "      <th>394</th>\n",
       "      <td>32.0</td>\n",
       "      <td>4</td>\n",
       "      <td>135.0</td>\n",
       "      <td>84</td>\n",
       "      <td>2295</td>\n",
       "      <td>11.6</td>\n",
       "      <td>82</td>\n",
       "      <td>1</td>\n",
       "      <td>dodge rampage</td>\n",
       "      <td>84</td>\n",
       "    </tr>\n",
       "    <tr>\n",
       "      <th>395</th>\n",
       "      <td>28.0</td>\n",
       "      <td>4</td>\n",
       "      <td>120.0</td>\n",
       "      <td>79</td>\n",
       "      <td>2625</td>\n",
       "      <td>18.6</td>\n",
       "      <td>82</td>\n",
       "      <td>1</td>\n",
       "      <td>ford ranger</td>\n",
       "      <td>79</td>\n",
       "    </tr>\n",
       "    <tr>\n",
       "      <th>396</th>\n",
       "      <td>31.0</td>\n",
       "      <td>4</td>\n",
       "      <td>119.0</td>\n",
       "      <td>82</td>\n",
       "      <td>2720</td>\n",
       "      <td>19.4</td>\n",
       "      <td>82</td>\n",
       "      <td>1</td>\n",
       "      <td>chevy s-10</td>\n",
       "      <td>82</td>\n",
       "    </tr>\n",
       "  </tbody>\n",
       "</table>\n",
       "<p>397 rows × 10 columns</p>\n",
       "</div>"
      ],
      "text/plain": [
       "      mpg  cylinders  displacement horsepower  weight  acceleration  year  \\\n",
       "0    18.0          8         307.0        130    3504          12.0    70   \n",
       "1    15.0          8         350.0        165    3693          11.5    70   \n",
       "2    18.0          8         318.0        150    3436          11.0    70   \n",
       "3    16.0          8         304.0        150    3433          12.0    70   \n",
       "4    17.0          8         302.0        140    3449          10.5    70   \n",
       "..    ...        ...           ...        ...     ...           ...   ...   \n",
       "392  27.0          4         140.0         86    2790          15.6    82   \n",
       "393  44.0          4          97.0         52    2130          24.6    82   \n",
       "394  32.0          4         135.0         84    2295          11.6    82   \n",
       "395  28.0          4         120.0         79    2625          18.6    82   \n",
       "396  31.0          4         119.0         82    2720          19.4    82   \n",
       "\n",
       "     origin                       name  horsepower1  \n",
       "0         1  chevrolet chevelle malibu          130  \n",
       "1         1          buick skylark 320          165  \n",
       "2         1         plymouth satellite          150  \n",
       "3         1              amc rebel sst          150  \n",
       "4         1                ford torino          140  \n",
       "..      ...                        ...          ...  \n",
       "392       1            ford mustang gl           86  \n",
       "393       2                  vw pickup           52  \n",
       "394       1              dodge rampage           84  \n",
       "395       1                ford ranger           79  \n",
       "396       1                 chevy s-10           82  \n",
       "\n",
       "[397 rows x 10 columns]"
      ]
     },
     "execution_count": 42,
     "metadata": {},
     "output_type": "execute_result"
    }
   ],
   "source": [
    "df2"
   ]
  },
  {
   "cell_type": "code",
   "execution_count": 44,
   "id": "363043bd",
   "metadata": {},
   "outputs": [],
   "source": [
    "c=pd.concat([df1, df2], axis=0, join='outer', ignore_index=False)"
   ]
  },
  {
   "cell_type": "code",
   "execution_count": 45,
   "id": "633fd9e5",
   "metadata": {},
   "outputs": [
    {
     "data": {
      "text/html": [
       "<div>\n",
       "<style scoped>\n",
       "    .dataframe tbody tr th:only-of-type {\n",
       "        vertical-align: middle;\n",
       "    }\n",
       "\n",
       "    .dataframe tbody tr th {\n",
       "        vertical-align: top;\n",
       "    }\n",
       "\n",
       "    .dataframe thead th {\n",
       "        text-align: right;\n",
       "    }\n",
       "</style>\n",
       "<table border=\"1\" class=\"dataframe\">\n",
       "  <thead>\n",
       "    <tr style=\"text-align: right;\">\n",
       "      <th></th>\n",
       "      <th>state</th>\n",
       "      <th>year</th>\n",
       "      <th>pop</th>\n",
       "      <th>b</th>\n",
       "      <th>c</th>\n",
       "      <th>d</th>\n",
       "    </tr>\n",
       "  </thead>\n",
       "  <tbody>\n",
       "    <tr>\n",
       "      <th>0</th>\n",
       "      <td>Ohio</td>\n",
       "      <td>2000.0</td>\n",
       "      <td>1.5</td>\n",
       "      <td>NaN</td>\n",
       "      <td>NaN</td>\n",
       "      <td>NaN</td>\n",
       "    </tr>\n",
       "    <tr>\n",
       "      <th>1</th>\n",
       "      <td>Ohio</td>\n",
       "      <td>2001.0</td>\n",
       "      <td>1.7</td>\n",
       "      <td>NaN</td>\n",
       "      <td>NaN</td>\n",
       "      <td>NaN</td>\n",
       "    </tr>\n",
       "    <tr>\n",
       "      <th>2</th>\n",
       "      <td>Ohio</td>\n",
       "      <td>2002.0</td>\n",
       "      <td>3.6</td>\n",
       "      <td>NaN</td>\n",
       "      <td>NaN</td>\n",
       "      <td>NaN</td>\n",
       "    </tr>\n",
       "    <tr>\n",
       "      <th>3</th>\n",
       "      <td>Nevada</td>\n",
       "      <td>2001.0</td>\n",
       "      <td>2.4</td>\n",
       "      <td>NaN</td>\n",
       "      <td>NaN</td>\n",
       "      <td>NaN</td>\n",
       "    </tr>\n",
       "    <tr>\n",
       "      <th>4</th>\n",
       "      <td>Nevada</td>\n",
       "      <td>2002.0</td>\n",
       "      <td>2.9</td>\n",
       "      <td>NaN</td>\n",
       "      <td>NaN</td>\n",
       "      <td>NaN</td>\n",
       "    </tr>\n",
       "    <tr>\n",
       "      <th>5</th>\n",
       "      <td>Nevada</td>\n",
       "      <td>2003.0</td>\n",
       "      <td>3.2</td>\n",
       "      <td>NaN</td>\n",
       "      <td>NaN</td>\n",
       "      <td>NaN</td>\n",
       "    </tr>\n",
       "    <tr>\n",
       "      <th>Ohio</th>\n",
       "      <td>NaN</td>\n",
       "      <td>NaN</td>\n",
       "      <td>NaN</td>\n",
       "      <td>0.0</td>\n",
       "      <td>1.0</td>\n",
       "      <td>2.0</td>\n",
       "    </tr>\n",
       "    <tr>\n",
       "      <th>Texas</th>\n",
       "      <td>NaN</td>\n",
       "      <td>NaN</td>\n",
       "      <td>NaN</td>\n",
       "      <td>3.0</td>\n",
       "      <td>4.0</td>\n",
       "      <td>5.0</td>\n",
       "    </tr>\n",
       "    <tr>\n",
       "      <th>Colorado</th>\n",
       "      <td>NaN</td>\n",
       "      <td>NaN</td>\n",
       "      <td>NaN</td>\n",
       "      <td>6.0</td>\n",
       "      <td>7.0</td>\n",
       "      <td>8.0</td>\n",
       "    </tr>\n",
       "  </tbody>\n",
       "</table>\n",
       "</div>"
      ],
      "text/plain": [
       "           state    year  pop    b    c    d\n",
       "0           Ohio  2000.0  1.5  NaN  NaN  NaN\n",
       "1           Ohio  2001.0  1.7  NaN  NaN  NaN\n",
       "2           Ohio  2002.0  3.6  NaN  NaN  NaN\n",
       "3         Nevada  2001.0  2.4  NaN  NaN  NaN\n",
       "4         Nevada  2002.0  2.9  NaN  NaN  NaN\n",
       "5         Nevada  2003.0  3.2  NaN  NaN  NaN\n",
       "Ohio         NaN     NaN  NaN  0.0  1.0  2.0\n",
       "Texas        NaN     NaN  NaN  3.0  4.0  5.0\n",
       "Colorado     NaN     NaN  NaN  6.0  7.0  8.0"
      ]
     },
     "execution_count": 45,
     "metadata": {},
     "output_type": "execute_result"
    }
   ],
   "source": [
    "c"
   ]
  },
  {
   "cell_type": "code",
   "execution_count": null,
   "id": "bae673acfa4326df",
   "metadata": {
    "colab": {
     "base_uri": "https://localhost:8080/",
     "height": 206
    },
    "executionInfo": {
     "elapsed": 155,
     "status": "ok",
     "timestamp": 1731626826943,
     "user": {
      "displayName": "Ken Clements",
      "userId": "01172872815397642559"
     },
     "user_tz": 300
    },
    "id": "bae673acfa4326df",
    "outputId": "7a201a25-d7b2-4e33-f712-ef4582fee4f0"
   },
   "outputs": [
    {
     "data": {
      "text/html": [
       "<div>\n",
       "<style scoped>\n",
       "    .dataframe tbody tr th:only-of-type {\n",
       "        vertical-align: middle;\n",
       "    }\n",
       "\n",
       "    .dataframe tbody tr th {\n",
       "        vertical-align: top;\n",
       "    }\n",
       "\n",
       "    .dataframe thead th {\n",
       "        text-align: right;\n",
       "    }\n",
       "</style>\n",
       "<table border=\"1\" class=\"dataframe\">\n",
       "  <thead>\n",
       "    <tr style=\"text-align: right;\">\n",
       "      <th></th>\n",
       "      <th>b_df1</th>\n",
       "      <th>d_df1</th>\n",
       "      <th>e</th>\n",
       "      <th>b_df2</th>\n",
       "      <th>c</th>\n",
       "      <th>d_df2</th>\n",
       "    </tr>\n",
       "  </thead>\n",
       "  <tbody>\n",
       "    <tr>\n",
       "      <th>Colorado</th>\n",
       "      <td>NaN</td>\n",
       "      <td>NaN</td>\n",
       "      <td>NaN</td>\n",
       "      <td>6.0</td>\n",
       "      <td>7.0</td>\n",
       "      <td>8.0</td>\n",
       "    </tr>\n",
       "    <tr>\n",
       "      <th>Ohio</th>\n",
       "      <td>3.0</td>\n",
       "      <td>4.0</td>\n",
       "      <td>5.0</td>\n",
       "      <td>0.0</td>\n",
       "      <td>1.0</td>\n",
       "      <td>2.0</td>\n",
       "    </tr>\n",
       "    <tr>\n",
       "      <th>Oregon</th>\n",
       "      <td>9.0</td>\n",
       "      <td>10.0</td>\n",
       "      <td>11.0</td>\n",
       "      <td>NaN</td>\n",
       "      <td>NaN</td>\n",
       "      <td>NaN</td>\n",
       "    </tr>\n",
       "    <tr>\n",
       "      <th>Texas</th>\n",
       "      <td>6.0</td>\n",
       "      <td>7.0</td>\n",
       "      <td>8.0</td>\n",
       "      <td>3.0</td>\n",
       "      <td>4.0</td>\n",
       "      <td>5.0</td>\n",
       "    </tr>\n",
       "    <tr>\n",
       "      <th>Utah</th>\n",
       "      <td>0.0</td>\n",
       "      <td>1.0</td>\n",
       "      <td>2.0</td>\n",
       "      <td>NaN</td>\n",
       "      <td>NaN</td>\n",
       "      <td>NaN</td>\n",
       "    </tr>\n",
       "  </tbody>\n",
       "</table>\n",
       "</div>"
      ],
      "text/plain": [
       "          b_df1  d_df1     e  b_df2    c  d_df2\n",
       "Colorado    NaN    NaN   NaN    6.0  7.0    8.0\n",
       "Ohio        3.0    4.0   5.0    0.0  1.0    2.0\n",
       "Oregon      9.0   10.0  11.0    NaN  NaN    NaN\n",
       "Texas       6.0    7.0   8.0    3.0  4.0    5.0\n",
       "Utah        0.0    1.0   2.0    NaN  NaN    NaN"
      ]
     },
     "execution_count": 75,
     "metadata": {},
     "output_type": "execute_result"
    }
   ],
   "source": [
    "# This will merge df1 and df2 based on their indices.  The result will be a new DataFrame with the union of the indices.\n",
    "# this preserves all indices from both DataFrames by using suffixes where there is overlap.\n",
    "# If an index is present in one DataFrame but not the other, the result will have NaN for that index in the missing DataFrame.\n",
    "merged_df = pd.merge(df1, df2, left_index=True, right_index=True, how='outer', suffixes=('_df1', '_df2'))\n",
    "merged_df\n"
   ]
  },
  {
   "cell_type": "code",
   "execution_count": 76,
   "id": "dca2f4f2",
   "metadata": {},
   "outputs": [
    {
     "data": {
      "text/html": [
       "<div>\n",
       "<style scoped>\n",
       "    .dataframe tbody tr th:only-of-type {\n",
       "        vertical-align: middle;\n",
       "    }\n",
       "\n",
       "    .dataframe tbody tr th {\n",
       "        vertical-align: top;\n",
       "    }\n",
       "\n",
       "    .dataframe thead th {\n",
       "        text-align: right;\n",
       "    }\n",
       "</style>\n",
       "<table border=\"1\" class=\"dataframe\">\n",
       "  <thead>\n",
       "    <tr style=\"text-align: right;\">\n",
       "      <th></th>\n",
       "      <th>b_df1</th>\n",
       "      <th>d_df1</th>\n",
       "      <th>e</th>\n",
       "      <th>b_df2</th>\n",
       "      <th>c</th>\n",
       "      <th>d_df2</th>\n",
       "    </tr>\n",
       "  </thead>\n",
       "  <tbody>\n",
       "    <tr>\n",
       "      <th>Ohio</th>\n",
       "      <td>3.0</td>\n",
       "      <td>4.0</td>\n",
       "      <td>5.0</td>\n",
       "      <td>0.0</td>\n",
       "      <td>1.0</td>\n",
       "      <td>2.0</td>\n",
       "    </tr>\n",
       "    <tr>\n",
       "      <th>Texas</th>\n",
       "      <td>6.0</td>\n",
       "      <td>7.0</td>\n",
       "      <td>8.0</td>\n",
       "      <td>3.0</td>\n",
       "      <td>4.0</td>\n",
       "      <td>5.0</td>\n",
       "    </tr>\n",
       "  </tbody>\n",
       "</table>\n",
       "</div>"
      ],
      "text/plain": [
       "       b_df1  d_df1    e  b_df2    c  d_df2\n",
       "Ohio     3.0    4.0  5.0    0.0  1.0    2.0\n",
       "Texas    6.0    7.0  8.0    3.0  4.0    5.0"
      ]
     },
     "execution_count": 76,
     "metadata": {},
     "output_type": "execute_result"
    }
   ],
   "source": [
    "# Merge df1 and df2 using their indices, keeping only the intersection (inner join)\n",
    "intersection_merge = pd.merge(df1, df2, left_index=True, right_index=True, how='inner', suffixes=('_df1', '_df2'))\n",
    "intersection_merge"
   ]
  },
  {
   "cell_type": "code",
   "execution_count": 81,
   "id": "6069af96",
   "metadata": {},
   "outputs": [
    {
     "data": {
      "text/html": [
       "<div>\n",
       "<style scoped>\n",
       "    .dataframe tbody tr th:only-of-type {\n",
       "        vertical-align: middle;\n",
       "    }\n",
       "\n",
       "    .dataframe tbody tr th {\n",
       "        vertical-align: top;\n",
       "    }\n",
       "\n",
       "    .dataframe thead th {\n",
       "        text-align: right;\n",
       "    }\n",
       "</style>\n",
       "<table border=\"1\" class=\"dataframe\">\n",
       "  <thead>\n",
       "    <tr style=\"text-align: right;\">\n",
       "      <th></th>\n",
       "      <th>b</th>\n",
       "      <th>c</th>\n",
       "      <th>d</th>\n",
       "      <th>e</th>\n",
       "    </tr>\n",
       "  </thead>\n",
       "  <tbody>\n",
       "    <tr>\n",
       "      <th>Colorado</th>\n",
       "      <td>NaN</td>\n",
       "      <td>NaN</td>\n",
       "      <td>NaN</td>\n",
       "      <td>NaN</td>\n",
       "    </tr>\n",
       "    <tr>\n",
       "      <th>Ohio</th>\n",
       "      <td>3.0</td>\n",
       "      <td>NaN</td>\n",
       "      <td>6.0</td>\n",
       "      <td>NaN</td>\n",
       "    </tr>\n",
       "    <tr>\n",
       "      <th>Oregon</th>\n",
       "      <td>NaN</td>\n",
       "      <td>NaN</td>\n",
       "      <td>NaN</td>\n",
       "      <td>NaN</td>\n",
       "    </tr>\n",
       "    <tr>\n",
       "      <th>Texas</th>\n",
       "      <td>9.0</td>\n",
       "      <td>NaN</td>\n",
       "      <td>12.0</td>\n",
       "      <td>NaN</td>\n",
       "    </tr>\n",
       "    <tr>\n",
       "      <th>Utah</th>\n",
       "      <td>NaN</td>\n",
       "      <td>NaN</td>\n",
       "      <td>NaN</td>\n",
       "      <td>NaN</td>\n",
       "    </tr>\n",
       "  </tbody>\n",
       "</table>\n",
       "</div>"
      ],
      "text/plain": [
       "            b   c     d   e\n",
       "Colorado  NaN NaN   NaN NaN\n",
       "Ohio      3.0 NaN   6.0 NaN\n",
       "Oregon    NaN NaN   NaN NaN\n",
       "Texas     9.0 NaN  12.0 NaN\n",
       "Utah      NaN NaN   NaN NaN"
      ]
     },
     "execution_count": 81,
     "metadata": {},
     "output_type": "execute_result"
    }
   ],
   "source": [
    "# adding two DataFrames with the same indices will result in a new DataFrame with the sum of the corresponding elements.\n",
    "# where there is no matching index, the result will be NaN (Not a Number).\n",
    "df1 + df2"
   ]
  },
  {
   "cell_type": "code",
   "execution_count": 83,
   "id": "ab311dd9f9768364",
   "metadata": {
    "colab": {
     "base_uri": "https://localhost:8080/",
     "height": 175
    },
    "executionInfo": {
     "elapsed": 144,
     "status": "ok",
     "timestamp": 1731626828546,
     "user": {
      "displayName": "Ken Clements",
      "userId": "01172872815397642559"
     },
     "user_tz": 300
    },
    "id": "ab311dd9f9768364",
    "outputId": "d32a8d84-368a-471c-e5da-39b2bab063ea"
   },
   "outputs": [
    {
     "data": {
      "text/html": [
       "<div>\n",
       "<style scoped>\n",
       "    .dataframe tbody tr th:only-of-type {\n",
       "        vertical-align: middle;\n",
       "    }\n",
       "\n",
       "    .dataframe tbody tr th {\n",
       "        vertical-align: top;\n",
       "    }\n",
       "\n",
       "    .dataframe thead th {\n",
       "        text-align: right;\n",
       "    }\n",
       "</style>\n",
       "<table border=\"1\" class=\"dataframe\">\n",
       "  <thead>\n",
       "    <tr style=\"text-align: right;\">\n",
       "      <th></th>\n",
       "      <th>b</th>\n",
       "      <th>c</th>\n",
       "      <th>d</th>\n",
       "      <th>e</th>\n",
       "    </tr>\n",
       "  </thead>\n",
       "  <tbody>\n",
       "    <tr>\n",
       "      <th>Colorado</th>\n",
       "      <td>NaN</td>\n",
       "      <td>NaN</td>\n",
       "      <td>NaN</td>\n",
       "      <td>NaN</td>\n",
       "    </tr>\n",
       "    <tr>\n",
       "      <th>Ohio</th>\n",
       "      <td>3.0</td>\n",
       "      <td>NaN</td>\n",
       "      <td>6.0</td>\n",
       "      <td>NaN</td>\n",
       "    </tr>\n",
       "    <tr>\n",
       "      <th>Oregon</th>\n",
       "      <td>NaN</td>\n",
       "      <td>NaN</td>\n",
       "      <td>NaN</td>\n",
       "      <td>NaN</td>\n",
       "    </tr>\n",
       "    <tr>\n",
       "      <th>Texas</th>\n",
       "      <td>9.0</td>\n",
       "      <td>NaN</td>\n",
       "      <td>12.0</td>\n",
       "      <td>NaN</td>\n",
       "    </tr>\n",
       "    <tr>\n",
       "      <th>Utah</th>\n",
       "      <td>NaN</td>\n",
       "      <td>NaN</td>\n",
       "      <td>NaN</td>\n",
       "      <td>NaN</td>\n",
       "    </tr>\n",
       "  </tbody>\n",
       "</table>\n",
       "</div>"
      ],
      "text/plain": [
       "            b   c     d   e\n",
       "Colorado  NaN NaN   NaN NaN\n",
       "Ohio      3.0 NaN   6.0 NaN\n",
       "Oregon    NaN NaN   NaN NaN\n",
       "Texas     9.0 NaN  12.0 NaN\n",
       "Utah      NaN NaN   NaN NaN"
      ]
     },
     "execution_count": 83,
     "metadata": {},
     "output_type": "execute_result"
    }
   ],
   "source": [
    "# passing dataframes to numpy functions will apply the function element-wise.\n",
    "np.abs(df1 + df2)"
   ]
  },
  {
   "cell_type": "code",
   "execution_count": 84,
   "id": "4e7909699f6987f7",
   "metadata": {
    "id": "4e7909699f6987f7"
   },
   "outputs": [],
   "source": [
    "def max_val(x):\n",
    "        return x.max()"
   ]
  },
  {
   "cell_type": "code",
   "execution_count": null,
   "id": "8168e9d20416514",
   "metadata": {
    "colab": {
     "base_uri": "https://localhost:8080/",
     "height": 175
    },
    "executionInfo": {
     "elapsed": 138,
     "status": "ok",
     "timestamp": 1731626829639,
     "user": {
      "displayName": "Ken Clements",
      "userId": "01172872815397642559"
     },
     "user_tz": 300
    },
    "id": "8168e9d20416514",
    "outputId": "8c40f719-779a-446b-dc86-a0b63a571153"
   },
   "outputs": [
    {
     "data": {
      "application/vnd.google.colaboratory.intrinsic+json": {
       "summary": "{\n  \"name\": \"df1\",\n  \"rows\": 4,\n  \"fields\": [\n    {\n      \"column\": \"b\",\n      \"properties\": {\n        \"dtype\": \"number\",\n        \"std\": 3.872983346207417,\n        \"min\": 0.0,\n        \"max\": 9.0,\n        \"num_unique_values\": 4,\n        \"samples\": [\n          3.0,\n          9.0,\n          0.0\n        ],\n        \"semantic_type\": \"\",\n        \"description\": \"\"\n      }\n    },\n    {\n      \"column\": \"d\",\n      \"properties\": {\n        \"dtype\": \"number\",\n        \"std\": 3.872983346207417,\n        \"min\": 1.0,\n        \"max\": 10.0,\n        \"num_unique_values\": 4,\n        \"samples\": [\n          4.0,\n          10.0,\n          1.0\n        ],\n        \"semantic_type\": \"\",\n        \"description\": \"\"\n      }\n    },\n    {\n      \"column\": \"e\",\n      \"properties\": {\n        \"dtype\": \"number\",\n        \"std\": 3.872983346207417,\n        \"min\": 2.0,\n        \"max\": 11.0,\n        \"num_unique_values\": 4,\n        \"samples\": [\n          5.0,\n          11.0,\n          2.0\n        ],\n        \"semantic_type\": \"\",\n        \"description\": \"\"\n      }\n    }\n  ]\n}",
       "type": "dataframe",
       "variable_name": "df1"
      },
      "text/html": [
       "\n",
       "  <div id=\"df-d091c8d1-6203-4478-9e89-b11d73dfa63c\" class=\"colab-df-container\">\n",
       "    <div>\n",
       "<style scoped>\n",
       "    .dataframe tbody tr th:only-of-type {\n",
       "        vertical-align: middle;\n",
       "    }\n",
       "\n",
       "    .dataframe tbody tr th {\n",
       "        vertical-align: top;\n",
       "    }\n",
       "\n",
       "    .dataframe thead th {\n",
       "        text-align: right;\n",
       "    }\n",
       "</style>\n",
       "<table border=\"1\" class=\"dataframe\">\n",
       "  <thead>\n",
       "    <tr style=\"text-align: right;\">\n",
       "      <th></th>\n",
       "      <th>b</th>\n",
       "      <th>d</th>\n",
       "      <th>e</th>\n",
       "    </tr>\n",
       "  </thead>\n",
       "  <tbody>\n",
       "    <tr>\n",
       "      <th>Utah</th>\n",
       "      <td>0.0</td>\n",
       "      <td>1.0</td>\n",
       "      <td>2.0</td>\n",
       "    </tr>\n",
       "    <tr>\n",
       "      <th>Ohio</th>\n",
       "      <td>3.0</td>\n",
       "      <td>4.0</td>\n",
       "      <td>5.0</td>\n",
       "    </tr>\n",
       "    <tr>\n",
       "      <th>Texas</th>\n",
       "      <td>6.0</td>\n",
       "      <td>7.0</td>\n",
       "      <td>8.0</td>\n",
       "    </tr>\n",
       "    <tr>\n",
       "      <th>Oregon</th>\n",
       "      <td>9.0</td>\n",
       "      <td>10.0</td>\n",
       "      <td>11.0</td>\n",
       "    </tr>\n",
       "  </tbody>\n",
       "</table>\n",
       "</div>\n",
       "    <div class=\"colab-df-buttons\">\n",
       "\n",
       "  <div class=\"colab-df-container\">\n",
       "    <button class=\"colab-df-convert\" onclick=\"convertToInteractive('df-d091c8d1-6203-4478-9e89-b11d73dfa63c')\"\n",
       "            title=\"Convert this dataframe to an interactive table.\"\n",
       "            style=\"display:none;\">\n",
       "\n",
       "  <svg xmlns=\"http://www.w3.org/2000/svg\" height=\"24px\" viewBox=\"0 -960 960 960\">\n",
       "    <path d=\"M120-120v-720h720v720H120Zm60-500h600v-160H180v160Zm220 220h160v-160H400v160Zm0 220h160v-160H400v160ZM180-400h160v-160H180v160Zm440 0h160v-160H620v160ZM180-180h160v-160H180v160Zm440 0h160v-160H620v160Z\"/>\n",
       "  </svg>\n",
       "    </button>\n",
       "\n",
       "  <style>\n",
       "    .colab-df-container {\n",
       "      display:flex;\n",
       "      gap: 12px;\n",
       "    }\n",
       "\n",
       "    .colab-df-convert {\n",
       "      background-color: #E8F0FE;\n",
       "      border: none;\n",
       "      border-radius: 50%;\n",
       "      cursor: pointer;\n",
       "      display: none;\n",
       "      fill: #1967D2;\n",
       "      height: 32px;\n",
       "      padding: 0 0 0 0;\n",
       "      width: 32px;\n",
       "    }\n",
       "\n",
       "    .colab-df-convert:hover {\n",
       "      background-color: #E2EBFA;\n",
       "      box-shadow: 0px 1px 2px rgba(60, 64, 67, 0.3), 0px 1px 3px 1px rgba(60, 64, 67, 0.15);\n",
       "      fill: #174EA6;\n",
       "    }\n",
       "\n",
       "    .colab-df-buttons div {\n",
       "      margin-bottom: 4px;\n",
       "    }\n",
       "\n",
       "    [theme=dark] .colab-df-convert {\n",
       "      background-color: #3B4455;\n",
       "      fill: #D2E3FC;\n",
       "    }\n",
       "\n",
       "    [theme=dark] .colab-df-convert:hover {\n",
       "      background-color: #434B5C;\n",
       "      box-shadow: 0px 1px 3px 1px rgba(0, 0, 0, 0.15);\n",
       "      filter: drop-shadow(0px 1px 2px rgba(0, 0, 0, 0.3));\n",
       "      fill: #FFFFFF;\n",
       "    }\n",
       "  </style>\n",
       "\n",
       "    <script>\n",
       "      const buttonEl =\n",
       "        document.querySelector('#df-d091c8d1-6203-4478-9e89-b11d73dfa63c button.colab-df-convert');\n",
       "      buttonEl.style.display =\n",
       "        google.colab.kernel.accessAllowed ? 'block' : 'none';\n",
       "\n",
       "      async function convertToInteractive(key) {\n",
       "        const element = document.querySelector('#df-d091c8d1-6203-4478-9e89-b11d73dfa63c');\n",
       "        const dataTable =\n",
       "          await google.colab.kernel.invokeFunction('convertToInteractive',\n",
       "                                                    [key], {});\n",
       "        if (!dataTable) return;\n",
       "\n",
       "        const docLinkHtml = 'Like what you see? Visit the ' +\n",
       "          '<a target=\"_blank\" href=https://colab.research.google.com/notebooks/data_table.ipynb>data table notebook</a>'\n",
       "          + ' to learn more about interactive tables.';\n",
       "        element.innerHTML = '';\n",
       "        dataTable['output_type'] = 'display_data';\n",
       "        await google.colab.output.renderOutput(dataTable, element);\n",
       "        const docLink = document.createElement('div');\n",
       "        docLink.innerHTML = docLinkHtml;\n",
       "        element.appendChild(docLink);\n",
       "      }\n",
       "    </script>\n",
       "  </div>\n",
       "\n",
       "\n",
       "<div id=\"df-6d91bbcf-543a-42df-bbeb-b4587573ba85\">\n",
       "  <button class=\"colab-df-quickchart\" onclick=\"quickchart('df-6d91bbcf-543a-42df-bbeb-b4587573ba85')\"\n",
       "            title=\"Suggest charts\"\n",
       "            style=\"display:none;\">\n",
       "\n",
       "<svg xmlns=\"http://www.w3.org/2000/svg\" height=\"24px\"viewBox=\"0 0 24 24\"\n",
       "     width=\"24px\">\n",
       "    <g>\n",
       "        <path d=\"M19 3H5c-1.1 0-2 .9-2 2v14c0 1.1.9 2 2 2h14c1.1 0 2-.9 2-2V5c0-1.1-.9-2-2-2zM9 17H7v-7h2v7zm4 0h-2V7h2v10zm4 0h-2v-4h2v4z\"/>\n",
       "    </g>\n",
       "</svg>\n",
       "  </button>\n",
       "\n",
       "<style>\n",
       "  .colab-df-quickchart {\n",
       "      --bg-color: #E8F0FE;\n",
       "      --fill-color: #1967D2;\n",
       "      --hover-bg-color: #E2EBFA;\n",
       "      --hover-fill-color: #174EA6;\n",
       "      --disabled-fill-color: #AAA;\n",
       "      --disabled-bg-color: #DDD;\n",
       "  }\n",
       "\n",
       "  [theme=dark] .colab-df-quickchart {\n",
       "      --bg-color: #3B4455;\n",
       "      --fill-color: #D2E3FC;\n",
       "      --hover-bg-color: #434B5C;\n",
       "      --hover-fill-color: #FFFFFF;\n",
       "      --disabled-bg-color: #3B4455;\n",
       "      --disabled-fill-color: #666;\n",
       "  }\n",
       "\n",
       "  .colab-df-quickchart {\n",
       "    background-color: var(--bg-color);\n",
       "    border: none;\n",
       "    border-radius: 50%;\n",
       "    cursor: pointer;\n",
       "    display: none;\n",
       "    fill: var(--fill-color);\n",
       "    height: 32px;\n",
       "    padding: 0;\n",
       "    width: 32px;\n",
       "  }\n",
       "\n",
       "  .colab-df-quickchart:hover {\n",
       "    background-color: var(--hover-bg-color);\n",
       "    box-shadow: 0 1px 2px rgba(60, 64, 67, 0.3), 0 1px 3px 1px rgba(60, 64, 67, 0.15);\n",
       "    fill: var(--button-hover-fill-color);\n",
       "  }\n",
       "\n",
       "  .colab-df-quickchart-complete:disabled,\n",
       "  .colab-df-quickchart-complete:disabled:hover {\n",
       "    background-color: var(--disabled-bg-color);\n",
       "    fill: var(--disabled-fill-color);\n",
       "    box-shadow: none;\n",
       "  }\n",
       "\n",
       "  .colab-df-spinner {\n",
       "    border: 2px solid var(--fill-color);\n",
       "    border-color: transparent;\n",
       "    border-bottom-color: var(--fill-color);\n",
       "    animation:\n",
       "      spin 1s steps(1) infinite;\n",
       "  }\n",
       "\n",
       "  @keyframes spin {\n",
       "    0% {\n",
       "      border-color: transparent;\n",
       "      border-bottom-color: var(--fill-color);\n",
       "      border-left-color: var(--fill-color);\n",
       "    }\n",
       "    20% {\n",
       "      border-color: transparent;\n",
       "      border-left-color: var(--fill-color);\n",
       "      border-top-color: var(--fill-color);\n",
       "    }\n",
       "    30% {\n",
       "      border-color: transparent;\n",
       "      border-left-color: var(--fill-color);\n",
       "      border-top-color: var(--fill-color);\n",
       "      border-right-color: var(--fill-color);\n",
       "    }\n",
       "    40% {\n",
       "      border-color: transparent;\n",
       "      border-right-color: var(--fill-color);\n",
       "      border-top-color: var(--fill-color);\n",
       "    }\n",
       "    60% {\n",
       "      border-color: transparent;\n",
       "      border-right-color: var(--fill-color);\n",
       "    }\n",
       "    80% {\n",
       "      border-color: transparent;\n",
       "      border-right-color: var(--fill-color);\n",
       "      border-bottom-color: var(--fill-color);\n",
       "    }\n",
       "    90% {\n",
       "      border-color: transparent;\n",
       "      border-bottom-color: var(--fill-color);\n",
       "    }\n",
       "  }\n",
       "</style>\n",
       "\n",
       "  <script>\n",
       "    async function quickchart(key) {\n",
       "      const quickchartButtonEl =\n",
       "        document.querySelector('#' + key + ' button');\n",
       "      quickchartButtonEl.disabled = true;  // To prevent multiple clicks.\n",
       "      quickchartButtonEl.classList.add('colab-df-spinner');\n",
       "      try {\n",
       "        const charts = await google.colab.kernel.invokeFunction(\n",
       "            'suggestCharts', [key], {});\n",
       "      } catch (error) {\n",
       "        console.error('Error during call to suggestCharts:', error);\n",
       "      }\n",
       "      quickchartButtonEl.classList.remove('colab-df-spinner');\n",
       "      quickchartButtonEl.classList.add('colab-df-quickchart-complete');\n",
       "    }\n",
       "    (() => {\n",
       "      let quickchartButtonEl =\n",
       "        document.querySelector('#df-6d91bbcf-543a-42df-bbeb-b4587573ba85 button');\n",
       "      quickchartButtonEl.style.display =\n",
       "        google.colab.kernel.accessAllowed ? 'block' : 'none';\n",
       "    })();\n",
       "  </script>\n",
       "</div>\n",
       "\n",
       "  <div id=\"id_cef6bb79-f16a-4798-a029-603d1d51a84d\">\n",
       "    <style>\n",
       "      .colab-df-generate {\n",
       "        background-color: #E8F0FE;\n",
       "        border: none;\n",
       "        border-radius: 50%;\n",
       "        cursor: pointer;\n",
       "        display: none;\n",
       "        fill: #1967D2;\n",
       "        height: 32px;\n",
       "        padding: 0 0 0 0;\n",
       "        width: 32px;\n",
       "      }\n",
       "\n",
       "      .colab-df-generate:hover {\n",
       "        background-color: #E2EBFA;\n",
       "        box-shadow: 0px 1px 2px rgba(60, 64, 67, 0.3), 0px 1px 3px 1px rgba(60, 64, 67, 0.15);\n",
       "        fill: #174EA6;\n",
       "      }\n",
       "\n",
       "      [theme=dark] .colab-df-generate {\n",
       "        background-color: #3B4455;\n",
       "        fill: #D2E3FC;\n",
       "      }\n",
       "\n",
       "      [theme=dark] .colab-df-generate:hover {\n",
       "        background-color: #434B5C;\n",
       "        box-shadow: 0px 1px 3px 1px rgba(0, 0, 0, 0.15);\n",
       "        filter: drop-shadow(0px 1px 2px rgba(0, 0, 0, 0.3));\n",
       "        fill: #FFFFFF;\n",
       "      }\n",
       "    </style>\n",
       "    <button class=\"colab-df-generate\" onclick=\"generateWithVariable('df1')\"\n",
       "            title=\"Generate code using this dataframe.\"\n",
       "            style=\"display:none;\">\n",
       "\n",
       "  <svg xmlns=\"http://www.w3.org/2000/svg\" height=\"24px\"viewBox=\"0 0 24 24\"\n",
       "       width=\"24px\">\n",
       "    <path d=\"M7,19H8.4L18.45,9,17,7.55,7,17.6ZM5,21V16.75L18.45,3.32a2,2,0,0,1,2.83,0l1.4,1.43a1.91,1.91,0,0,1,.58,1.4,1.91,1.91,0,0,1-.58,1.4L9.25,21ZM18.45,9,17,7.55Zm-12,3A5.31,5.31,0,0,0,4.9,8.1,5.31,5.31,0,0,0,1,6.5,5.31,5.31,0,0,0,4.9,4.9,5.31,5.31,0,0,0,6.5,1,5.31,5.31,0,0,0,8.1,4.9,5.31,5.31,0,0,0,12,6.5,5.46,5.46,0,0,0,6.5,12Z\"/>\n",
       "  </svg>\n",
       "    </button>\n",
       "    <script>\n",
       "      (() => {\n",
       "      const buttonEl =\n",
       "        document.querySelector('#id_cef6bb79-f16a-4798-a029-603d1d51a84d button.colab-df-generate');\n",
       "      buttonEl.style.display =\n",
       "        google.colab.kernel.accessAllowed ? 'block' : 'none';\n",
       "\n",
       "      buttonEl.onclick = () => {\n",
       "        google.colab.notebook.generateWithVariable('df1');\n",
       "      }\n",
       "      })();\n",
       "    </script>\n",
       "  </div>\n",
       "\n",
       "    </div>\n",
       "  </div>\n"
      ],
      "text/plain": [
       "          b     d     e\n",
       "Utah    0.0   1.0   2.0\n",
       "Ohio    3.0   4.0   5.0\n",
       "Texas   6.0   7.0   8.0\n",
       "Oregon  9.0  10.0  11.0"
      ]
     },
     "execution_count": 48,
     "metadata": {},
     "output_type": "execute_result"
    }
   ],
   "source": [
    "df1"
   ]
  },
  {
   "cell_type": "code",
   "execution_count": 85,
   "id": "ab68c69ab34f9cc5",
   "metadata": {
    "colab": {
     "base_uri": "https://localhost:8080/",
     "height": 178
    },
    "executionInfo": {
     "elapsed": 145,
     "status": "ok",
     "timestamp": 1731626830438,
     "user": {
      "displayName": "Ken Clements",
      "userId": "01172872815397642559"
     },
     "user_tz": 300
    },
    "id": "ab68c69ab34f9cc5",
    "outputId": "fbc82563-e202-4292-a75c-9f53af6dab16"
   },
   "outputs": [
    {
     "data": {
      "text/plain": [
       "b     9.0\n",
       "d    10.0\n",
       "e    11.0\n",
       "dtype: float64"
      ]
     },
     "execution_count": 85,
     "metadata": {},
     "output_type": "execute_result"
    }
   ],
   "source": [
    "# passing a function to apply() will apply the function to each column of the DataFrame.\n",
    "df1.apply(max_val)"
   ]
  },
  {
   "cell_type": "code",
   "execution_count": 86,
   "id": "3ea506571d6286ff",
   "metadata": {
    "colab": {
     "base_uri": "https://localhost:8080/",
     "height": 210
    },
    "executionInfo": {
     "elapsed": 2,
     "status": "ok",
     "timestamp": 1731626830979,
     "user": {
      "displayName": "Ken Clements",
      "userId": "01172872815397642559"
     },
     "user_tz": 300
    },
    "id": "3ea506571d6286ff",
    "outputId": "94397feb-ee9e-47f9-b86b-182751c6226c"
   },
   "outputs": [
    {
     "data": {
      "text/plain": [
       "Utah       2.0\n",
       "Ohio       5.0\n",
       "Texas      8.0\n",
       "Oregon    11.0\n",
       "dtype: float64"
      ]
     },
     "execution_count": 86,
     "metadata": {},
     "output_type": "execute_result"
    }
   ],
   "source": [
    "# we can also pass the axis parameter to apply() to specify whether to apply the function to rows or columns.\n",
    "df1.apply(max_val, axis = 1)"
   ]
  },
  {
   "cell_type": "code",
   "execution_count": 93,
   "id": "b1f52327eecacb93",
   "metadata": {
    "colab": {
     "base_uri": "https://localhost:8080/",
     "height": 206
    },
    "executionInfo": {
     "elapsed": 153,
     "status": "ok",
     "timestamp": 1731626831675,
     "user": {
      "displayName": "Ken Clements",
      "userId": "01172872815397642559"
     },
     "user_tz": 300
    },
    "id": "b1f52327eecacb93",
    "outputId": "b2b4d570-56d2-47e6-edd4-9cb4eb7e186e"
   },
   "outputs": [
    {
     "data": {
      "text/html": [
       "<div>\n",
       "<style scoped>\n",
       "    .dataframe tbody tr th:only-of-type {\n",
       "        vertical-align: middle;\n",
       "    }\n",
       "\n",
       "    .dataframe tbody tr th {\n",
       "        vertical-align: top;\n",
       "    }\n",
       "\n",
       "    .dataframe thead th {\n",
       "        text-align: right;\n",
       "    }\n",
       "</style>\n",
       "<table border=\"1\" class=\"dataframe\">\n",
       "  <thead>\n",
       "    <tr style=\"text-align: right;\">\n",
       "      <th></th>\n",
       "      <th>b</th>\n",
       "      <th>c</th>\n",
       "      <th>d</th>\n",
       "      <th>e</th>\n",
       "    </tr>\n",
       "  </thead>\n",
       "  <tbody>\n",
       "    <tr>\n",
       "      <th>Texas</th>\n",
       "      <td>9.0</td>\n",
       "      <td>NaN</td>\n",
       "      <td>12.0</td>\n",
       "      <td>NaN</td>\n",
       "    </tr>\n",
       "    <tr>\n",
       "      <th>Ohio</th>\n",
       "      <td>3.0</td>\n",
       "      <td>NaN</td>\n",
       "      <td>6.0</td>\n",
       "      <td>NaN</td>\n",
       "    </tr>\n",
       "    <tr>\n",
       "      <th>Colorado</th>\n",
       "      <td>NaN</td>\n",
       "      <td>NaN</td>\n",
       "      <td>NaN</td>\n",
       "      <td>NaN</td>\n",
       "    </tr>\n",
       "    <tr>\n",
       "      <th>Oregon</th>\n",
       "      <td>NaN</td>\n",
       "      <td>NaN</td>\n",
       "      <td>NaN</td>\n",
       "      <td>NaN</td>\n",
       "    </tr>\n",
       "    <tr>\n",
       "      <th>Utah</th>\n",
       "      <td>NaN</td>\n",
       "      <td>NaN</td>\n",
       "      <td>NaN</td>\n",
       "      <td>NaN</td>\n",
       "    </tr>\n",
       "  </tbody>\n",
       "</table>\n",
       "</div>"
      ],
      "text/plain": [
       "            b   c     d   e\n",
       "Texas     9.0 NaN  12.0 NaN\n",
       "Ohio      3.0 NaN   6.0 NaN\n",
       "Colorado  NaN NaN   NaN NaN\n",
       "Oregon    NaN NaN   NaN NaN\n",
       "Utah      NaN NaN   NaN NaN"
      ]
     },
     "execution_count": 93,
     "metadata": {},
     "output_type": "execute_result"
    }
   ],
   "source": [
    "# sorting a DataFrame by a specific column can be done using the sort_values() method.\n",
    "# This will sort the DataFrame by column 'b' in descending order.\n",
    "# sorting by two columns can be done by passing a list of column names to the by parameter.\n",
    "(df1+df2).sort_values(by = ['b', 'd'], ascending=False)"
   ]
  },
  {
   "cell_type": "code",
   "execution_count": 88,
   "id": "6d9f24b84231478b",
   "metadata": {
    "colab": {
     "base_uri": "https://localhost:8080/",
     "height": 143
    },
    "executionInfo": {
     "elapsed": 133,
     "status": "ok",
     "timestamp": 1731626832599,
     "user": {
      "displayName": "Ken Clements",
      "userId": "01172872815397642559"
     },
     "user_tz": 300
    },
    "id": "6d9f24b84231478b",
    "outputId": "d4fbffcc-d120-430a-acda-93c2a8b1722b"
   },
   "outputs": [
    {
     "data": {
      "text/html": [
       "<div>\n",
       "<style scoped>\n",
       "    .dataframe tbody tr th:only-of-type {\n",
       "        vertical-align: middle;\n",
       "    }\n",
       "\n",
       "    .dataframe tbody tr th {\n",
       "        vertical-align: top;\n",
       "    }\n",
       "\n",
       "    .dataframe thead th {\n",
       "        text-align: right;\n",
       "    }\n",
       "</style>\n",
       "<table border=\"1\" class=\"dataframe\">\n",
       "  <thead>\n",
       "    <tr style=\"text-align: right;\">\n",
       "      <th></th>\n",
       "      <th>b</th>\n",
       "      <th>c</th>\n",
       "      <th>d</th>\n",
       "    </tr>\n",
       "  </thead>\n",
       "  <tbody>\n",
       "    <tr>\n",
       "      <th>Colorado</th>\n",
       "      <td>6.0</td>\n",
       "      <td>7.0</td>\n",
       "      <td>8.0</td>\n",
       "    </tr>\n",
       "    <tr>\n",
       "      <th>Ohio</th>\n",
       "      <td>0.0</td>\n",
       "      <td>1.0</td>\n",
       "      <td>2.0</td>\n",
       "    </tr>\n",
       "    <tr>\n",
       "      <th>Texas</th>\n",
       "      <td>3.0</td>\n",
       "      <td>4.0</td>\n",
       "      <td>5.0</td>\n",
       "    </tr>\n",
       "  </tbody>\n",
       "</table>\n",
       "</div>"
      ],
      "text/plain": [
       "            b    c    d\n",
       "Colorado  6.0  7.0  8.0\n",
       "Ohio      0.0  1.0  2.0\n",
       "Texas     3.0  4.0  5.0"
      ]
     },
     "execution_count": 88,
     "metadata": {},
     "output_type": "execute_result"
    }
   ],
   "source": [
    "#sorting on index values can be done using the sort_index() method.\n",
    "# This will sort the DataFrame by its index in ascending order.\n",
    "df2.sort_index(ascending=True)"
   ]
  },
  {
   "cell_type": "code",
   "execution_count": 92,
   "id": "cb56ee66",
   "metadata": {},
   "outputs": [
    {
     "data": {
      "text/html": [
       "<div>\n",
       "<style scoped>\n",
       "    .dataframe tbody tr th:only-of-type {\n",
       "        vertical-align: middle;\n",
       "    }\n",
       "\n",
       "    .dataframe tbody tr th {\n",
       "        vertical-align: top;\n",
       "    }\n",
       "\n",
       "    .dataframe thead th {\n",
       "        text-align: right;\n",
       "    }\n",
       "</style>\n",
       "<table border=\"1\" class=\"dataframe\">\n",
       "  <thead>\n",
       "    <tr style=\"text-align: right;\">\n",
       "      <th></th>\n",
       "      <th>d</th>\n",
       "      <th>c</th>\n",
       "      <th>b</th>\n",
       "    </tr>\n",
       "  </thead>\n",
       "  <tbody>\n",
       "    <tr>\n",
       "      <th>Ohio</th>\n",
       "      <td>2.0</td>\n",
       "      <td>1.0</td>\n",
       "      <td>0.0</td>\n",
       "    </tr>\n",
       "    <tr>\n",
       "      <th>Texas</th>\n",
       "      <td>5.0</td>\n",
       "      <td>4.0</td>\n",
       "      <td>3.0</td>\n",
       "    </tr>\n",
       "    <tr>\n",
       "      <th>Colorado</th>\n",
       "      <td>8.0</td>\n",
       "      <td>7.0</td>\n",
       "      <td>6.0</td>\n",
       "    </tr>\n",
       "  </tbody>\n",
       "</table>\n",
       "</div>"
      ],
      "text/plain": [
       "            d    c    b\n",
       "Ohio      2.0  1.0  0.0\n",
       "Texas     5.0  4.0  3.0\n",
       "Colorado  8.0  7.0  6.0"
      ]
     },
     "execution_count": 92,
     "metadata": {},
     "output_type": "execute_result"
    }
   ],
   "source": [
    "# sorting by column index values can be done using the sort_index() method with axis=1.\n",
    "df2.sort_index(axis=1, ascending=False)"
   ]
  },
  {
   "cell_type": "code",
   "execution_count": 94,
   "id": "cf93ce6886314d3",
   "metadata": {
    "colab": {
     "base_uri": "https://localhost:8080/",
     "height": 178
    },
    "executionInfo": {
     "elapsed": 137,
     "status": "ok",
     "timestamp": 1731626833366,
     "user": {
      "displayName": "Ken Clements",
      "userId": "01172872815397642559"
     },
     "user_tz": 300
    },
    "id": "cf93ce6886314d3",
    "outputId": "9fb359ed-9be4-49c2-d51f-8d0d0877e591"
   },
   "outputs": [
    {
     "data": {
      "text/plain": [
       "Ohio        1.0\n",
       "Texas       4.0\n",
       "Colorado    7.0\n",
       "dtype: float64"
      ]
     },
     "execution_count": 94,
     "metadata": {},
     "output_type": "execute_result"
    }
   ],
   "source": [
    "# calculating the mean of each column in a DataFrame can be done using the mean() method.\n",
    "df2.mean(axis=1)"
   ]
  },
  {
   "cell_type": "code",
   "execution_count": 95,
   "id": "6b3b0e01e6287e7e",
   "metadata": {
    "colab": {
     "base_uri": "https://localhost:8080/",
     "height": 178
    },
    "executionInfo": {
     "elapsed": 2,
     "status": "ok",
     "timestamp": 1731626833856,
     "user": {
      "displayName": "Ken Clements",
      "userId": "01172872815397642559"
     },
     "user_tz": 300
    },
    "id": "6b3b0e01e6287e7e",
    "outputId": "bd614a5e-461a-48ef-9361-399b50dbdcff"
   },
   "outputs": [
    {
     "data": {
      "text/plain": [
       "b    3.0\n",
       "c    4.0\n",
       "d    5.0\n",
       "dtype: float64"
      ]
     },
     "execution_count": 95,
     "metadata": {},
     "output_type": "execute_result"
    }
   ],
   "source": [
    "# again the other axis can be specified to calculate the mean across rows or columns.\n",
    "df2.mean(axis=0)"
   ]
  },
  {
   "cell_type": "code",
   "execution_count": 96,
   "id": "b9198093fb542e23",
   "metadata": {
    "colab": {
     "base_uri": "https://localhost:8080/",
     "height": 178
    },
    "executionInfo": {
     "elapsed": 2,
     "status": "ok",
     "timestamp": 1731626834426,
     "user": {
      "displayName": "Ken Clements",
      "userId": "01172872815397642559"
     },
     "user_tz": 300
    },
    "id": "b9198093fb542e23",
    "outputId": "ed44a4ca-d86b-48f7-a933-617e8a78f331"
   },
   "outputs": [
    {
     "data": {
      "text/plain": [
       "b    3.0\n",
       "c    3.0\n",
       "d    3.0\n",
       "dtype: float64"
      ]
     },
     "execution_count": 96,
     "metadata": {},
     "output_type": "execute_result"
    }
   ],
   "source": [
    "df2.std(axis=0)"
   ]
  },
  {
   "cell_type": "code",
   "execution_count": 97,
   "id": "48e74336b4a4dda6",
   "metadata": {
    "id": "48e74336b4a4dda6"
   },
   "outputs": [],
   "source": [
    "# dealing with nan in dataframes is a common task in data analysis.\n",
    "# NaN (Not a Number) is used to represent missing or undefined values in pandas.\n",
    "# deleting or imputing NaN values is a common operation in data cleaning.\n",
    "from sklearn.impute import SimpleImputer"
   ]
  },
  {
   "cell_type": "code",
   "execution_count": 98,
   "id": "de1b2ee4",
   "metadata": {},
   "outputs": [
    {
     "data": {
      "text/html": [
       "<div>\n",
       "<style scoped>\n",
       "    .dataframe tbody tr th:only-of-type {\n",
       "        vertical-align: middle;\n",
       "    }\n",
       "\n",
       "    .dataframe tbody tr th {\n",
       "        vertical-align: top;\n",
       "    }\n",
       "\n",
       "    .dataframe thead th {\n",
       "        text-align: right;\n",
       "    }\n",
       "</style>\n",
       "<table border=\"1\" class=\"dataframe\">\n",
       "  <thead>\n",
       "    <tr style=\"text-align: right;\">\n",
       "      <th></th>\n",
       "      <th>b</th>\n",
       "      <th>d</th>\n",
       "      <th>e</th>\n",
       "    </tr>\n",
       "  </thead>\n",
       "  <tbody>\n",
       "    <tr>\n",
       "      <th>Utah</th>\n",
       "      <td>0.0</td>\n",
       "      <td>1.0</td>\n",
       "      <td>2.0</td>\n",
       "    </tr>\n",
       "    <tr>\n",
       "      <th>Ohio</th>\n",
       "      <td>3.0</td>\n",
       "      <td>4.0</td>\n",
       "      <td>5.0</td>\n",
       "    </tr>\n",
       "    <tr>\n",
       "      <th>Texas</th>\n",
       "      <td>6.0</td>\n",
       "      <td>7.0</td>\n",
       "      <td>8.0</td>\n",
       "    </tr>\n",
       "    <tr>\n",
       "      <th>Oregon</th>\n",
       "      <td>9.0</td>\n",
       "      <td>10.0</td>\n",
       "      <td>11.0</td>\n",
       "    </tr>\n",
       "  </tbody>\n",
       "</table>\n",
       "</div>"
      ],
      "text/plain": [
       "          b     d     e\n",
       "Utah    0.0   1.0   2.0\n",
       "Ohio    3.0   4.0   5.0\n",
       "Texas   6.0   7.0   8.0\n",
       "Oregon  9.0  10.0  11.0"
      ]
     },
     "execution_count": 98,
     "metadata": {},
     "output_type": "execute_result"
    }
   ],
   "source": [
    "df1"
   ]
  },
  {
   "cell_type": "code",
   "execution_count": 99,
   "id": "e490f8aafccf2c1",
   "metadata": {
    "id": "e490f8aafccf2c1"
   },
   "outputs": [],
   "source": [
    "# at is used to set a value at a specific index and column in a DataFrame.\n",
    "df1.at['Utah', 'd'] = np.nan"
   ]
  },
  {
   "cell_type": "code",
   "execution_count": 100,
   "id": "4ce45851314ae44d",
   "metadata": {
    "colab": {
     "base_uri": "https://localhost:8080/",
     "height": 175
    },
    "executionInfo": {
     "elapsed": 2,
     "status": "ok",
     "timestamp": 1731626838102,
     "user": {
      "displayName": "Ken Clements",
      "userId": "01172872815397642559"
     },
     "user_tz": 300
    },
    "id": "4ce45851314ae44d",
    "outputId": "df9cda42-768e-430d-db6d-f95dfad51c42"
   },
   "outputs": [
    {
     "data": {
      "text/html": [
       "<div>\n",
       "<style scoped>\n",
       "    .dataframe tbody tr th:only-of-type {\n",
       "        vertical-align: middle;\n",
       "    }\n",
       "\n",
       "    .dataframe tbody tr th {\n",
       "        vertical-align: top;\n",
       "    }\n",
       "\n",
       "    .dataframe thead th {\n",
       "        text-align: right;\n",
       "    }\n",
       "</style>\n",
       "<table border=\"1\" class=\"dataframe\">\n",
       "  <thead>\n",
       "    <tr style=\"text-align: right;\">\n",
       "      <th></th>\n",
       "      <th>b</th>\n",
       "      <th>d</th>\n",
       "      <th>e</th>\n",
       "    </tr>\n",
       "  </thead>\n",
       "  <tbody>\n",
       "    <tr>\n",
       "      <th>Utah</th>\n",
       "      <td>0.0</td>\n",
       "      <td>NaN</td>\n",
       "      <td>2.0</td>\n",
       "    </tr>\n",
       "    <tr>\n",
       "      <th>Ohio</th>\n",
       "      <td>3.0</td>\n",
       "      <td>4.0</td>\n",
       "      <td>5.0</td>\n",
       "    </tr>\n",
       "    <tr>\n",
       "      <th>Texas</th>\n",
       "      <td>6.0</td>\n",
       "      <td>7.0</td>\n",
       "      <td>8.0</td>\n",
       "    </tr>\n",
       "    <tr>\n",
       "      <th>Oregon</th>\n",
       "      <td>9.0</td>\n",
       "      <td>10.0</td>\n",
       "      <td>11.0</td>\n",
       "    </tr>\n",
       "  </tbody>\n",
       "</table>\n",
       "</div>"
      ],
      "text/plain": [
       "          b     d     e\n",
       "Utah    0.0   NaN   2.0\n",
       "Ohio    3.0   4.0   5.0\n",
       "Texas   6.0   7.0   8.0\n",
       "Oregon  9.0  10.0  11.0"
      ]
     },
     "execution_count": 100,
     "metadata": {},
     "output_type": "execute_result"
    }
   ],
   "source": [
    "df1"
   ]
  },
  {
   "cell_type": "code",
   "execution_count": 101,
   "id": "322b4e6709f64cd4",
   "metadata": {
    "id": "322b4e6709f64cd4"
   },
   "outputs": [],
   "source": [
    "imputer = SimpleImputer(strategy='mean')  # You can also use 'median', 'most_frequent', or 'constant'"
   ]
  },
  {
   "cell_type": "code",
   "execution_count": 104,
   "id": "6e7da819c83f8df7",
   "metadata": {
    "id": "6e7da819c83f8df7"
   },
   "outputs": [],
   "source": [
    "# nan in column d will be replaced with the mean of the column.\n",
    "df1['d'] = imputer.fit_transform(df1[['d']])\n"
   ]
  },
  {
   "cell_type": "code",
   "execution_count": 105,
   "id": "9adc08ab987d06c7",
   "metadata": {
    "colab": {
     "base_uri": "https://localhost:8080/",
     "height": 175
    },
    "executionInfo": {
     "elapsed": 140,
     "status": "ok",
     "timestamp": 1731626842612,
     "user": {
      "displayName": "Ken Clements",
      "userId": "01172872815397642559"
     },
     "user_tz": 300
    },
    "id": "9adc08ab987d06c7",
    "outputId": "d01481f6-30b1-4f1f-efe3-ef816fe05613"
   },
   "outputs": [
    {
     "data": {
      "text/html": [
       "<div>\n",
       "<style scoped>\n",
       "    .dataframe tbody tr th:only-of-type {\n",
       "        vertical-align: middle;\n",
       "    }\n",
       "\n",
       "    .dataframe tbody tr th {\n",
       "        vertical-align: top;\n",
       "    }\n",
       "\n",
       "    .dataframe thead th {\n",
       "        text-align: right;\n",
       "    }\n",
       "</style>\n",
       "<table border=\"1\" class=\"dataframe\">\n",
       "  <thead>\n",
       "    <tr style=\"text-align: right;\">\n",
       "      <th></th>\n",
       "      <th>b</th>\n",
       "      <th>d</th>\n",
       "      <th>e</th>\n",
       "    </tr>\n",
       "  </thead>\n",
       "  <tbody>\n",
       "    <tr>\n",
       "      <th>Utah</th>\n",
       "      <td>0.0</td>\n",
       "      <td>7.0</td>\n",
       "      <td>2.0</td>\n",
       "    </tr>\n",
       "    <tr>\n",
       "      <th>Ohio</th>\n",
       "      <td>3.0</td>\n",
       "      <td>4.0</td>\n",
       "      <td>5.0</td>\n",
       "    </tr>\n",
       "    <tr>\n",
       "      <th>Texas</th>\n",
       "      <td>6.0</td>\n",
       "      <td>7.0</td>\n",
       "      <td>8.0</td>\n",
       "    </tr>\n",
       "    <tr>\n",
       "      <th>Oregon</th>\n",
       "      <td>9.0</td>\n",
       "      <td>10.0</td>\n",
       "      <td>11.0</td>\n",
       "    </tr>\n",
       "  </tbody>\n",
       "</table>\n",
       "</div>"
      ],
      "text/plain": [
       "          b     d     e\n",
       "Utah    0.0   7.0   2.0\n",
       "Ohio    3.0   4.0   5.0\n",
       "Texas   6.0   7.0   8.0\n",
       "Oregon  9.0  10.0  11.0"
      ]
     },
     "execution_count": 105,
     "metadata": {},
     "output_type": "execute_result"
    }
   ],
   "source": [
    "df1"
   ]
  },
  {
   "cell_type": "code",
   "execution_count": 107,
   "id": "52ebedb26ac7a2ca",
   "metadata": {
    "id": "52ebedb26ac7a2ca"
   },
   "outputs": [],
   "source": [
    "df1 = pd.DataFrame({\"key\": [\"b\", \"b\", \"a\", \"c\", \"a\", \"a\", \"b\"], \"data1\": pd.Series(range(7), dtype=\"Int64\")})\n",
    "\n",
    "df2 = pd.DataFrame({\"key\": [\"a\", \"b\", \"d\"], \"data2\": pd.Series(range(3), dtype=\"Int64\")})\n"
   ]
  },
  {
   "cell_type": "code",
   "execution_count": 108,
   "id": "2b4d3fc0013ddeed",
   "metadata": {
    "colab": {
     "base_uri": "https://localhost:8080/",
     "height": 143
    },
    "executionInfo": {
     "elapsed": 155,
     "status": "ok",
     "timestamp": 1731626845207,
     "user": {
      "displayName": "Ken Clements",
      "userId": "01172872815397642559"
     },
     "user_tz": 300
    },
    "id": "2b4d3fc0013ddeed",
    "outputId": "336f1af1-d9bf-4ff7-c98f-3c5092e15f8e"
   },
   "outputs": [
    {
     "data": {
      "text/html": [
       "<div>\n",
       "<style scoped>\n",
       "    .dataframe tbody tr th:only-of-type {\n",
       "        vertical-align: middle;\n",
       "    }\n",
       "\n",
       "    .dataframe tbody tr th {\n",
       "        vertical-align: top;\n",
       "    }\n",
       "\n",
       "    .dataframe thead th {\n",
       "        text-align: right;\n",
       "    }\n",
       "</style>\n",
       "<table border=\"1\" class=\"dataframe\">\n",
       "  <thead>\n",
       "    <tr style=\"text-align: right;\">\n",
       "      <th></th>\n",
       "      <th>key</th>\n",
       "      <th>data2</th>\n",
       "    </tr>\n",
       "  </thead>\n",
       "  <tbody>\n",
       "    <tr>\n",
       "      <th>0</th>\n",
       "      <td>a</td>\n",
       "      <td>0</td>\n",
       "    </tr>\n",
       "    <tr>\n",
       "      <th>1</th>\n",
       "      <td>b</td>\n",
       "      <td>1</td>\n",
       "    </tr>\n",
       "    <tr>\n",
       "      <th>2</th>\n",
       "      <td>d</td>\n",
       "      <td>2</td>\n",
       "    </tr>\n",
       "  </tbody>\n",
       "</table>\n",
       "</div>"
      ],
      "text/plain": [
       "  key  data2\n",
       "0   a      0\n",
       "1   b      1\n",
       "2   d      2"
      ]
     },
     "execution_count": 108,
     "metadata": {},
     "output_type": "execute_result"
    }
   ],
   "source": [
    "df2"
   ]
  },
  {
   "cell_type": "code",
   "execution_count": 109,
   "id": "205760a9bea840fd",
   "metadata": {
    "colab": {
     "base_uri": "https://localhost:8080/",
     "height": 269
    },
    "executionInfo": {
     "elapsed": 171,
     "status": "ok",
     "timestamp": 1731626845968,
     "user": {
      "displayName": "Ken Clements",
      "userId": "01172872815397642559"
     },
     "user_tz": 300
    },
    "id": "205760a9bea840fd",
    "outputId": "0a4a99d5-e64f-4098-f953-55bc552de552"
   },
   "outputs": [
    {
     "data": {
      "text/html": [
       "<div>\n",
       "<style scoped>\n",
       "    .dataframe tbody tr th:only-of-type {\n",
       "        vertical-align: middle;\n",
       "    }\n",
       "\n",
       "    .dataframe tbody tr th {\n",
       "        vertical-align: top;\n",
       "    }\n",
       "\n",
       "    .dataframe thead th {\n",
       "        text-align: right;\n",
       "    }\n",
       "</style>\n",
       "<table border=\"1\" class=\"dataframe\">\n",
       "  <thead>\n",
       "    <tr style=\"text-align: right;\">\n",
       "      <th></th>\n",
       "      <th>key</th>\n",
       "      <th>data1</th>\n",
       "    </tr>\n",
       "  </thead>\n",
       "  <tbody>\n",
       "    <tr>\n",
       "      <th>0</th>\n",
       "      <td>b</td>\n",
       "      <td>0</td>\n",
       "    </tr>\n",
       "    <tr>\n",
       "      <th>1</th>\n",
       "      <td>b</td>\n",
       "      <td>1</td>\n",
       "    </tr>\n",
       "    <tr>\n",
       "      <th>2</th>\n",
       "      <td>a</td>\n",
       "      <td>2</td>\n",
       "    </tr>\n",
       "    <tr>\n",
       "      <th>3</th>\n",
       "      <td>c</td>\n",
       "      <td>3</td>\n",
       "    </tr>\n",
       "    <tr>\n",
       "      <th>4</th>\n",
       "      <td>a</td>\n",
       "      <td>4</td>\n",
       "    </tr>\n",
       "    <tr>\n",
       "      <th>5</th>\n",
       "      <td>a</td>\n",
       "      <td>5</td>\n",
       "    </tr>\n",
       "    <tr>\n",
       "      <th>6</th>\n",
       "      <td>b</td>\n",
       "      <td>6</td>\n",
       "    </tr>\n",
       "  </tbody>\n",
       "</table>\n",
       "</div>"
      ],
      "text/plain": [
       "  key  data1\n",
       "0   b      0\n",
       "1   b      1\n",
       "2   a      2\n",
       "3   c      3\n",
       "4   a      4\n",
       "5   a      5\n",
       "6   b      6"
      ]
     },
     "execution_count": 109,
     "metadata": {},
     "output_type": "execute_result"
    }
   ],
   "source": [
    "df1"
   ]
  },
  {
   "cell_type": "code",
   "execution_count": 110,
   "id": "6e9a257a6865397e",
   "metadata": {
    "colab": {
     "base_uri": "https://localhost:8080/",
     "height": 269
    },
    "executionInfo": {
     "elapsed": 135,
     "status": "ok",
     "timestamp": 1731626846691,
     "user": {
      "displayName": "Ken Clements",
      "userId": "01172872815397642559"
     },
     "user_tz": 300
    },
    "id": "6e9a257a6865397e",
    "outputId": "1d8126e2-5238-4ffb-a1ba-d4cd01b0f7cb"
   },
   "outputs": [
    {
     "data": {
      "text/html": [
       "<div>\n",
       "<style scoped>\n",
       "    .dataframe tbody tr th:only-of-type {\n",
       "        vertical-align: middle;\n",
       "    }\n",
       "\n",
       "    .dataframe tbody tr th {\n",
       "        vertical-align: top;\n",
       "    }\n",
       "\n",
       "    .dataframe thead th {\n",
       "        text-align: right;\n",
       "    }\n",
       "</style>\n",
       "<table border=\"1\" class=\"dataframe\">\n",
       "  <thead>\n",
       "    <tr style=\"text-align: right;\">\n",
       "      <th></th>\n",
       "      <th>key</th>\n",
       "      <th>data1</th>\n",
       "      <th>data2</th>\n",
       "    </tr>\n",
       "  </thead>\n",
       "  <tbody>\n",
       "    <tr>\n",
       "      <th>0</th>\n",
       "      <td>b</td>\n",
       "      <td>0</td>\n",
       "      <td>1</td>\n",
       "    </tr>\n",
       "    <tr>\n",
       "      <th>1</th>\n",
       "      <td>b</td>\n",
       "      <td>1</td>\n",
       "      <td>1</td>\n",
       "    </tr>\n",
       "    <tr>\n",
       "      <th>2</th>\n",
       "      <td>a</td>\n",
       "      <td>2</td>\n",
       "      <td>0</td>\n",
       "    </tr>\n",
       "    <tr>\n",
       "      <th>3</th>\n",
       "      <td>c</td>\n",
       "      <td>3</td>\n",
       "      <td>&lt;NA&gt;</td>\n",
       "    </tr>\n",
       "    <tr>\n",
       "      <th>4</th>\n",
       "      <td>a</td>\n",
       "      <td>4</td>\n",
       "      <td>0</td>\n",
       "    </tr>\n",
       "    <tr>\n",
       "      <th>5</th>\n",
       "      <td>a</td>\n",
       "      <td>5</td>\n",
       "      <td>0</td>\n",
       "    </tr>\n",
       "    <tr>\n",
       "      <th>6</th>\n",
       "      <td>b</td>\n",
       "      <td>6</td>\n",
       "      <td>1</td>\n",
       "    </tr>\n",
       "  </tbody>\n",
       "</table>\n",
       "</div>"
      ],
      "text/plain": [
       "  key  data1  data2\n",
       "0   b      0      1\n",
       "1   b      1      1\n",
       "2   a      2      0\n",
       "3   c      3   <NA>\n",
       "4   a      4      0\n",
       "5   a      5      0\n",
       "6   b      6      1"
      ]
     },
     "execution_count": 110,
     "metadata": {},
     "output_type": "execute_result"
    }
   ],
   "source": [
    "# merging on a key column allows for combining data from two DataFrames based on a common column.\n",
    "# This will perform a left join, keeping all rows from df1 and matching rows from df2.\n",
    "# The resulting DataFrame will have NaN for data2 where there is no match in df2.\n",
    "pd.merge(df1, df2, on='key', how='left')"
   ]
  },
  {
   "cell_type": "code",
   "execution_count": 111,
   "id": "4e66584aa9b9c2a3",
   "metadata": {
    "id": "4e66584aa9b9c2a3"
   },
   "outputs": [],
   "source": [
    "left = pd.DataFrame({\"key1\": [\"foo\", \"foo\", \"bar\"],\"key2\": [\"one\", \"two\", \"one\"],\"lval\": pd.Series([1, 2, 3], dtype='Int64')})\n",
    "\n",
    "right = pd.DataFrame({\"key1\": [\"foo\", \"foo\", \"bar\", \"bar\"],\"key2\": [\"one\", \"one\", \"one\", \"two\"],\"rval\": pd.Series([4, 5, 6, 7], dtype='Int64')})\n"
   ]
  },
  {
   "cell_type": "code",
   "execution_count": 112,
   "id": "2d15592dceca50c7",
   "metadata": {
    "colab": {
     "base_uri": "https://localhost:8080/",
     "height": 143
    },
    "executionInfo": {
     "elapsed": 135,
     "status": "ok",
     "timestamp": 1731626848060,
     "user": {
      "displayName": "Ken Clements",
      "userId": "01172872815397642559"
     },
     "user_tz": 300
    },
    "id": "2d15592dceca50c7",
    "outputId": "baf3dc2f-488c-47a4-86d6-834484b5d1e4"
   },
   "outputs": [
    {
     "data": {
      "text/html": [
       "<div>\n",
       "<style scoped>\n",
       "    .dataframe tbody tr th:only-of-type {\n",
       "        vertical-align: middle;\n",
       "    }\n",
       "\n",
       "    .dataframe tbody tr th {\n",
       "        vertical-align: top;\n",
       "    }\n",
       "\n",
       "    .dataframe thead th {\n",
       "        text-align: right;\n",
       "    }\n",
       "</style>\n",
       "<table border=\"1\" class=\"dataframe\">\n",
       "  <thead>\n",
       "    <tr style=\"text-align: right;\">\n",
       "      <th></th>\n",
       "      <th>key1</th>\n",
       "      <th>key2</th>\n",
       "      <th>lval</th>\n",
       "    </tr>\n",
       "  </thead>\n",
       "  <tbody>\n",
       "    <tr>\n",
       "      <th>0</th>\n",
       "      <td>foo</td>\n",
       "      <td>one</td>\n",
       "      <td>1</td>\n",
       "    </tr>\n",
       "    <tr>\n",
       "      <th>1</th>\n",
       "      <td>foo</td>\n",
       "      <td>two</td>\n",
       "      <td>2</td>\n",
       "    </tr>\n",
       "    <tr>\n",
       "      <th>2</th>\n",
       "      <td>bar</td>\n",
       "      <td>one</td>\n",
       "      <td>3</td>\n",
       "    </tr>\n",
       "  </tbody>\n",
       "</table>\n",
       "</div>"
      ],
      "text/plain": [
       "  key1 key2  lval\n",
       "0  foo  one     1\n",
       "1  foo  two     2\n",
       "2  bar  one     3"
      ]
     },
     "execution_count": 112,
     "metadata": {},
     "output_type": "execute_result"
    }
   ],
   "source": [
    "left"
   ]
  },
  {
   "cell_type": "code",
   "execution_count": 113,
   "id": "777161894d201467",
   "metadata": {
    "colab": {
     "base_uri": "https://localhost:8080/",
     "height": 175
    },
    "executionInfo": {
     "elapsed": 138,
     "status": "ok",
     "timestamp": 1731626848679,
     "user": {
      "displayName": "Ken Clements",
      "userId": "01172872815397642559"
     },
     "user_tz": 300
    },
    "id": "777161894d201467",
    "outputId": "7f1d1630-9114-4b5c-e1a1-3e95b809e957"
   },
   "outputs": [
    {
     "data": {
      "text/html": [
       "<div>\n",
       "<style scoped>\n",
       "    .dataframe tbody tr th:only-of-type {\n",
       "        vertical-align: middle;\n",
       "    }\n",
       "\n",
       "    .dataframe tbody tr th {\n",
       "        vertical-align: top;\n",
       "    }\n",
       "\n",
       "    .dataframe thead th {\n",
       "        text-align: right;\n",
       "    }\n",
       "</style>\n",
       "<table border=\"1\" class=\"dataframe\">\n",
       "  <thead>\n",
       "    <tr style=\"text-align: right;\">\n",
       "      <th></th>\n",
       "      <th>key1</th>\n",
       "      <th>key2</th>\n",
       "      <th>rval</th>\n",
       "    </tr>\n",
       "  </thead>\n",
       "  <tbody>\n",
       "    <tr>\n",
       "      <th>0</th>\n",
       "      <td>foo</td>\n",
       "      <td>one</td>\n",
       "      <td>4</td>\n",
       "    </tr>\n",
       "    <tr>\n",
       "      <th>1</th>\n",
       "      <td>foo</td>\n",
       "      <td>one</td>\n",
       "      <td>5</td>\n",
       "    </tr>\n",
       "    <tr>\n",
       "      <th>2</th>\n",
       "      <td>bar</td>\n",
       "      <td>one</td>\n",
       "      <td>6</td>\n",
       "    </tr>\n",
       "    <tr>\n",
       "      <th>3</th>\n",
       "      <td>bar</td>\n",
       "      <td>two</td>\n",
       "      <td>7</td>\n",
       "    </tr>\n",
       "  </tbody>\n",
       "</table>\n",
       "</div>"
      ],
      "text/plain": [
       "  key1 key2  rval\n",
       "0  foo  one     4\n",
       "1  foo  one     5\n",
       "2  bar  one     6\n",
       "3  bar  two     7"
      ]
     },
     "execution_count": 113,
     "metadata": {},
     "output_type": "execute_result"
    }
   ],
   "source": [
    "right"
   ]
  },
  {
   "cell_type": "code",
   "execution_count": 116,
   "id": "80c2eeef67eb09ee",
   "metadata": {
    "id": "80c2eeef67eb09ee"
   },
   "outputs": [],
   "source": [
    "# merging with 2 keys allows for combining data from two DataFrames based on multiple columns.\n",
    "# This will perform an outer join, keeping all rows from both DataFrames and matching rows based on the specified keys.\n",
    "combo = pd.merge(left, right, on=['key1','key2'], how='outer')"
   ]
  },
  {
   "cell_type": "code",
   "execution_count": 117,
   "id": "3eb6ce1bd2782763",
   "metadata": {
    "colab": {
     "base_uri": "https://localhost:8080/",
     "height": 206
    },
    "executionInfo": {
     "elapsed": 145,
     "status": "ok",
     "timestamp": 1731626849793,
     "user": {
      "displayName": "Ken Clements",
      "userId": "01172872815397642559"
     },
     "user_tz": 300
    },
    "id": "3eb6ce1bd2782763",
    "outputId": "5a80d65b-34fe-4eec-bd72-5b4ea2bc42b7"
   },
   "outputs": [
    {
     "data": {
      "text/html": [
       "<div>\n",
       "<style scoped>\n",
       "    .dataframe tbody tr th:only-of-type {\n",
       "        vertical-align: middle;\n",
       "    }\n",
       "\n",
       "    .dataframe tbody tr th {\n",
       "        vertical-align: top;\n",
       "    }\n",
       "\n",
       "    .dataframe thead th {\n",
       "        text-align: right;\n",
       "    }\n",
       "</style>\n",
       "<table border=\"1\" class=\"dataframe\">\n",
       "  <thead>\n",
       "    <tr style=\"text-align: right;\">\n",
       "      <th></th>\n",
       "      <th>key1</th>\n",
       "      <th>key2</th>\n",
       "      <th>lval</th>\n",
       "      <th>rval</th>\n",
       "    </tr>\n",
       "  </thead>\n",
       "  <tbody>\n",
       "    <tr>\n",
       "      <th>0</th>\n",
       "      <td>bar</td>\n",
       "      <td>one</td>\n",
       "      <td>3</td>\n",
       "      <td>6</td>\n",
       "    </tr>\n",
       "    <tr>\n",
       "      <th>1</th>\n",
       "      <td>bar</td>\n",
       "      <td>two</td>\n",
       "      <td>&lt;NA&gt;</td>\n",
       "      <td>7</td>\n",
       "    </tr>\n",
       "    <tr>\n",
       "      <th>2</th>\n",
       "      <td>foo</td>\n",
       "      <td>one</td>\n",
       "      <td>1</td>\n",
       "      <td>4</td>\n",
       "    </tr>\n",
       "    <tr>\n",
       "      <th>3</th>\n",
       "      <td>foo</td>\n",
       "      <td>one</td>\n",
       "      <td>1</td>\n",
       "      <td>5</td>\n",
       "    </tr>\n",
       "    <tr>\n",
       "      <th>4</th>\n",
       "      <td>foo</td>\n",
       "      <td>two</td>\n",
       "      <td>2</td>\n",
       "      <td>&lt;NA&gt;</td>\n",
       "    </tr>\n",
       "  </tbody>\n",
       "</table>\n",
       "</div>"
      ],
      "text/plain": [
       "  key1 key2  lval  rval\n",
       "0  bar  one     3     6\n",
       "1  bar  two  <NA>     7\n",
       "2  foo  one     1     4\n",
       "3  foo  one     1     5\n",
       "4  foo  two     2  <NA>"
      ]
     },
     "execution_count": 117,
     "metadata": {},
     "output_type": "execute_result"
    }
   ],
   "source": [
    "combo"
   ]
  },
  {
   "cell_type": "code",
   "execution_count": 118,
   "id": "998a2af99fc177d5",
   "metadata": {
    "colab": {
     "base_uri": "https://localhost:8080/",
     "height": 269
    },
    "executionInfo": {
     "elapsed": 136,
     "status": "ok",
     "timestamp": 1731626850459,
     "user": {
      "displayName": "Ken Clements",
      "userId": "01172872815397642559"
     },
     "user_tz": 300
    },
    "id": "998a2af99fc177d5",
    "outputId": "fb687c2d-3536-47da-9bf0-9b226fe900d5"
   },
   "outputs": [
    {
     "data": {
      "text/html": [
       "<div>\n",
       "<style scoped>\n",
       "    .dataframe tbody tr th:only-of-type {\n",
       "        vertical-align: middle;\n",
       "    }\n",
       "\n",
       "    .dataframe tbody tr th {\n",
       "        vertical-align: top;\n",
       "    }\n",
       "\n",
       "    .dataframe thead th {\n",
       "        text-align: right;\n",
       "    }\n",
       "</style>\n",
       "<table border=\"1\" class=\"dataframe\">\n",
       "  <thead>\n",
       "    <tr style=\"text-align: right;\">\n",
       "      <th></th>\n",
       "      <th>key1</th>\n",
       "      <th>key2</th>\n",
       "      <th>lval</th>\n",
       "      <th>rval</th>\n",
       "    </tr>\n",
       "  </thead>\n",
       "  <tbody>\n",
       "    <tr>\n",
       "      <th>0</th>\n",
       "      <td>foo</td>\n",
       "      <td>one</td>\n",
       "      <td>1</td>\n",
       "      <td>&lt;NA&gt;</td>\n",
       "    </tr>\n",
       "    <tr>\n",
       "      <th>1</th>\n",
       "      <td>foo</td>\n",
       "      <td>two</td>\n",
       "      <td>2</td>\n",
       "      <td>&lt;NA&gt;</td>\n",
       "    </tr>\n",
       "    <tr>\n",
       "      <th>2</th>\n",
       "      <td>bar</td>\n",
       "      <td>one</td>\n",
       "      <td>3</td>\n",
       "      <td>&lt;NA&gt;</td>\n",
       "    </tr>\n",
       "    <tr>\n",
       "      <th>0</th>\n",
       "      <td>foo</td>\n",
       "      <td>one</td>\n",
       "      <td>&lt;NA&gt;</td>\n",
       "      <td>4</td>\n",
       "    </tr>\n",
       "    <tr>\n",
       "      <th>1</th>\n",
       "      <td>foo</td>\n",
       "      <td>one</td>\n",
       "      <td>&lt;NA&gt;</td>\n",
       "      <td>5</td>\n",
       "    </tr>\n",
       "    <tr>\n",
       "      <th>2</th>\n",
       "      <td>bar</td>\n",
       "      <td>one</td>\n",
       "      <td>&lt;NA&gt;</td>\n",
       "      <td>6</td>\n",
       "    </tr>\n",
       "    <tr>\n",
       "      <th>3</th>\n",
       "      <td>bar</td>\n",
       "      <td>two</td>\n",
       "      <td>&lt;NA&gt;</td>\n",
       "      <td>7</td>\n",
       "    </tr>\n",
       "  </tbody>\n",
       "</table>\n",
       "</div>"
      ],
      "text/plain": [
       "  key1 key2  lval  rval\n",
       "0  foo  one     1  <NA>\n",
       "1  foo  two     2  <NA>\n",
       "2  bar  one     3  <NA>\n",
       "0  foo  one  <NA>     4\n",
       "1  foo  one  <NA>     5\n",
       "2  bar  one  <NA>     6\n",
       "3  bar  two  <NA>     7"
      ]
     },
     "execution_count": 118,
     "metadata": {},
     "output_type": "execute_result"
    }
   ],
   "source": [
    "# concat is different from merge in that it concatenates DataFrames along a particular axis.\n",
    "# It can be used to stack DataFrames vertically or horizontally.\n",
    "pd.concat([left, right], axis=0)"
   ]
  },
  {
   "cell_type": "code",
   "execution_count": 126,
   "id": "d23b5753",
   "metadata": {},
   "outputs": [
    {
     "data": {
      "text/html": [
       "<div>\n",
       "<style scoped>\n",
       "    .dataframe tbody tr th:only-of-type {\n",
       "        vertical-align: middle;\n",
       "    }\n",
       "\n",
       "    .dataframe tbody tr th {\n",
       "        vertical-align: top;\n",
       "    }\n",
       "\n",
       "    .dataframe thead th {\n",
       "        text-align: right;\n",
       "    }\n",
       "</style>\n",
       "<table border=\"1\" class=\"dataframe\">\n",
       "  <thead>\n",
       "    <tr style=\"text-align: right;\">\n",
       "      <th></th>\n",
       "      <th>key1</th>\n",
       "      <th>key2</th>\n",
       "      <th>lval</th>\n",
       "      <th>rval</th>\n",
       "    </tr>\n",
       "  </thead>\n",
       "  <tbody>\n",
       "    <tr>\n",
       "      <th>0</th>\n",
       "      <td>foo</td>\n",
       "      <td>one</td>\n",
       "      <td>1</td>\n",
       "      <td>&lt;NA&gt;</td>\n",
       "    </tr>\n",
       "    <tr>\n",
       "      <th>1</th>\n",
       "      <td>foo</td>\n",
       "      <td>two</td>\n",
       "      <td>2</td>\n",
       "      <td>&lt;NA&gt;</td>\n",
       "    </tr>\n",
       "    <tr>\n",
       "      <th>2</th>\n",
       "      <td>bar</td>\n",
       "      <td>one</td>\n",
       "      <td>3</td>\n",
       "      <td>&lt;NA&gt;</td>\n",
       "    </tr>\n",
       "    <tr>\n",
       "      <th>3</th>\n",
       "      <td>foo</td>\n",
       "      <td>one</td>\n",
       "      <td>&lt;NA&gt;</td>\n",
       "      <td>4</td>\n",
       "    </tr>\n",
       "    <tr>\n",
       "      <th>4</th>\n",
       "      <td>foo</td>\n",
       "      <td>one</td>\n",
       "      <td>&lt;NA&gt;</td>\n",
       "      <td>5</td>\n",
       "    </tr>\n",
       "    <tr>\n",
       "      <th>5</th>\n",
       "      <td>bar</td>\n",
       "      <td>one</td>\n",
       "      <td>&lt;NA&gt;</td>\n",
       "      <td>6</td>\n",
       "    </tr>\n",
       "    <tr>\n",
       "      <th>6</th>\n",
       "      <td>bar</td>\n",
       "      <td>two</td>\n",
       "      <td>&lt;NA&gt;</td>\n",
       "      <td>7</td>\n",
       "    </tr>\n",
       "  </tbody>\n",
       "</table>\n",
       "</div>"
      ],
      "text/plain": [
       "  key1 key2  lval  rval\n",
       "0  foo  one     1  <NA>\n",
       "1  foo  two     2  <NA>\n",
       "2  bar  one     3  <NA>\n",
       "3  foo  one  <NA>     4\n",
       "4  foo  one  <NA>     5\n",
       "5  bar  one  <NA>     6\n",
       "6  bar  two  <NA>     7"
      ]
     },
     "execution_count": 126,
     "metadata": {},
     "output_type": "execute_result"
    }
   ],
   "source": [
    "# to reindex the concatenated DataFrame, you can use the ignore_index parameter.\n",
    "combo1 = pd.concat([left, right], axis=0, ignore_index=True)\n",
    "combo1"
   ]
  },
  {
   "cell_type": "code",
   "execution_count": 121,
   "id": "3463a2dc",
   "metadata": {},
   "outputs": [
    {
     "data": {
      "text/html": [
       "<div>\n",
       "<style scoped>\n",
       "    .dataframe tbody tr th:only-of-type {\n",
       "        vertical-align: middle;\n",
       "    }\n",
       "\n",
       "    .dataframe tbody tr th {\n",
       "        vertical-align: top;\n",
       "    }\n",
       "\n",
       "    .dataframe thead th {\n",
       "        text-align: right;\n",
       "    }\n",
       "</style>\n",
       "<table border=\"1\" class=\"dataframe\">\n",
       "  <thead>\n",
       "    <tr style=\"text-align: right;\">\n",
       "      <th></th>\n",
       "      <th></th>\n",
       "      <th>key1</th>\n",
       "      <th>key2</th>\n",
       "      <th>lval</th>\n",
       "      <th>rval</th>\n",
       "    </tr>\n",
       "  </thead>\n",
       "  <tbody>\n",
       "    <tr>\n",
       "      <th rowspan=\"3\" valign=\"top\">left</th>\n",
       "      <th>0</th>\n",
       "      <td>foo</td>\n",
       "      <td>one</td>\n",
       "      <td>1</td>\n",
       "      <td>&lt;NA&gt;</td>\n",
       "    </tr>\n",
       "    <tr>\n",
       "      <th>1</th>\n",
       "      <td>foo</td>\n",
       "      <td>two</td>\n",
       "      <td>2</td>\n",
       "      <td>&lt;NA&gt;</td>\n",
       "    </tr>\n",
       "    <tr>\n",
       "      <th>2</th>\n",
       "      <td>bar</td>\n",
       "      <td>one</td>\n",
       "      <td>3</td>\n",
       "      <td>&lt;NA&gt;</td>\n",
       "    </tr>\n",
       "    <tr>\n",
       "      <th rowspan=\"4\" valign=\"top\">right</th>\n",
       "      <th>0</th>\n",
       "      <td>foo</td>\n",
       "      <td>one</td>\n",
       "      <td>&lt;NA&gt;</td>\n",
       "      <td>4</td>\n",
       "    </tr>\n",
       "    <tr>\n",
       "      <th>1</th>\n",
       "      <td>foo</td>\n",
       "      <td>one</td>\n",
       "      <td>&lt;NA&gt;</td>\n",
       "      <td>5</td>\n",
       "    </tr>\n",
       "    <tr>\n",
       "      <th>2</th>\n",
       "      <td>bar</td>\n",
       "      <td>one</td>\n",
       "      <td>&lt;NA&gt;</td>\n",
       "      <td>6</td>\n",
       "    </tr>\n",
       "    <tr>\n",
       "      <th>3</th>\n",
       "      <td>bar</td>\n",
       "      <td>two</td>\n",
       "      <td>&lt;NA&gt;</td>\n",
       "      <td>7</td>\n",
       "    </tr>\n",
       "  </tbody>\n",
       "</table>\n",
       "</div>"
      ],
      "text/plain": [
       "        key1 key2  lval  rval\n",
       "left  0  foo  one     1  <NA>\n",
       "      1  foo  two     2  <NA>\n",
       "      2  bar  one     3  <NA>\n",
       "right 0  foo  one  <NA>     4\n",
       "      1  foo  one  <NA>     5\n",
       "      2  bar  one  <NA>     6\n",
       "      3  bar  two  <NA>     7"
      ]
     },
     "execution_count": 121,
     "metadata": {},
     "output_type": "execute_result"
    }
   ],
   "source": [
    "# to add a new column to the concatenated DataFrame, you can use the keys parameter.\n",
    "# this is similar to groupby, where each DataFrame is assigned a key.\n",
    "pd.concat([left, right], axis=0, keys=['left', 'right'])"
   ]
  },
  {
   "cell_type": "code",
   "execution_count": 128,
   "id": "c7891dbe",
   "metadata": {},
   "outputs": [],
   "source": [
    "grouped = combo1.groupby('key1')"
   ]
  },
  {
   "cell_type": "code",
   "execution_count": 131,
   "id": "7a8bee30",
   "metadata": {},
   "outputs": [
    {
     "data": {
      "text/html": [
       "<div>\n",
       "<style scoped>\n",
       "    .dataframe tbody tr th:only-of-type {\n",
       "        vertical-align: middle;\n",
       "    }\n",
       "\n",
       "    .dataframe tbody tr th {\n",
       "        vertical-align: top;\n",
       "    }\n",
       "\n",
       "    .dataframe thead th {\n",
       "        text-align: right;\n",
       "    }\n",
       "</style>\n",
       "<table border=\"1\" class=\"dataframe\">\n",
       "  <thead>\n",
       "    <tr style=\"text-align: right;\">\n",
       "      <th></th>\n",
       "      <th>key1</th>\n",
       "      <th>key2</th>\n",
       "      <th>lval</th>\n",
       "      <th>rval</th>\n",
       "    </tr>\n",
       "  </thead>\n",
       "  <tbody>\n",
       "    <tr>\n",
       "      <th>0</th>\n",
       "      <td>foo</td>\n",
       "      <td>one</td>\n",
       "      <td>1</td>\n",
       "      <td>&lt;NA&gt;</td>\n",
       "    </tr>\n",
       "    <tr>\n",
       "      <th>1</th>\n",
       "      <td>foo</td>\n",
       "      <td>two</td>\n",
       "      <td>2</td>\n",
       "      <td>&lt;NA&gt;</td>\n",
       "    </tr>\n",
       "    <tr>\n",
       "      <th>3</th>\n",
       "      <td>foo</td>\n",
       "      <td>one</td>\n",
       "      <td>&lt;NA&gt;</td>\n",
       "      <td>4</td>\n",
       "    </tr>\n",
       "    <tr>\n",
       "      <th>4</th>\n",
       "      <td>foo</td>\n",
       "      <td>one</td>\n",
       "      <td>&lt;NA&gt;</td>\n",
       "      <td>5</td>\n",
       "    </tr>\n",
       "  </tbody>\n",
       "</table>\n",
       "</div>"
      ],
      "text/plain": [
       "  key1 key2  lval  rval\n",
       "0  foo  one     1  <NA>\n",
       "1  foo  two     2  <NA>\n",
       "3  foo  one  <NA>     4\n",
       "4  foo  one  <NA>     5"
      ]
     },
     "execution_count": 131,
     "metadata": {},
     "output_type": "execute_result"
    }
   ],
   "source": [
    "grouped.get_group('foo')"
   ]
  },
  {
   "cell_type": "code",
   "execution_count": 136,
   "id": "696eca7a",
   "metadata": {},
   "outputs": [
    {
     "data": {
      "text/html": [
       "<div>\n",
       "<style scoped>\n",
       "    .dataframe tbody tr th:only-of-type {\n",
       "        vertical-align: middle;\n",
       "    }\n",
       "\n",
       "    .dataframe tbody tr th {\n",
       "        vertical-align: top;\n",
       "    }\n",
       "\n",
       "    .dataframe thead th {\n",
       "        text-align: right;\n",
       "    }\n",
       "</style>\n",
       "<table border=\"1\" class=\"dataframe\">\n",
       "  <thead>\n",
       "    <tr style=\"text-align: right;\">\n",
       "      <th></th>\n",
       "      <th>key1</th>\n",
       "      <th>key2</th>\n",
       "      <th>lval</th>\n",
       "      <th>rval</th>\n",
       "    </tr>\n",
       "  </thead>\n",
       "  <tbody>\n",
       "    <tr>\n",
       "      <th>2</th>\n",
       "      <td>bar</td>\n",
       "      <td>one</td>\n",
       "      <td>3</td>\n",
       "      <td>&lt;NA&gt;</td>\n",
       "    </tr>\n",
       "    <tr>\n",
       "      <th>5</th>\n",
       "      <td>bar</td>\n",
       "      <td>one</td>\n",
       "      <td>&lt;NA&gt;</td>\n",
       "      <td>6</td>\n",
       "    </tr>\n",
       "  </tbody>\n",
       "</table>\n",
       "</div>"
      ],
      "text/plain": [
       "  key1 key2  lval  rval\n",
       "2  bar  one     3  <NA>\n",
       "5  bar  one  <NA>     6"
      ]
     },
     "execution_count": 136,
     "metadata": {},
     "output_type": "execute_result"
    }
   ],
   "source": [
    "grouped.get_group('bar').head(2)"
   ]
  },
  {
   "cell_type": "code",
   "execution_count": 137,
   "id": "b52c36d2",
   "metadata": {},
   "outputs": [
    {
     "data": {
      "text/plain": [
       "2"
      ]
     },
     "execution_count": 137,
     "metadata": {},
     "output_type": "execute_result"
    }
   ],
   "source": [
    "grouped.ngroups"
   ]
  },
  {
   "cell_type": "code",
   "execution_count": 138,
   "id": "879edf26c9ea6892",
   "metadata": {
    "id": "879edf26c9ea6892"
   },
   "outputs": [],
   "source": [
    "from sklearn.datasets import load_iris\n",
    "import pandas as pd\n"
   ]
  },
  {
   "cell_type": "code",
   "execution_count": 139,
   "id": "f2e81f5e75a3ceaf",
   "metadata": {
    "id": "f2e81f5e75a3ceaf"
   },
   "outputs": [],
   "source": [
    "iris = load_iris()\n",
    "\n",
    "df_iris = pd.DataFrame(data=iris.data, columns=iris.feature_names)\n",
    "\n",
    "# Add the target column\n",
    "df_iris['species'] = iris.target"
   ]
  },
  {
   "cell_type": "code",
   "execution_count": 140,
   "id": "cf7bf4bc7bdfcfb",
   "metadata": {
    "colab": {
     "base_uri": "https://localhost:8080/",
     "height": 424
    },
    "executionInfo": {
     "elapsed": 153,
     "status": "ok",
     "timestamp": 1731626853156,
     "user": {
      "displayName": "Ken Clements",
      "userId": "01172872815397642559"
     },
     "user_tz": 300
    },
    "id": "cf7bf4bc7bdfcfb",
    "outputId": "f0639c19-a4ad-4fdb-92b4-417dd220ca78"
   },
   "outputs": [
    {
     "data": {
      "text/html": [
       "<div>\n",
       "<style scoped>\n",
       "    .dataframe tbody tr th:only-of-type {\n",
       "        vertical-align: middle;\n",
       "    }\n",
       "\n",
       "    .dataframe tbody tr th {\n",
       "        vertical-align: top;\n",
       "    }\n",
       "\n",
       "    .dataframe thead th {\n",
       "        text-align: right;\n",
       "    }\n",
       "</style>\n",
       "<table border=\"1\" class=\"dataframe\">\n",
       "  <thead>\n",
       "    <tr style=\"text-align: right;\">\n",
       "      <th></th>\n",
       "      <th>sepal length (cm)</th>\n",
       "      <th>sepal width (cm)</th>\n",
       "      <th>petal length (cm)</th>\n",
       "      <th>petal width (cm)</th>\n",
       "      <th>species</th>\n",
       "    </tr>\n",
       "  </thead>\n",
       "  <tbody>\n",
       "    <tr>\n",
       "      <th>0</th>\n",
       "      <td>5.1</td>\n",
       "      <td>3.5</td>\n",
       "      <td>1.4</td>\n",
       "      <td>0.2</td>\n",
       "      <td>0</td>\n",
       "    </tr>\n",
       "    <tr>\n",
       "      <th>1</th>\n",
       "      <td>4.9</td>\n",
       "      <td>3.0</td>\n",
       "      <td>1.4</td>\n",
       "      <td>0.2</td>\n",
       "      <td>0</td>\n",
       "    </tr>\n",
       "    <tr>\n",
       "      <th>2</th>\n",
       "      <td>4.7</td>\n",
       "      <td>3.2</td>\n",
       "      <td>1.3</td>\n",
       "      <td>0.2</td>\n",
       "      <td>0</td>\n",
       "    </tr>\n",
       "    <tr>\n",
       "      <th>3</th>\n",
       "      <td>4.6</td>\n",
       "      <td>3.1</td>\n",
       "      <td>1.5</td>\n",
       "      <td>0.2</td>\n",
       "      <td>0</td>\n",
       "    </tr>\n",
       "    <tr>\n",
       "      <th>4</th>\n",
       "      <td>5.0</td>\n",
       "      <td>3.6</td>\n",
       "      <td>1.4</td>\n",
       "      <td>0.2</td>\n",
       "      <td>0</td>\n",
       "    </tr>\n",
       "    <tr>\n",
       "      <th>...</th>\n",
       "      <td>...</td>\n",
       "      <td>...</td>\n",
       "      <td>...</td>\n",
       "      <td>...</td>\n",
       "      <td>...</td>\n",
       "    </tr>\n",
       "    <tr>\n",
       "      <th>145</th>\n",
       "      <td>6.7</td>\n",
       "      <td>3.0</td>\n",
       "      <td>5.2</td>\n",
       "      <td>2.3</td>\n",
       "      <td>2</td>\n",
       "    </tr>\n",
       "    <tr>\n",
       "      <th>146</th>\n",
       "      <td>6.3</td>\n",
       "      <td>2.5</td>\n",
       "      <td>5.0</td>\n",
       "      <td>1.9</td>\n",
       "      <td>2</td>\n",
       "    </tr>\n",
       "    <tr>\n",
       "      <th>147</th>\n",
       "      <td>6.5</td>\n",
       "      <td>3.0</td>\n",
       "      <td>5.2</td>\n",
       "      <td>2.0</td>\n",
       "      <td>2</td>\n",
       "    </tr>\n",
       "    <tr>\n",
       "      <th>148</th>\n",
       "      <td>6.2</td>\n",
       "      <td>3.4</td>\n",
       "      <td>5.4</td>\n",
       "      <td>2.3</td>\n",
       "      <td>2</td>\n",
       "    </tr>\n",
       "    <tr>\n",
       "      <th>149</th>\n",
       "      <td>5.9</td>\n",
       "      <td>3.0</td>\n",
       "      <td>5.1</td>\n",
       "      <td>1.8</td>\n",
       "      <td>2</td>\n",
       "    </tr>\n",
       "  </tbody>\n",
       "</table>\n",
       "<p>150 rows × 5 columns</p>\n",
       "</div>"
      ],
      "text/plain": [
       "     sepal length (cm)  sepal width (cm)  petal length (cm)  petal width (cm)  \\\n",
       "0                  5.1               3.5                1.4               0.2   \n",
       "1                  4.9               3.0                1.4               0.2   \n",
       "2                  4.7               3.2                1.3               0.2   \n",
       "3                  4.6               3.1                1.5               0.2   \n",
       "4                  5.0               3.6                1.4               0.2   \n",
       "..                 ...               ...                ...               ...   \n",
       "145                6.7               3.0                5.2               2.3   \n",
       "146                6.3               2.5                5.0               1.9   \n",
       "147                6.5               3.0                5.2               2.0   \n",
       "148                6.2               3.4                5.4               2.3   \n",
       "149                5.9               3.0                5.1               1.8   \n",
       "\n",
       "     species  \n",
       "0          0  \n",
       "1          0  \n",
       "2          0  \n",
       "3          0  \n",
       "4          0  \n",
       "..       ...  \n",
       "145        2  \n",
       "146        2  \n",
       "147        2  \n",
       "148        2  \n",
       "149        2  \n",
       "\n",
       "[150 rows x 5 columns]"
      ]
     },
     "execution_count": 140,
     "metadata": {},
     "output_type": "execute_result"
    }
   ],
   "source": [
    "df_iris"
   ]
  },
  {
   "cell_type": "code",
   "execution_count": 143,
   "id": "cfdc3652f8ff25dd",
   "metadata": {
    "id": "cfdc3652f8ff25dd"
   },
   "outputs": [],
   "source": [
    "# to perform a train-test split, we can use the train_test_split function from sklearn.\n",
    "from sklearn.model_selection import train_test_split"
   ]
  },
  {
   "cell_type": "code",
   "execution_count": 144,
   "id": "3ff1884a92e3f452",
   "metadata": {
    "id": "3ff1884a92e3f452"
   },
   "outputs": [],
   "source": [
    "# we will split the DataFrame into training and testing sets.  30% of the data will be used for testing, and the rest for training.\n",
    "# The random_state parameter ensures that the split is reproducible.\n",
    "# ensure we split before any further processing to maintain the integrity of the data.\n",
    "df_train, df_test = train_test_split(df_iris, test_size=0.3, random_state=42)"
   ]
  },
  {
   "cell_type": "code",
   "execution_count": 146,
   "id": "f38425769e83122b",
   "metadata": {
    "id": "f38425769e83122b"
   },
   "outputs": [],
   "source": [
    "#scaling data is a common preprocessing step in machine learning.\n",
    "# it puts the data on a similar scale, which can improve the performance of many algorithms.\n",
    "from sklearn.preprocessing import StandardScaler, MinMaxScaler"
   ]
  },
  {
   "cell_type": "code",
   "execution_count": 147,
   "id": "4bdfaa6ef2c7fdd0",
   "metadata": {
    "id": "4bdfaa6ef2c7fdd0"
   },
   "outputs": [],
   "source": [
    "# StadardScaler standardizes features by removing the mean and scaling to unit variance.\n",
    "# MinMaxScaler scales features to a given range, typically between 0 and 1.\n",
    "scaler = StandardScaler()  # Use MinMaxScaler() for normalization between 0 and 1\n",
    "\n",
    "# Fit the scaler to the training data and transform it\n",
    "# This will compute the mean and standard deviation for each feature in the training set.\n",
    "df_train_scaled = scaler.fit_transform(df_train)\n",
    "\n",
    "# Apply the same transformation to the test data\n",
    "# NEVER fit the scaler to the test data, as this would introduce data leakage.\n",
    "df_test_scaled = scaler.transform(df_test)"
   ]
  },
  {
   "cell_type": "code",
   "execution_count": 148,
   "id": "dffdedde07caf4c8",
   "metadata": {
    "colab": {
     "base_uri": "https://localhost:8080/",
     "height": 1000
    },
    "executionInfo": {
     "elapsed": 150,
     "status": "ok",
     "timestamp": 1731626857262,
     "user": {
      "displayName": "Ken Clements",
      "userId": "01172872815397642559"
     },
     "user_tz": 300
    },
    "id": "dffdedde07caf4c8",
    "outputId": "a60b7722-9448-43db-d840-70de1e3154bc"
   },
   "outputs": [
    {
     "data": {
      "text/html": [
       "<div>\n",
       "<style scoped>\n",
       "    .dataframe tbody tr th:only-of-type {\n",
       "        vertical-align: middle;\n",
       "    }\n",
       "\n",
       "    .dataframe tbody tr th {\n",
       "        vertical-align: top;\n",
       "    }\n",
       "\n",
       "    .dataframe thead th {\n",
       "        text-align: right;\n",
       "    }\n",
       "</style>\n",
       "<table border=\"1\" class=\"dataframe\">\n",
       "  <thead>\n",
       "    <tr style=\"text-align: right;\">\n",
       "      <th></th>\n",
       "      <th>sepal length (cm)</th>\n",
       "      <th>sepal width (cm)</th>\n",
       "      <th>petal length (cm)</th>\n",
       "      <th>petal width (cm)</th>\n",
       "      <th>species</th>\n",
       "    </tr>\n",
       "  </thead>\n",
       "  <tbody>\n",
       "    <tr>\n",
       "      <th>73</th>\n",
       "      <td>6.1</td>\n",
       "      <td>2.8</td>\n",
       "      <td>4.7</td>\n",
       "      <td>1.2</td>\n",
       "      <td>1</td>\n",
       "    </tr>\n",
       "    <tr>\n",
       "      <th>18</th>\n",
       "      <td>5.7</td>\n",
       "      <td>3.8</td>\n",
       "      <td>1.7</td>\n",
       "      <td>0.3</td>\n",
       "      <td>0</td>\n",
       "    </tr>\n",
       "    <tr>\n",
       "      <th>118</th>\n",
       "      <td>7.7</td>\n",
       "      <td>2.6</td>\n",
       "      <td>6.9</td>\n",
       "      <td>2.3</td>\n",
       "      <td>2</td>\n",
       "    </tr>\n",
       "    <tr>\n",
       "      <th>78</th>\n",
       "      <td>6.0</td>\n",
       "      <td>2.9</td>\n",
       "      <td>4.5</td>\n",
       "      <td>1.5</td>\n",
       "      <td>1</td>\n",
       "    </tr>\n",
       "    <tr>\n",
       "      <th>76</th>\n",
       "      <td>6.8</td>\n",
       "      <td>2.8</td>\n",
       "      <td>4.8</td>\n",
       "      <td>1.4</td>\n",
       "      <td>1</td>\n",
       "    </tr>\n",
       "    <tr>\n",
       "      <th>31</th>\n",
       "      <td>5.4</td>\n",
       "      <td>3.4</td>\n",
       "      <td>1.5</td>\n",
       "      <td>0.4</td>\n",
       "      <td>0</td>\n",
       "    </tr>\n",
       "    <tr>\n",
       "      <th>64</th>\n",
       "      <td>5.6</td>\n",
       "      <td>2.9</td>\n",
       "      <td>3.6</td>\n",
       "      <td>1.3</td>\n",
       "      <td>1</td>\n",
       "    </tr>\n",
       "    <tr>\n",
       "      <th>141</th>\n",
       "      <td>6.9</td>\n",
       "      <td>3.1</td>\n",
       "      <td>5.1</td>\n",
       "      <td>2.3</td>\n",
       "      <td>2</td>\n",
       "    </tr>\n",
       "    <tr>\n",
       "      <th>68</th>\n",
       "      <td>6.2</td>\n",
       "      <td>2.2</td>\n",
       "      <td>4.5</td>\n",
       "      <td>1.5</td>\n",
       "      <td>1</td>\n",
       "    </tr>\n",
       "    <tr>\n",
       "      <th>82</th>\n",
       "      <td>5.8</td>\n",
       "      <td>2.7</td>\n",
       "      <td>3.9</td>\n",
       "      <td>1.2</td>\n",
       "      <td>1</td>\n",
       "    </tr>\n",
       "    <tr>\n",
       "      <th>110</th>\n",
       "      <td>6.5</td>\n",
       "      <td>3.2</td>\n",
       "      <td>5.1</td>\n",
       "      <td>2.0</td>\n",
       "      <td>2</td>\n",
       "    </tr>\n",
       "    <tr>\n",
       "      <th>12</th>\n",
       "      <td>4.8</td>\n",
       "      <td>3.0</td>\n",
       "      <td>1.4</td>\n",
       "      <td>0.1</td>\n",
       "      <td>0</td>\n",
       "    </tr>\n",
       "    <tr>\n",
       "      <th>36</th>\n",
       "      <td>5.5</td>\n",
       "      <td>3.5</td>\n",
       "      <td>1.3</td>\n",
       "      <td>0.2</td>\n",
       "      <td>0</td>\n",
       "    </tr>\n",
       "    <tr>\n",
       "      <th>9</th>\n",
       "      <td>4.9</td>\n",
       "      <td>3.1</td>\n",
       "      <td>1.5</td>\n",
       "      <td>0.1</td>\n",
       "      <td>0</td>\n",
       "    </tr>\n",
       "    <tr>\n",
       "      <th>19</th>\n",
       "      <td>5.1</td>\n",
       "      <td>3.8</td>\n",
       "      <td>1.5</td>\n",
       "      <td>0.3</td>\n",
       "      <td>0</td>\n",
       "    </tr>\n",
       "    <tr>\n",
       "      <th>56</th>\n",
       "      <td>6.3</td>\n",
       "      <td>3.3</td>\n",
       "      <td>4.7</td>\n",
       "      <td>1.6</td>\n",
       "      <td>1</td>\n",
       "    </tr>\n",
       "    <tr>\n",
       "      <th>104</th>\n",
       "      <td>6.5</td>\n",
       "      <td>3.0</td>\n",
       "      <td>5.8</td>\n",
       "      <td>2.2</td>\n",
       "      <td>2</td>\n",
       "    </tr>\n",
       "    <tr>\n",
       "      <th>69</th>\n",
       "      <td>5.6</td>\n",
       "      <td>2.5</td>\n",
       "      <td>3.9</td>\n",
       "      <td>1.1</td>\n",
       "      <td>1</td>\n",
       "    </tr>\n",
       "    <tr>\n",
       "      <th>55</th>\n",
       "      <td>5.7</td>\n",
       "      <td>2.8</td>\n",
       "      <td>4.5</td>\n",
       "      <td>1.3</td>\n",
       "      <td>1</td>\n",
       "    </tr>\n",
       "    <tr>\n",
       "      <th>132</th>\n",
       "      <td>6.4</td>\n",
       "      <td>2.8</td>\n",
       "      <td>5.6</td>\n",
       "      <td>2.2</td>\n",
       "      <td>2</td>\n",
       "    </tr>\n",
       "    <tr>\n",
       "      <th>29</th>\n",
       "      <td>4.7</td>\n",
       "      <td>3.2</td>\n",
       "      <td>1.6</td>\n",
       "      <td>0.2</td>\n",
       "      <td>0</td>\n",
       "    </tr>\n",
       "    <tr>\n",
       "      <th>127</th>\n",
       "      <td>6.1</td>\n",
       "      <td>3.0</td>\n",
       "      <td>4.9</td>\n",
       "      <td>1.8</td>\n",
       "      <td>2</td>\n",
       "    </tr>\n",
       "    <tr>\n",
       "      <th>26</th>\n",
       "      <td>5.0</td>\n",
       "      <td>3.4</td>\n",
       "      <td>1.6</td>\n",
       "      <td>0.4</td>\n",
       "      <td>0</td>\n",
       "    </tr>\n",
       "    <tr>\n",
       "      <th>128</th>\n",
       "      <td>6.4</td>\n",
       "      <td>2.8</td>\n",
       "      <td>5.6</td>\n",
       "      <td>2.1</td>\n",
       "      <td>2</td>\n",
       "    </tr>\n",
       "    <tr>\n",
       "      <th>131</th>\n",
       "      <td>7.9</td>\n",
       "      <td>3.8</td>\n",
       "      <td>6.4</td>\n",
       "      <td>2.0</td>\n",
       "      <td>2</td>\n",
       "    </tr>\n",
       "    <tr>\n",
       "      <th>145</th>\n",
       "      <td>6.7</td>\n",
       "      <td>3.0</td>\n",
       "      <td>5.2</td>\n",
       "      <td>2.3</td>\n",
       "      <td>2</td>\n",
       "    </tr>\n",
       "    <tr>\n",
       "      <th>108</th>\n",
       "      <td>6.7</td>\n",
       "      <td>2.5</td>\n",
       "      <td>5.8</td>\n",
       "      <td>1.8</td>\n",
       "      <td>2</td>\n",
       "    </tr>\n",
       "    <tr>\n",
       "      <th>143</th>\n",
       "      <td>6.8</td>\n",
       "      <td>3.2</td>\n",
       "      <td>5.9</td>\n",
       "      <td>2.3</td>\n",
       "      <td>2</td>\n",
       "    </tr>\n",
       "    <tr>\n",
       "      <th>45</th>\n",
       "      <td>4.8</td>\n",
       "      <td>3.0</td>\n",
       "      <td>1.4</td>\n",
       "      <td>0.3</td>\n",
       "      <td>0</td>\n",
       "    </tr>\n",
       "    <tr>\n",
       "      <th>30</th>\n",
       "      <td>4.8</td>\n",
       "      <td>3.1</td>\n",
       "      <td>1.6</td>\n",
       "      <td>0.2</td>\n",
       "      <td>0</td>\n",
       "    </tr>\n",
       "    <tr>\n",
       "      <th>22</th>\n",
       "      <td>4.6</td>\n",
       "      <td>3.6</td>\n",
       "      <td>1.0</td>\n",
       "      <td>0.2</td>\n",
       "      <td>0</td>\n",
       "    </tr>\n",
       "    <tr>\n",
       "      <th>15</th>\n",
       "      <td>5.7</td>\n",
       "      <td>4.4</td>\n",
       "      <td>1.5</td>\n",
       "      <td>0.4</td>\n",
       "      <td>0</td>\n",
       "    </tr>\n",
       "    <tr>\n",
       "      <th>65</th>\n",
       "      <td>6.7</td>\n",
       "      <td>3.1</td>\n",
       "      <td>4.4</td>\n",
       "      <td>1.4</td>\n",
       "      <td>1</td>\n",
       "    </tr>\n",
       "    <tr>\n",
       "      <th>11</th>\n",
       "      <td>4.8</td>\n",
       "      <td>3.4</td>\n",
       "      <td>1.6</td>\n",
       "      <td>0.2</td>\n",
       "      <td>0</td>\n",
       "    </tr>\n",
       "    <tr>\n",
       "      <th>42</th>\n",
       "      <td>4.4</td>\n",
       "      <td>3.2</td>\n",
       "      <td>1.3</td>\n",
       "      <td>0.2</td>\n",
       "      <td>0</td>\n",
       "    </tr>\n",
       "    <tr>\n",
       "      <th>146</th>\n",
       "      <td>6.3</td>\n",
       "      <td>2.5</td>\n",
       "      <td>5.0</td>\n",
       "      <td>1.9</td>\n",
       "      <td>2</td>\n",
       "    </tr>\n",
       "    <tr>\n",
       "      <th>51</th>\n",
       "      <td>6.4</td>\n",
       "      <td>3.2</td>\n",
       "      <td>4.5</td>\n",
       "      <td>1.5</td>\n",
       "      <td>1</td>\n",
       "    </tr>\n",
       "    <tr>\n",
       "      <th>27</th>\n",
       "      <td>5.2</td>\n",
       "      <td>3.5</td>\n",
       "      <td>1.5</td>\n",
       "      <td>0.2</td>\n",
       "      <td>0</td>\n",
       "    </tr>\n",
       "    <tr>\n",
       "      <th>4</th>\n",
       "      <td>5.0</td>\n",
       "      <td>3.6</td>\n",
       "      <td>1.4</td>\n",
       "      <td>0.2</td>\n",
       "      <td>0</td>\n",
       "    </tr>\n",
       "    <tr>\n",
       "      <th>32</th>\n",
       "      <td>5.2</td>\n",
       "      <td>4.1</td>\n",
       "      <td>1.5</td>\n",
       "      <td>0.1</td>\n",
       "      <td>0</td>\n",
       "    </tr>\n",
       "    <tr>\n",
       "      <th>142</th>\n",
       "      <td>5.8</td>\n",
       "      <td>2.7</td>\n",
       "      <td>5.1</td>\n",
       "      <td>1.9</td>\n",
       "      <td>2</td>\n",
       "    </tr>\n",
       "    <tr>\n",
       "      <th>85</th>\n",
       "      <td>6.0</td>\n",
       "      <td>3.4</td>\n",
       "      <td>4.5</td>\n",
       "      <td>1.6</td>\n",
       "      <td>1</td>\n",
       "    </tr>\n",
       "    <tr>\n",
       "      <th>86</th>\n",
       "      <td>6.7</td>\n",
       "      <td>3.1</td>\n",
       "      <td>4.7</td>\n",
       "      <td>1.5</td>\n",
       "      <td>1</td>\n",
       "    </tr>\n",
       "    <tr>\n",
       "      <th>16</th>\n",
       "      <td>5.4</td>\n",
       "      <td>3.9</td>\n",
       "      <td>1.3</td>\n",
       "      <td>0.4</td>\n",
       "      <td>0</td>\n",
       "    </tr>\n",
       "    <tr>\n",
       "      <th>10</th>\n",
       "      <td>5.4</td>\n",
       "      <td>3.7</td>\n",
       "      <td>1.5</td>\n",
       "      <td>0.2</td>\n",
       "      <td>0</td>\n",
       "    </tr>\n",
       "  </tbody>\n",
       "</table>\n",
       "</div>"
      ],
      "text/plain": [
       "     sepal length (cm)  sepal width (cm)  petal length (cm)  petal width (cm)  \\\n",
       "73                 6.1               2.8                4.7               1.2   \n",
       "18                 5.7               3.8                1.7               0.3   \n",
       "118                7.7               2.6                6.9               2.3   \n",
       "78                 6.0               2.9                4.5               1.5   \n",
       "76                 6.8               2.8                4.8               1.4   \n",
       "31                 5.4               3.4                1.5               0.4   \n",
       "64                 5.6               2.9                3.6               1.3   \n",
       "141                6.9               3.1                5.1               2.3   \n",
       "68                 6.2               2.2                4.5               1.5   \n",
       "82                 5.8               2.7                3.9               1.2   \n",
       "110                6.5               3.2                5.1               2.0   \n",
       "12                 4.8               3.0                1.4               0.1   \n",
       "36                 5.5               3.5                1.3               0.2   \n",
       "9                  4.9               3.1                1.5               0.1   \n",
       "19                 5.1               3.8                1.5               0.3   \n",
       "56                 6.3               3.3                4.7               1.6   \n",
       "104                6.5               3.0                5.8               2.2   \n",
       "69                 5.6               2.5                3.9               1.1   \n",
       "55                 5.7               2.8                4.5               1.3   \n",
       "132                6.4               2.8                5.6               2.2   \n",
       "29                 4.7               3.2                1.6               0.2   \n",
       "127                6.1               3.0                4.9               1.8   \n",
       "26                 5.0               3.4                1.6               0.4   \n",
       "128                6.4               2.8                5.6               2.1   \n",
       "131                7.9               3.8                6.4               2.0   \n",
       "145                6.7               3.0                5.2               2.3   \n",
       "108                6.7               2.5                5.8               1.8   \n",
       "143                6.8               3.2                5.9               2.3   \n",
       "45                 4.8               3.0                1.4               0.3   \n",
       "30                 4.8               3.1                1.6               0.2   \n",
       "22                 4.6               3.6                1.0               0.2   \n",
       "15                 5.7               4.4                1.5               0.4   \n",
       "65                 6.7               3.1                4.4               1.4   \n",
       "11                 4.8               3.4                1.6               0.2   \n",
       "42                 4.4               3.2                1.3               0.2   \n",
       "146                6.3               2.5                5.0               1.9   \n",
       "51                 6.4               3.2                4.5               1.5   \n",
       "27                 5.2               3.5                1.5               0.2   \n",
       "4                  5.0               3.6                1.4               0.2   \n",
       "32                 5.2               4.1                1.5               0.1   \n",
       "142                5.8               2.7                5.1               1.9   \n",
       "85                 6.0               3.4                4.5               1.6   \n",
       "86                 6.7               3.1                4.7               1.5   \n",
       "16                 5.4               3.9                1.3               0.4   \n",
       "10                 5.4               3.7                1.5               0.2   \n",
       "\n",
       "     species  \n",
       "73         1  \n",
       "18         0  \n",
       "118        2  \n",
       "78         1  \n",
       "76         1  \n",
       "31         0  \n",
       "64         1  \n",
       "141        2  \n",
       "68         1  \n",
       "82         1  \n",
       "110        2  \n",
       "12         0  \n",
       "36         0  \n",
       "9          0  \n",
       "19         0  \n",
       "56         1  \n",
       "104        2  \n",
       "69         1  \n",
       "55         1  \n",
       "132        2  \n",
       "29         0  \n",
       "127        2  \n",
       "26         0  \n",
       "128        2  \n",
       "131        2  \n",
       "145        2  \n",
       "108        2  \n",
       "143        2  \n",
       "45         0  \n",
       "30         0  \n",
       "22         0  \n",
       "15         0  \n",
       "65         1  \n",
       "11         0  \n",
       "42         0  \n",
       "146        2  \n",
       "51         1  \n",
       "27         0  \n",
       "4          0  \n",
       "32         0  \n",
       "142        2  \n",
       "85         1  \n",
       "86         1  \n",
       "16         0  \n",
       "10         0  "
      ]
     },
     "execution_count": 148,
     "metadata": {},
     "output_type": "execute_result"
    }
   ],
   "source": [
    "df_test"
   ]
  },
  {
   "cell_type": "code",
   "execution_count": null,
   "id": "2443d01b619dcb9f",
   "metadata": {
    "colab": {
     "base_uri": "https://localhost:8080/"
    },
    "executionInfo": {
     "elapsed": 142,
     "status": "ok",
     "timestamp": 1731626858117,
     "user": {
      "displayName": "Ken Clements",
      "userId": "01172872815397642559"
     },
     "user_tz": 300
    },
    "id": "2443d01b619dcb9f",
    "outputId": "49a32647-deb1-4b33-8501-b62dbf30b89f"
   },
   "outputs": [
    {
     "data": {
      "text/plain": [
       "array([[ 0.3100623 , -0.50256349,  0.484213  , -0.05282593, -0.07118685],\n",
       "       [-0.17225683,  1.89603497, -1.26695916, -1.27039917, -1.31695672],\n",
       "       [ 2.23933883, -0.98228318,  1.76840592,  1.43531914,  1.17458302],\n",
       "       [ 0.18948252, -0.26270364,  0.36746819,  0.35303182, -0.07118685],\n",
       "       [ 1.15412078, -0.50256349,  0.54258541,  0.2177459 , -0.07118685],\n",
       "       [-0.53399618,  0.93659559, -1.38370397, -1.13511325, -1.31695672],\n",
       "       [-0.29283662, -0.26270364, -0.15788346,  0.08245999, -0.07118685],\n",
       "       [ 1.27470056,  0.21701605,  0.71770262,  1.43531914,  1.17458302],\n",
       "       [ 0.43064208, -1.94172256,  0.36746819,  0.35303182, -0.07118685],\n",
       "       [-0.05167705, -0.74242333,  0.01723376, -0.05282593, -0.07118685],\n",
       "       [ 0.79238143,  0.4568759 ,  0.71770262,  1.0294614 ,  1.17458302],\n",
       "       [-1.25747488, -0.02284379, -1.44207638, -1.540971  , -1.31695672],\n",
       "       [-0.4134164 ,  1.17645543, -1.50044878, -1.40568508, -1.31695672],\n",
       "       [-1.1368951 ,  0.21701605, -1.38370397, -1.540971  , -1.31695672],\n",
       "       [-0.89573553,  1.89603497, -1.38370397, -1.27039917, -1.31695672],\n",
       "       [ 0.55122187,  0.69673574,  0.484213  ,  0.48831773, -0.07118685],\n",
       "       [ 0.79238143, -0.02284379,  1.12630946,  1.30003323,  1.17458302],\n",
       "       [-0.29283662, -1.22214302,  0.01723376, -0.18811184, -0.07118685],\n",
       "       [-0.17225683, -0.50256349,  0.36746819,  0.08245999, -0.07118685],\n",
       "       [ 0.67180165, -0.50256349,  1.00956465,  1.30003323,  1.17458302],\n",
       "       [-1.37805466,  0.4568759 , -1.32533157, -1.40568508, -1.31695672],\n",
       "       [ 0.3100623 , -0.02284379,  0.60095781,  0.75888956,  1.17458302],\n",
       "       [-1.01631531,  0.93659559, -1.32533157, -1.13511325, -1.31695672],\n",
       "       [ 0.67180165, -0.50256349,  1.00956465,  1.16474731,  1.17458302],\n",
       "       [ 2.4804984 ,  1.89603497,  1.47654389,  1.0294614 ,  1.17458302],\n",
       "       [ 1.033541  , -0.02284379,  0.77607503,  1.43531914,  1.17458302],\n",
       "       [ 1.033541  , -1.22214302,  1.12630946,  0.75888956,  1.17458302],\n",
       "       [ 1.15412078,  0.4568759 ,  1.18468187,  1.43531914,  1.17458302],\n",
       "       [-1.25747488, -0.02284379, -1.44207638, -1.27039917, -1.31695672],\n",
       "       [-1.25747488,  0.21701605, -1.32533157, -1.40568508, -1.31695672],\n",
       "       [-1.49863445,  1.41631528, -1.675566  , -1.40568508, -1.31695672],\n",
       "       [-0.17225683,  3.33519404, -1.38370397, -1.13511325, -1.31695672],\n",
       "       [ 1.033541  ,  0.21701605,  0.30909579,  0.2177459 , -0.07118685],\n",
       "       [-1.25747488,  0.93659559, -1.32533157, -1.40568508, -1.31695672],\n",
       "       [-1.73979401,  0.4568759 , -1.50044878, -1.40568508, -1.31695672],\n",
       "       [ 0.55122187, -1.22214302,  0.65933022,  0.89417548,  1.17458302],\n",
       "       [ 0.67180165,  0.4568759 ,  0.36746819,  0.35303182, -0.07118685],\n",
       "       [-0.77515575,  1.17645543, -1.38370397, -1.40568508, -1.31695672],\n",
       "       [-1.01631531,  1.41631528, -1.44207638, -1.40568508, -1.31695672],\n",
       "       [-0.77515575,  2.6156145 , -1.38370397, -1.540971  , -1.31695672],\n",
       "       [-0.05167705, -0.74242333,  0.71770262,  0.89417548,  1.17458302],\n",
       "       [ 0.18948252,  0.93659559,  0.36746819,  0.48831773, -0.07118685],\n",
       "       [ 1.033541  ,  0.21701605,  0.484213  ,  0.35303182, -0.07118685],\n",
       "       [-0.53399618,  2.13589481, -1.50044878, -1.13511325, -1.31695672],\n",
       "       [-0.53399618,  1.65617512, -1.38370397, -1.40568508, -1.31695672]])"
      ]
     },
     "execution_count": 80,
     "metadata": {},
     "output_type": "execute_result"
    }
   ],
   "source": [
    "df_test_scaled"
   ]
  },
  {
   "cell_type": "code",
   "execution_count": null,
   "id": "ced8950b7038936b",
   "metadata": {
    "id": "ced8950b7038936b"
   },
   "outputs": [],
   "source": [
    "data = np.array([[[1.5, -0.1, 3], [0, -3, 6.5], [0, -3, 6.5]],[[1.5, -0.1, 3], [0, -3, 6.5], [0, -3, 6.5]]])"
   ]
  },
  {
   "cell_type": "code",
   "execution_count": null,
   "id": "df9f4cdc6fe2d016",
   "metadata": {
    "colab": {
     "base_uri": "https://localhost:8080/"
    },
    "executionInfo": {
     "elapsed": 129,
     "status": "ok",
     "timestamp": 1731626859439,
     "user": {
      "displayName": "Ken Clements",
      "userId": "01172872815397642559"
     },
     "user_tz": 300
    },
    "id": "df9f4cdc6fe2d016",
    "outputId": "79daf5e7-b830-4819-afc8-96a1476d9536"
   },
   "outputs": [
    {
     "data": {
      "text/plain": [
       "array([[[ 1.5, -0.1,  3. ],\n",
       "        [ 0. , -3. ,  6.5],\n",
       "        [ 0. , -3. ,  6.5]],\n",
       "\n",
       "       [[ 1.5, -0.1,  3. ],\n",
       "        [ 0. , -3. ,  6.5],\n",
       "        [ 0. , -3. ,  6.5]]])"
      ]
     },
     "execution_count": 82,
     "metadata": {},
     "output_type": "execute_result"
    }
   ],
   "source": [
    "data"
   ]
  },
  {
   "cell_type": "code",
   "execution_count": null,
   "id": "457b02e865040b15",
   "metadata": {
    "colab": {
     "base_uri": "https://localhost:8080/"
    },
    "executionInfo": {
     "elapsed": 141,
     "status": "ok",
     "timestamp": 1731626860122,
     "user": {
      "displayName": "Ken Clements",
      "userId": "01172872815397642559"
     },
     "user_tz": 300
    },
    "id": "457b02e865040b15",
    "outputId": "d03e2e81-b095-405a-fa1e-c70fd365afed"
   },
   "outputs": [
    {
     "data": {
      "text/plain": [
       "(2, 3, 3)"
      ]
     },
     "execution_count": 83,
     "metadata": {},
     "output_type": "execute_result"
    }
   ],
   "source": [
    "data.shape"
   ]
  },
  {
   "cell_type": "code",
   "execution_count": null,
   "id": "e35ddc9a03134f9f",
   "metadata": {
    "colab": {
     "base_uri": "https://localhost:8080/"
    },
    "executionInfo": {
     "elapsed": 159,
     "status": "ok",
     "timestamp": 1731626860824,
     "user": {
      "displayName": "Ken Clements",
      "userId": "01172872815397642559"
     },
     "user_tz": 300
    },
    "id": "e35ddc9a03134f9f",
    "outputId": "8cfebf90-bbf1-4abf-c58d-2331293b8137"
   },
   "outputs": [
    {
     "data": {
      "text/plain": [
       "3"
      ]
     },
     "execution_count": 84,
     "metadata": {},
     "output_type": "execute_result"
    }
   ],
   "source": [
    "data.ndim"
   ]
  },
  {
   "cell_type": "code",
   "execution_count": null,
   "id": "7c81c8d9d638e116",
   "metadata": {
    "colab": {
     "base_uri": "https://localhost:8080/"
    },
    "executionInfo": {
     "elapsed": 128,
     "status": "ok",
     "timestamp": 1731626861311,
     "user": {
      "displayName": "Ken Clements",
      "userId": "01172872815397642559"
     },
     "user_tz": 300
    },
    "id": "7c81c8d9d638e116",
    "outputId": "911749c3-e4ef-4898-902b-0dd8ced0700f"
   },
   "outputs": [
    {
     "data": {
      "text/plain": [
       "array([[[[  2.25,  -8.85,  23.35],\n",
       "         [  2.25,  -8.85,  23.35]],\n",
       "\n",
       "        [[  0.  , -10.5 ,  22.75],\n",
       "         [  0.  , -10.5 ,  22.75]],\n",
       "\n",
       "        [[  0.  , -10.5 ,  22.75],\n",
       "         [  0.  , -10.5 ,  22.75]]],\n",
       "\n",
       "\n",
       "       [[[  2.25,  -8.85,  23.35],\n",
       "         [  2.25,  -8.85,  23.35]],\n",
       "\n",
       "        [[  0.  , -10.5 ,  22.75],\n",
       "         [  0.  , -10.5 ,  22.75]],\n",
       "\n",
       "        [[  0.  , -10.5 ,  22.75],\n",
       "         [  0.  , -10.5 ,  22.75]]]])"
      ]
     },
     "execution_count": 85,
     "metadata": {},
     "output_type": "execute_result"
    }
   ],
   "source": [
    "np.dot(data, data)"
   ]
  },
  {
   "cell_type": "code",
   "execution_count": null,
   "id": "f0ff8722fe101357",
   "metadata": {
    "colab": {
     "base_uri": "https://localhost:8080/"
    },
    "executionInfo": {
     "elapsed": 136,
     "status": "ok",
     "timestamp": 1731626862004,
     "user": {
      "displayName": "Ken Clements",
      "userId": "01172872815397642559"
     },
     "user_tz": 300
    },
    "id": "f0ff8722fe101357",
    "outputId": "06853f54-091d-4bb6-812d-7ad405ae45f1"
   },
   "outputs": [
    {
     "data": {
      "text/plain": [
       "array([0., 0., 0., 0., 0., 0., 0., 0., 0., 0.])"
      ]
     },
     "execution_count": 86,
     "metadata": {},
     "output_type": "execute_result"
    }
   ],
   "source": [
    "np.zeros(10)"
   ]
  },
  {
   "cell_type": "code",
   "execution_count": null,
   "id": "423f247448890bd2",
   "metadata": {
    "colab": {
     "base_uri": "https://localhost:8080/"
    },
    "executionInfo": {
     "elapsed": 136,
     "status": "ok",
     "timestamp": 1731626862512,
     "user": {
      "displayName": "Ken Clements",
      "userId": "01172872815397642559"
     },
     "user_tz": 300
    },
    "id": "423f247448890bd2",
    "outputId": "ec91f15f-8bdc-4452-9bac-4dbe86296e85"
   },
   "outputs": [
    {
     "data": {
      "text/plain": [
       "array([[0., 0., 0., 0., 0.],\n",
       "       [0., 0., 0., 0., 0.],\n",
       "       [0., 0., 0., 0., 0.],\n",
       "       [0., 0., 0., 0., 0.],\n",
       "       [0., 0., 0., 0., 0.],\n",
       "       [0., 0., 0., 0., 0.],\n",
       "       [0., 0., 0., 0., 0.],\n",
       "       [0., 0., 0., 0., 0.],\n",
       "       [0., 0., 0., 0., 0.],\n",
       "       [0., 0., 0., 0., 0.]])"
      ]
     },
     "execution_count": 87,
     "metadata": {},
     "output_type": "execute_result"
    }
   ],
   "source": [
    "np.zeros((10,5))"
   ]
  },
  {
   "cell_type": "code",
   "execution_count": null,
   "id": "fe6ad451d56bad22",
   "metadata": {
    "colab": {
     "base_uri": "https://localhost:8080/"
    },
    "executionInfo": {
     "elapsed": 139,
     "status": "ok",
     "timestamp": 1731626863094,
     "user": {
      "displayName": "Ken Clements",
      "userId": "01172872815397642559"
     },
     "user_tz": 300
    },
    "id": "fe6ad451d56bad22",
    "outputId": "c7d49189-ffb9-42f7-8161-925c0a456f52"
   },
   "outputs": [
    {
     "data": {
      "text/plain": [
       "array([[0., 0., 0., 0., 0.],\n",
       "       [0., 0., 0., 0., 0.],\n",
       "       [0., 0., 0., 0., 0.],\n",
       "       [0., 0., 0., 0., 0.],\n",
       "       [0., 0., 0., 0., 0.],\n",
       "       [0., 0., 0., 0., 0.],\n",
       "       [0., 0., 0., 0., 0.],\n",
       "       [0., 0., 0., 0., 0.],\n",
       "       [0., 0., 0., 0., 0.],\n",
       "       [0., 0., 0., 0., 0.]])"
      ]
     },
     "execution_count": 88,
     "metadata": {},
     "output_type": "execute_result"
    }
   ],
   "source": [
    "np.empty((10,5))"
   ]
  },
  {
   "cell_type": "code",
   "execution_count": null,
   "id": "717284e4bd36ff18",
   "metadata": {
    "id": "717284e4bd36ff18"
   },
   "outputs": [],
   "source": [
    "df_id = np.identity(5)"
   ]
  },
  {
   "cell_type": "code",
   "execution_count": null,
   "id": "f6562c89e493006c",
   "metadata": {
    "colab": {
     "base_uri": "https://localhost:8080/"
    },
    "executionInfo": {
     "elapsed": 2,
     "status": "ok",
     "timestamp": 1731626864189,
     "user": {
      "displayName": "Ken Clements",
      "userId": "01172872815397642559"
     },
     "user_tz": 300
    },
    "id": "f6562c89e493006c",
    "outputId": "c9150485-2332-45b4-e6d4-1b9afd328829"
   },
   "outputs": [
    {
     "data": {
      "text/plain": [
       "array([[1., 0., 0., 0., 0.],\n",
       "       [0., 1., 0., 0., 0.],\n",
       "       [0., 0., 1., 0., 0.],\n",
       "       [0., 0., 0., 1., 0.],\n",
       "       [0., 0., 0., 0., 1.]])"
      ]
     },
     "execution_count": 90,
     "metadata": {},
     "output_type": "execute_result"
    }
   ],
   "source": [
    "df_id"
   ]
  },
  {
   "cell_type": "code",
   "execution_count": null,
   "id": "94e8cff6592285ad",
   "metadata": {
    "colab": {
     "base_uri": "https://localhost:8080/"
    },
    "executionInfo": {
     "elapsed": 1,
     "status": "ok",
     "timestamp": 1731626864724,
     "user": {
      "displayName": "Ken Clements",
      "userId": "01172872815397642559"
     },
     "user_tz": 300
    },
    "id": "94e8cff6592285ad",
    "outputId": "7f6c70db-3e48-48ec-ac6a-9d91b331b5eb"
   },
   "outputs": [
    {
     "data": {
      "text/plain": [
       "array([[1., 0., 0.],\n",
       "       [0., 1., 0.],\n",
       "       [0., 0., 1.],\n",
       "       [0., 0., 0.],\n",
       "       [0., 0., 0.]])"
      ]
     },
     "execution_count": 91,
     "metadata": {},
     "output_type": "execute_result"
    }
   ],
   "source": [
    "df_id[:,:3]"
   ]
  }
 ],
 "metadata": {
  "colab": {
   "provenance": [
    {
     "file_id": "1t57iu_-u67KiN4UO8TW1UDxdpHYZINq2",
     "timestamp": 1736531931844
    }
   ]
  },
  "kernelspec": {
   "display_name": ".venv",
   "language": "python",
   "name": "python3"
  },
  "language_info": {
   "codemirror_mode": {
    "name": "ipython",
    "version": 3
   },
   "file_extension": ".py",
   "mimetype": "text/x-python",
   "name": "python",
   "nbconvert_exporter": "python",
   "pygments_lexer": "ipython3",
   "version": "3.12.10"
  }
 },
 "nbformat": 4,
 "nbformat_minor": 5
}
